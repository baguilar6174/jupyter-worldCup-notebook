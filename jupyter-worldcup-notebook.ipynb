{
 "cells": [
  {
   "cell_type": "code",
   "execution_count": 1,
   "id": "547d4c4e",
   "metadata": {
    "_cell_guid": "b1076dfc-b9ad-4769-8c92-a6c4dae69d19",
    "_uuid": "8f2839f25d086af736a60e9eeb907d3b93b6e0e5",
    "execution": {
     "iopub.execute_input": "2024-01-13T03:40:43.509818Z",
     "iopub.status.busy": "2024-01-13T03:40:43.509332Z",
     "iopub.status.idle": "2024-01-13T03:40:59.140629Z",
     "shell.execute_reply": "2024-01-13T03:40:59.139154Z"
    },
    "papermill": {
     "duration": 15.647309,
     "end_time": "2024-01-13T03:40:59.143971",
     "exception": false,
     "start_time": "2024-01-13T03:40:43.496662",
     "status": "completed"
    },
    "tags": []
   },
   "outputs": [
    {
     "name": "stdout",
     "output_type": "stream",
     "text": [
      "Requirement already satisfied: polars in /opt/conda/lib/python3.10/site-packages (0.20.3)\r\n"
     ]
    }
   ],
   "source": [
    "!pip install polars"
   ]
  },
  {
   "cell_type": "markdown",
   "id": "7d8a2cb1",
   "metadata": {
    "papermill": {
     "duration": 0.010487,
     "end_time": "2024-01-13T03:40:59.165337",
     "exception": false,
     "start_time": "2024-01-13T03:40:59.154850",
     "status": "completed"
    },
    "tags": []
   },
   "source": [
    "# Fifa Matches Analysis\n",
    "## Questions for the analisys\n",
    "- Which team scored the most goals in a home game?\n",
    "- We want to know which soccer games the result was more than 10 goals, adding the goals of the home team and the away team.\n",
    "- Number of main referees who have repeated games in a World Cup\n",
    "- Number of matches played in each world cup\n",
    "- Number of goals scored by the home and away teams in the first half of each game.\n",
    "- Which is the city where the most World Cup matches have been played.\n",
    "- Number of goals in each world cup for the visiting team and the home team."
   ]
  },
  {
   "cell_type": "markdown",
   "id": "b4a76c1f",
   "metadata": {
    "papermill": {
     "duration": 0.010084,
     "end_time": "2024-01-13T03:40:59.186343",
     "exception": false,
     "start_time": "2024-01-13T03:40:59.176259",
     "status": "completed"
    },
    "tags": []
   },
   "source": [
    "## Libs to use"
   ]
  },
  {
   "cell_type": "code",
   "execution_count": 2,
   "id": "f7be0537",
   "metadata": {
    "execution": {
     "iopub.execute_input": "2024-01-13T03:40:59.209551Z",
     "iopub.status.busy": "2024-01-13T03:40:59.209109Z",
     "iopub.status.idle": "2024-01-13T03:41:00.919650Z",
     "shell.execute_reply": "2024-01-13T03:41:00.918457Z"
    },
    "papermill": {
     "duration": 1.725596,
     "end_time": "2024-01-13T03:41:00.922436",
     "exception": false,
     "start_time": "2024-01-13T03:40:59.196840",
     "status": "completed"
    },
    "tags": []
   },
   "outputs": [],
   "source": [
    "import polars as pl\n",
    "import matplotlib.pyplot as ptl\n",
    "import numpy as np\n",
    "import plotly.express as px"
   ]
  },
  {
   "cell_type": "markdown",
   "id": "c41f9244",
   "metadata": {
    "papermill": {
     "duration": 0.010491,
     "end_time": "2024-01-13T03:41:00.943779",
     "exception": false,
     "start_time": "2024-01-13T03:41:00.933288",
     "status": "completed"
    },
    "tags": []
   },
   "source": [
    "## Import our data"
   ]
  },
  {
   "cell_type": "code",
   "execution_count": 3,
   "id": "e7e5e7ab",
   "metadata": {
    "execution": {
     "iopub.execute_input": "2024-01-13T03:41:00.967576Z",
     "iopub.status.busy": "2024-01-13T03:41:00.966353Z",
     "iopub.status.idle": "2024-01-13T03:41:01.182511Z",
     "shell.execute_reply": "2024-01-13T03:41:01.181305Z"
    },
    "papermill": {
     "duration": 0.230565,
     "end_time": "2024-01-13T03:41:01.185305",
     "exception": false,
     "start_time": "2024-01-13T03:41:00.954740",
     "status": "completed"
    },
    "tags": []
   },
   "outputs": [
    {
     "data": {
      "text/html": [
       "<div><style>\n",
       ".dataframe > thead > tr,\n",
       ".dataframe > tbody > tr {\n",
       "  text-align: right;\n",
       "  white-space: pre-wrap;\n",
       "}\n",
       "</style>\n",
       "<small>shape: (4_572, 20)</small><table border=\"1\" class=\"dataframe\"><thead><tr><th>Year</th><th>Datetime</th><th>Stage</th><th>Stadium</th><th>City</th><th>Home Team Name</th><th>Home Team Goals</th><th>Away Team Goals</th><th>Away Team Name</th><th>Win conditions</th><th>Attendance</th><th>Half-time Home Goals</th><th>Half-time Away Goals</th><th>Referee</th><th>Assistant 1</th><th>Assistant 2</th><th>RoundID</th><th>MatchID</th><th>Home Team Initials</th><th>Away Team Initials</th></tr><tr><td>i64</td><td>str</td><td>str</td><td>str</td><td>str</td><td>str</td><td>i64</td><td>i64</td><td>str</td><td>str</td><td>i64</td><td>i64</td><td>i64</td><td>str</td><td>str</td><td>str</td><td>i64</td><td>i64</td><td>str</td><td>str</td></tr></thead><tbody><tr><td>1930</td><td>&quot;13 Jul 1930 - …</td><td>&quot;Group 1&quot;</td><td>&quot;Pocitos&quot;</td><td>&quot;Montevideo &quot;</td><td>&quot;France&quot;</td><td>4</td><td>1</td><td>&quot;Mexico&quot;</td><td>&quot; &quot;</td><td>4444</td><td>3</td><td>0</td><td>&quot;LOMBARDI Domin…</td><td>&quot;CRISTOPHE Henr…</td><td>&quot;REGO Gilberto …</td><td>201</td><td>1096</td><td>&quot;FRA&quot;</td><td>&quot;MEX&quot;</td></tr><tr><td>1930</td><td>&quot;13 Jul 1930 - …</td><td>&quot;Group 4&quot;</td><td>&quot;Parque Central…</td><td>&quot;Montevideo &quot;</td><td>&quot;USA&quot;</td><td>3</td><td>0</td><td>&quot;Belgium&quot;</td><td>&quot; &quot;</td><td>18346</td><td>2</td><td>0</td><td>&quot;MACIAS Jose (A…</td><td>&quot;MATEUCCI Franc…</td><td>&quot;WARNKEN Albert…</td><td>201</td><td>1090</td><td>&quot;USA&quot;</td><td>&quot;BEL&quot;</td></tr><tr><td>1930</td><td>&quot;14 Jul 1930 - …</td><td>&quot;Group 2&quot;</td><td>&quot;Parque Central…</td><td>&quot;Montevideo &quot;</td><td>&quot;Yugoslavia&quot;</td><td>2</td><td>1</td><td>&quot;Brazil&quot;</td><td>&quot; &quot;</td><td>24059</td><td>2</td><td>0</td><td>&quot;TEJADA Anibal …</td><td>&quot;VALLARINO Rica…</td><td>&quot;BALWAY Thomas …</td><td>201</td><td>1093</td><td>&quot;YUG&quot;</td><td>&quot;BRA&quot;</td></tr><tr><td>1930</td><td>&quot;14 Jul 1930 - …</td><td>&quot;Group 3&quot;</td><td>&quot;Pocitos&quot;</td><td>&quot;Montevideo &quot;</td><td>&quot;Romania&quot;</td><td>3</td><td>1</td><td>&quot;Peru&quot;</td><td>&quot; &quot;</td><td>2549</td><td>1</td><td>0</td><td>&quot;WARNKEN Albert…</td><td>&quot;LANGENUS Jean …</td><td>&quot;MATEUCCI Franc…</td><td>201</td><td>1098</td><td>&quot;ROU&quot;</td><td>&quot;PER&quot;</td></tr><tr><td>1930</td><td>&quot;15 Jul 1930 - …</td><td>&quot;Group 1&quot;</td><td>&quot;Parque Central…</td><td>&quot;Montevideo &quot;</td><td>&quot;Argentina&quot;</td><td>1</td><td>0</td><td>&quot;France&quot;</td><td>&quot; &quot;</td><td>23409</td><td>0</td><td>0</td><td>&quot;REGO Gilberto …</td><td>&quot;SAUCEDO Ulises…</td><td>&quot;RADULESCU Cons…</td><td>201</td><td>1085</td><td>&quot;ARG&quot;</td><td>&quot;FRA&quot;</td></tr><tr><td>1930</td><td>&quot;16 Jul 1930 - …</td><td>&quot;Group 1&quot;</td><td>&quot;Parque Central…</td><td>&quot;Montevideo &quot;</td><td>&quot;Chile&quot;</td><td>3</td><td>0</td><td>&quot;Mexico&quot;</td><td>&quot; &quot;</td><td>9249</td><td>1</td><td>0</td><td>&quot;CRISTOPHE Henr…</td><td>&quot;APHESTEGUY Mar…</td><td>&quot;LANGENUS Jean …</td><td>201</td><td>1095</td><td>&quot;CHI&quot;</td><td>&quot;MEX&quot;</td></tr><tr><td>1930</td><td>&quot;17 Jul 1930 - …</td><td>&quot;Group 2&quot;</td><td>&quot;Parque Central…</td><td>&quot;Montevideo &quot;</td><td>&quot;Yugoslavia&quot;</td><td>4</td><td>0</td><td>&quot;Bolivia&quot;</td><td>&quot; &quot;</td><td>18306</td><td>0</td><td>0</td><td>&quot;MATEUCCI Franc…</td><td>&quot;LOMBARDI Domin…</td><td>&quot;WARNKEN Albert…</td><td>201</td><td>1092</td><td>&quot;YUG&quot;</td><td>&quot;BOL&quot;</td></tr><tr><td>1930</td><td>&quot;17 Jul 1930 - …</td><td>&quot;Group 4&quot;</td><td>&quot;Parque Central…</td><td>&quot;Montevideo &quot;</td><td>&quot;USA&quot;</td><td>3</td><td>0</td><td>&quot;Paraguay&quot;</td><td>&quot; &quot;</td><td>18306</td><td>2</td><td>0</td><td>&quot;MACIAS Jose (A…</td><td>&quot;APHESTEGUY Mar…</td><td>&quot;TEJADA Anibal …</td><td>201</td><td>1097</td><td>&quot;USA&quot;</td><td>&quot;PAR&quot;</td></tr><tr><td>1930</td><td>&quot;18 Jul 1930 - …</td><td>&quot;Group 3&quot;</td><td>&quot;Estadio Centen…</td><td>&quot;Montevideo &quot;</td><td>&quot;Uruguay&quot;</td><td>1</td><td>0</td><td>&quot;Peru&quot;</td><td>&quot; &quot;</td><td>57735</td><td>0</td><td>0</td><td>&quot;LANGENUS Jean …</td><td>&quot;BALWAY Thomas …</td><td>&quot;CRISTOPHE Henr…</td><td>201</td><td>1099</td><td>&quot;URU&quot;</td><td>&quot;PER&quot;</td></tr><tr><td>1930</td><td>&quot;19 Jul 1930 - …</td><td>&quot;Group 1&quot;</td><td>&quot;Estadio Centen…</td><td>&quot;Montevideo &quot;</td><td>&quot;Chile&quot;</td><td>1</td><td>0</td><td>&quot;France&quot;</td><td>&quot; &quot;</td><td>2000</td><td>0</td><td>0</td><td>&quot;TEJADA Anibal …</td><td>&quot;LOMBARDI Domin…</td><td>&quot;REGO Gilberto …</td><td>201</td><td>1094</td><td>&quot;CHI&quot;</td><td>&quot;FRA&quot;</td></tr><tr><td>1930</td><td>&quot;19 Jul 1930 - …</td><td>&quot;Group 1&quot;</td><td>&quot;Estadio Centen…</td><td>&quot;Montevideo &quot;</td><td>&quot;Argentina&quot;</td><td>6</td><td>3</td><td>&quot;Mexico&quot;</td><td>&quot; &quot;</td><td>42100</td><td>3</td><td>1</td><td>&quot;SAUCEDO Ulises…</td><td>&quot;ALONSO Gualber…</td><td>&quot;RADULESCU Cons…</td><td>201</td><td>1086</td><td>&quot;ARG&quot;</td><td>&quot;MEX&quot;</td></tr><tr><td>1930</td><td>&quot;20 Jul 1930 - …</td><td>&quot;Group 2&quot;</td><td>&quot;Estadio Centen…</td><td>&quot;Montevideo &quot;</td><td>&quot;Brazil&quot;</td><td>4</td><td>0</td><td>&quot;Bolivia&quot;</td><td>&quot; &quot;</td><td>25466</td><td>1</td><td>0</td><td>&quot;BALWAY Thomas …</td><td>&quot;MATEUCCI Franc…</td><td>&quot;VALLEJO Gaspar…</td><td>201</td><td>1091</td><td>&quot;BRA&quot;</td><td>&quot;BOL&quot;</td></tr><tr><td>&hellip;</td><td>&hellip;</td><td>&hellip;</td><td>&hellip;</td><td>&hellip;</td><td>&hellip;</td><td>&hellip;</td><td>&hellip;</td><td>&hellip;</td><td>&hellip;</td><td>&hellip;</td><td>&hellip;</td><td>&hellip;</td><td>&hellip;</td><td>&hellip;</td><td>&hellip;</td><td>&hellip;</td><td>&hellip;</td><td>&hellip;</td><td>&hellip;</td></tr><tr><td>null</td><td>null</td><td>null</td><td>null</td><td>null</td><td>null</td><td>null</td><td>null</td><td>null</td><td>null</td><td>null</td><td>null</td><td>null</td><td>null</td><td>null</td><td>null</td><td>null</td><td>null</td><td>null</td><td>null</td></tr><tr><td>null</td><td>null</td><td>null</td><td>null</td><td>null</td><td>null</td><td>null</td><td>null</td><td>null</td><td>null</td><td>null</td><td>null</td><td>null</td><td>null</td><td>null</td><td>null</td><td>null</td><td>null</td><td>null</td><td>null</td></tr><tr><td>null</td><td>null</td><td>null</td><td>null</td><td>null</td><td>null</td><td>null</td><td>null</td><td>null</td><td>null</td><td>null</td><td>null</td><td>null</td><td>null</td><td>null</td><td>null</td><td>null</td><td>null</td><td>null</td><td>null</td></tr><tr><td>null</td><td>null</td><td>null</td><td>null</td><td>null</td><td>null</td><td>null</td><td>null</td><td>null</td><td>null</td><td>null</td><td>null</td><td>null</td><td>null</td><td>null</td><td>null</td><td>null</td><td>null</td><td>null</td><td>null</td></tr><tr><td>null</td><td>null</td><td>null</td><td>null</td><td>null</td><td>null</td><td>null</td><td>null</td><td>null</td><td>null</td><td>null</td><td>null</td><td>null</td><td>null</td><td>null</td><td>null</td><td>null</td><td>null</td><td>null</td><td>null</td></tr><tr><td>null</td><td>null</td><td>null</td><td>null</td><td>null</td><td>null</td><td>null</td><td>null</td><td>null</td><td>null</td><td>null</td><td>null</td><td>null</td><td>null</td><td>null</td><td>null</td><td>null</td><td>null</td><td>null</td><td>null</td></tr><tr><td>null</td><td>null</td><td>null</td><td>null</td><td>null</td><td>null</td><td>null</td><td>null</td><td>null</td><td>null</td><td>null</td><td>null</td><td>null</td><td>null</td><td>null</td><td>null</td><td>null</td><td>null</td><td>null</td><td>null</td></tr><tr><td>null</td><td>null</td><td>null</td><td>null</td><td>null</td><td>null</td><td>null</td><td>null</td><td>null</td><td>null</td><td>null</td><td>null</td><td>null</td><td>null</td><td>null</td><td>null</td><td>null</td><td>null</td><td>null</td><td>null</td></tr><tr><td>null</td><td>null</td><td>null</td><td>null</td><td>null</td><td>null</td><td>null</td><td>null</td><td>null</td><td>null</td><td>null</td><td>null</td><td>null</td><td>null</td><td>null</td><td>null</td><td>null</td><td>null</td><td>null</td><td>null</td></tr><tr><td>null</td><td>null</td><td>null</td><td>null</td><td>null</td><td>null</td><td>null</td><td>null</td><td>null</td><td>null</td><td>null</td><td>null</td><td>null</td><td>null</td><td>null</td><td>null</td><td>null</td><td>null</td><td>null</td><td>null</td></tr><tr><td>null</td><td>null</td><td>null</td><td>null</td><td>null</td><td>null</td><td>null</td><td>null</td><td>null</td><td>null</td><td>null</td><td>null</td><td>null</td><td>null</td><td>null</td><td>null</td><td>null</td><td>null</td><td>null</td><td>null</td></tr><tr><td>null</td><td>null</td><td>null</td><td>null</td><td>null</td><td>null</td><td>null</td><td>null</td><td>null</td><td>null</td><td>null</td><td>null</td><td>null</td><td>null</td><td>null</td><td>null</td><td>null</td><td>null</td><td>null</td><td>null</td></tr></tbody></table></div>"
      ],
      "text/plain": [
       "shape: (4_572, 20)\n",
       "┌──────┬───────────────────────┬─────────┬─────────┬───┬─────────┬─────────┬───────────┬───────────┐\n",
       "│ Year ┆ Datetime              ┆ Stage   ┆ Stadium ┆ … ┆ RoundID ┆ MatchID ┆ Home Team ┆ Away Team │\n",
       "│ ---  ┆ ---                   ┆ ---     ┆ ---     ┆   ┆ ---     ┆ ---     ┆ Initials  ┆ Initials  │\n",
       "│ i64  ┆ str                   ┆ str     ┆ str     ┆   ┆ i64     ┆ i64     ┆ ---       ┆ ---       │\n",
       "│      ┆                       ┆         ┆         ┆   ┆         ┆         ┆ str       ┆ str       │\n",
       "╞══════╪═══════════════════════╪═════════╪═════════╪═══╪═════════╪═════════╪═══════════╪═══════════╡\n",
       "│ 1930 ┆ 13 Jul 1930 - 15:00   ┆ Group 1 ┆ Pocitos ┆ … ┆ 201     ┆ 1096    ┆ FRA       ┆ MEX       │\n",
       "│ 1930 ┆ 13 Jul 1930 - 15:00   ┆ Group 4 ┆ Parque  ┆ … ┆ 201     ┆ 1090    ┆ USA       ┆ BEL       │\n",
       "│      ┆                       ┆         ┆ Central ┆   ┆         ┆         ┆           ┆           │\n",
       "│ 1930 ┆ 14 Jul 1930 - 12:45   ┆ Group 2 ┆ Parque  ┆ … ┆ 201     ┆ 1093    ┆ YUG       ┆ BRA       │\n",
       "│      ┆                       ┆         ┆ Central ┆   ┆         ┆         ┆           ┆           │\n",
       "│ 1930 ┆ 14 Jul 1930 - 14:50   ┆ Group 3 ┆ Pocitos ┆ … ┆ 201     ┆ 1098    ┆ ROU       ┆ PER       │\n",
       "│ …    ┆ …                     ┆ …       ┆ …       ┆ … ┆ …       ┆ …       ┆ …         ┆ …         │\n",
       "│ null ┆ null                  ┆ null    ┆ null    ┆ … ┆ null    ┆ null    ┆ null      ┆ null      │\n",
       "│ null ┆ null                  ┆ null    ┆ null    ┆ … ┆ null    ┆ null    ┆ null      ┆ null      │\n",
       "│ null ┆ null                  ┆ null    ┆ null    ┆ … ┆ null    ┆ null    ┆ null      ┆ null      │\n",
       "│ null ┆ null                  ┆ null    ┆ null    ┆ … ┆ null    ┆ null    ┆ null      ┆ null      │\n",
       "└──────┴───────────────────────┴─────────┴─────────┴───┴─────────┴─────────┴───────────┴───────────┘"
      ]
     },
     "execution_count": 3,
     "metadata": {},
     "output_type": "execute_result"
    }
   ],
   "source": [
    "df = pl.read_csv(\"/kaggle/input/fifa-matches-dataset/WorldCupMatches.csv\")\n",
    "df"
   ]
  },
  {
   "cell_type": "markdown",
   "id": "44a7658a",
   "metadata": {
    "papermill": {
     "duration": 0.010456,
     "end_time": "2024-01-13T03:41:01.206658",
     "exception": false,
     "start_time": "2024-01-13T03:41:01.196202",
     "status": "completed"
    },
    "tags": []
   },
   "source": [
    "Thist dataset contains information about matches in Word Cup from 1930 to 2014, you can find attributes like:"
   ]
  },
  {
   "cell_type": "code",
   "execution_count": 4,
   "id": "d77b5a81",
   "metadata": {
    "execution": {
     "iopub.execute_input": "2024-01-13T03:41:01.230961Z",
     "iopub.status.busy": "2024-01-13T03:41:01.230098Z",
     "iopub.status.idle": "2024-01-13T03:41:01.238066Z",
     "shell.execute_reply": "2024-01-13T03:41:01.237002Z"
    },
    "papermill": {
     "duration": 0.022982,
     "end_time": "2024-01-13T03:41:01.240550",
     "exception": false,
     "start_time": "2024-01-13T03:41:01.217568",
     "status": "completed"
    },
    "tags": []
   },
   "outputs": [
    {
     "data": {
      "text/plain": [
       "['Year',\n",
       " 'Datetime',\n",
       " 'Stage',\n",
       " 'Stadium',\n",
       " 'City',\n",
       " 'Home Team Name',\n",
       " 'Home Team Goals',\n",
       " 'Away Team Goals',\n",
       " 'Away Team Name',\n",
       " 'Win conditions',\n",
       " 'Attendance',\n",
       " 'Half-time Home Goals',\n",
       " 'Half-time Away Goals',\n",
       " 'Referee',\n",
       " 'Assistant 1',\n",
       " 'Assistant 2',\n",
       " 'RoundID',\n",
       " 'MatchID',\n",
       " 'Home Team Initials',\n",
       " 'Away Team Initials']"
      ]
     },
     "execution_count": 4,
     "metadata": {},
     "output_type": "execute_result"
    }
   ],
   "source": [
    "list(df.columns)"
   ]
  },
  {
   "cell_type": "markdown",
   "id": "1ed3bfcc",
   "metadata": {
    "papermill": {
     "duration": 0.010825,
     "end_time": "2024-01-13T03:41:01.262462",
     "exception": false,
     "start_time": "2024-01-13T03:41:01.251637",
     "status": "completed"
    },
    "tags": []
   },
   "source": [
    "We can use the description method to obtain static information about the data frame"
   ]
  },
  {
   "cell_type": "code",
   "execution_count": 5,
   "id": "44c38eea",
   "metadata": {
    "execution": {
     "iopub.execute_input": "2024-01-13T03:41:01.287064Z",
     "iopub.status.busy": "2024-01-13T03:41:01.286232Z",
     "iopub.status.idle": "2024-01-13T03:41:01.355519Z",
     "shell.execute_reply": "2024-01-13T03:41:01.354326Z"
    },
    "papermill": {
     "duration": 0.084508,
     "end_time": "2024-01-13T03:41:01.358221",
     "exception": false,
     "start_time": "2024-01-13T03:41:01.273713",
     "status": "completed"
    },
    "tags": []
   },
   "outputs": [
    {
     "data": {
      "text/html": [
       "<div><style>\n",
       ".dataframe > thead > tr,\n",
       ".dataframe > tbody > tr {\n",
       "  text-align: right;\n",
       "  white-space: pre-wrap;\n",
       "}\n",
       "</style>\n",
       "<small>shape: (9, 21)</small><table border=\"1\" class=\"dataframe\"><thead><tr><th>describe</th><th>Year</th><th>Datetime</th><th>Stage</th><th>Stadium</th><th>City</th><th>Home Team Name</th><th>Home Team Goals</th><th>Away Team Goals</th><th>Away Team Name</th><th>Win conditions</th><th>Attendance</th><th>Half-time Home Goals</th><th>Half-time Away Goals</th><th>Referee</th><th>Assistant 1</th><th>Assistant 2</th><th>RoundID</th><th>MatchID</th><th>Home Team Initials</th><th>Away Team Initials</th></tr><tr><td>str</td><td>f64</td><td>str</td><td>str</td><td>str</td><td>str</td><td>str</td><td>f64</td><td>f64</td><td>str</td><td>str</td><td>f64</td><td>f64</td><td>f64</td><td>str</td><td>str</td><td>str</td><td>f64</td><td>f64</td><td>str</td><td>str</td></tr></thead><tbody><tr><td>&quot;count&quot;</td><td>852.0</td><td>&quot;852&quot;</td><td>&quot;852&quot;</td><td>&quot;852&quot;</td><td>&quot;852&quot;</td><td>&quot;852&quot;</td><td>852.0</td><td>852.0</td><td>&quot;852&quot;</td><td>&quot;852&quot;</td><td>850.0</td><td>852.0</td><td>852.0</td><td>&quot;852&quot;</td><td>&quot;852&quot;</td><td>&quot;852&quot;</td><td>852.0</td><td>852.0</td><td>&quot;852&quot;</td><td>&quot;852&quot;</td></tr><tr><td>&quot;null_count&quot;</td><td>3720.0</td><td>&quot;3720&quot;</td><td>&quot;3720&quot;</td><td>&quot;3720&quot;</td><td>&quot;3720&quot;</td><td>&quot;3720&quot;</td><td>3720.0</td><td>3720.0</td><td>&quot;3720&quot;</td><td>&quot;3720&quot;</td><td>3722.0</td><td>3720.0</td><td>3720.0</td><td>&quot;3720&quot;</td><td>&quot;3720&quot;</td><td>&quot;3720&quot;</td><td>3720.0</td><td>3720.0</td><td>&quot;3720&quot;</td><td>&quot;3720&quot;</td></tr><tr><td>&quot;mean&quot;</td><td>1985.089202</td><td>null</td><td>null</td><td>null</td><td>null</td><td>null</td><td>1.811033</td><td>1.0223</td><td>null</td><td>null</td><td>45164.8</td><td>0.70892</td><td>0.428404</td><td>null</td><td>null</td><td>null</td><td>1.0662e7</td><td>6.1347e7</td><td>null</td><td>null</td></tr><tr><td>&quot;std&quot;</td><td>22.448825</td><td>null</td><td>null</td><td>null</td><td>null</td><td>null</td><td>1.610255</td><td>1.087573</td><td>null</td><td>null</td><td>23485.249247</td><td>0.937414</td><td>0.691252</td><td>null</td><td>null</td><td>null</td><td>2.7296e7</td><td>1.1106e8</td><td>null</td><td>null</td></tr><tr><td>&quot;min&quot;</td><td>1930.0</td><td>&quot;01 Jul 1950 - …</td><td>&quot;Final&quot;</td><td>&quot;Arena Amazonia…</td><td>&quot;Alicante &quot;</td><td>&quot;Algeria&quot;</td><td>0.0</td><td>0.0</td><td>&quot;Algeria&quot;</td><td>&quot; &quot;</td><td>2000.0</td><td>0.0</td><td>0.0</td><td>&quot;ABD EL FATAH E…</td><td>&quot;ABDUL HAMID Ha…</td><td>&quot;ABDUL HAMID Ha…</td><td>201.0</td><td>25.0</td><td>&quot;ALG&quot;</td><td>&quot;ALG&quot;</td></tr><tr><td>&quot;25%&quot;</td><td>1970.0</td><td>null</td><td>null</td><td>null</td><td>null</td><td>null</td><td>1.0</td><td>0.0</td><td>null</td><td>null</td><td>30000.0</td><td>0.0</td><td>0.0</td><td>null</td><td>null</td><td>null</td><td>262.0</td><td>1189.0</td><td>null</td><td>null</td></tr><tr><td>&quot;50%&quot;</td><td>1990.0</td><td>null</td><td>null</td><td>null</td><td>null</td><td>null</td><td>2.0</td><td>1.0</td><td>null</td><td>null</td><td>41700.0</td><td>0.0</td><td>0.0</td><td>null</td><td>null</td><td>null</td><td>337.0</td><td>2196.0</td><td>null</td><td>null</td></tr><tr><td>&quot;75%&quot;</td><td>2002.0</td><td>null</td><td>null</td><td>null</td><td>null</td><td>null</td><td>3.0</td><td>2.0</td><td>null</td><td>null</td><td>61381.0</td><td>1.0</td><td>1.0</td><td>null</td><td>null</td><td>null</td><td>249722.0</td><td>4.3950059e7</td><td>null</td><td>null</td></tr><tr><td>&quot;max&quot;</td><td>2014.0</td><td>&quot;31 May 2002 - …</td><td>&quot;Third place&quot;</td><td>&quot;Zentralstadion…</td><td>&quot;Zurich &quot;</td><td>&quot;rn&quot;&gt;United Ara…</td><td>10.0</td><td>7.0</td><td>&quot;rn&quot;&gt;United Ara…</td><td>&quot;Yugoslavia win…</td><td>173850.0</td><td>6.0</td><td>5.0</td><td>&quot;ZSOLT Istvan (…</td><td>&quot;ZSOLT Istvan (…</td><td>&quot;ZUMBA Juan (SL…</td><td>9.74106e7</td><td>3.00186515e8</td><td>&quot;ZAI&quot;</td><td>&quot;ZAI&quot;</td></tr></tbody></table></div>"
      ],
      "text/plain": [
       "shape: (9, 21)\n",
       "┌────────────┬────────────┬────────────┬───────┬───┬───────────┬───────────┬───────────┬───────────┐\n",
       "│ describe   ┆ Year       ┆ Datetime   ┆ Stage ┆ … ┆ RoundID   ┆ MatchID   ┆ Home Team ┆ Away Team │\n",
       "│ ---        ┆ ---        ┆ ---        ┆ ---   ┆   ┆ ---       ┆ ---       ┆ Initials  ┆ Initials  │\n",
       "│ str        ┆ f64        ┆ str        ┆ str   ┆   ┆ f64       ┆ f64       ┆ ---       ┆ ---       │\n",
       "│            ┆            ┆            ┆       ┆   ┆           ┆           ┆ str       ┆ str       │\n",
       "╞════════════╪════════════╪════════════╪═══════╪═══╪═══════════╪═══════════╪═══════════╪═══════════╡\n",
       "│ count      ┆ 852.0      ┆ 852        ┆ 852   ┆ … ┆ 852.0     ┆ 852.0     ┆ 852       ┆ 852       │\n",
       "│ null_count ┆ 3720.0     ┆ 3720       ┆ 3720  ┆ … ┆ 3720.0    ┆ 3720.0    ┆ 3720      ┆ 3720      │\n",
       "│ mean       ┆ 1985.08920 ┆ null       ┆ null  ┆ … ┆ 1.0662e7  ┆ 6.1347e7  ┆ null      ┆ null      │\n",
       "│            ┆ 2          ┆            ┆       ┆   ┆           ┆           ┆           ┆           │\n",
       "│ std        ┆ 22.448825  ┆ null       ┆ null  ┆ … ┆ 2.7296e7  ┆ 1.1106e8  ┆ null      ┆ null      │\n",
       "│ min        ┆ 1930.0     ┆ 01 Jul     ┆ Final ┆ … ┆ 201.0     ┆ 25.0      ┆ ALG       ┆ ALG       │\n",
       "│            ┆            ┆ 1950 -     ┆       ┆   ┆           ┆           ┆           ┆           │\n",
       "│            ┆            ┆ 15:00      ┆       ┆   ┆           ┆           ┆           ┆           │\n",
       "│ 25%        ┆ 1970.0     ┆ null       ┆ null  ┆ … ┆ 262.0     ┆ 1189.0    ┆ null      ┆ null      │\n",
       "│ 50%        ┆ 1990.0     ┆ null       ┆ null  ┆ … ┆ 337.0     ┆ 2196.0    ┆ null      ┆ null      │\n",
       "│ 75%        ┆ 2002.0     ┆ null       ┆ null  ┆ … ┆ 249722.0  ┆ 4.3950059 ┆ null      ┆ null      │\n",
       "│            ┆            ┆            ┆       ┆   ┆           ┆ e7        ┆           ┆           │\n",
       "│ max        ┆ 2014.0     ┆ 31 May     ┆ Third ┆ … ┆ 9.74106e7 ┆ 3.0018651 ┆ ZAI       ┆ ZAI       │\n",
       "│            ┆            ┆ 2002 -     ┆ place ┆   ┆           ┆ 5e8       ┆           ┆           │\n",
       "│            ┆            ┆ 20:30      ┆       ┆   ┆           ┆           ┆           ┆           │\n",
       "└────────────┴────────────┴────────────┴───────┴───┴───────────┴───────────┴───────────┴───────────┘"
      ]
     },
     "execution_count": 5,
     "metadata": {},
     "output_type": "execute_result"
    }
   ],
   "source": [
    "df.describe()"
   ]
  },
  {
   "cell_type": "markdown",
   "id": "504973c4",
   "metadata": {
    "papermill": {
     "duration": 0.011748,
     "end_time": "2024-01-13T03:41:01.381852",
     "exception": false,
     "start_time": "2024-01-13T03:41:01.370104",
     "status": "completed"
    },
    "tags": []
   },
   "source": [
    "## Data cleaning\n",
    "\n",
    "We are going to rename some columns to eliminate spaces in the column names"
   ]
  },
  {
   "cell_type": "code",
   "execution_count": 6,
   "id": "6ec71d69",
   "metadata": {
    "execution": {
     "iopub.execute_input": "2024-01-13T03:41:01.407286Z",
     "iopub.status.busy": "2024-01-13T03:41:01.406479Z",
     "iopub.status.idle": "2024-01-13T03:41:01.417504Z",
     "shell.execute_reply": "2024-01-13T03:41:01.416435Z"
    },
    "papermill": {
     "duration": 0.027256,
     "end_time": "2024-01-13T03:41:01.420378",
     "exception": false,
     "start_time": "2024-01-13T03:41:01.393122",
     "status": "completed"
    },
    "tags": []
   },
   "outputs": [],
   "source": [
    "df = df.rename(\n",
    "    {\n",
    "        \"Home Team Name\": \"HomeTeamName\",\n",
    "        \"Home Team Goals\": \"HomeTeamGoals\",\n",
    "        \"Away Team Goals\":\"AwayTeamGoals\",\n",
    "        \"Away Team Name\": \"AwayTeamName\",\n",
    "        \"Win conditions\": \"WinConditions\",\n",
    "        \"Half-time Home Goals\": \"HalfTimeHomeGoals\",\n",
    "        \"Half-time Away Goals\": \"HalfTimeAwayGoals\",\n",
    "        \"Assistant 1\": \"Assistant1\",\n",
    "        \"Assistant 2\": \"Assistant2\",\n",
    "        \"Home Team Initials\": \"HomeTeamInitials\",\n",
    "        \"Away Team Initials\": \"AwayTeamInitials\"\n",
    "    }\n",
    ")"
   ]
  },
  {
   "cell_type": "markdown",
   "id": "aac511e6",
   "metadata": {
    "papermill": {
     "duration": 0.01097,
     "end_time": "2024-01-13T03:41:01.443199",
     "exception": false,
     "start_time": "2024-01-13T03:41:01.432229",
     "status": "completed"
    },
    "tags": []
   },
   "source": [
    "We will remove `null` values from our data set. These values can lead to erroneous calculations."
   ]
  },
  {
   "cell_type": "code",
   "execution_count": 7,
   "id": "0bd99968",
   "metadata": {
    "execution": {
     "iopub.execute_input": "2024-01-13T03:41:01.468115Z",
     "iopub.status.busy": "2024-01-13T03:41:01.467255Z",
     "iopub.status.idle": "2024-01-13T03:41:01.477606Z",
     "shell.execute_reply": "2024-01-13T03:41:01.476405Z"
    },
    "papermill": {
     "duration": 0.025545,
     "end_time": "2024-01-13T03:41:01.480041",
     "exception": false,
     "start_time": "2024-01-13T03:41:01.454496",
     "status": "completed"
    },
    "tags": []
   },
   "outputs": [
    {
     "data": {
      "text/html": [
       "<div><style>\n",
       ".dataframe > thead > tr,\n",
       ".dataframe > tbody > tr {\n",
       "  text-align: right;\n",
       "  white-space: pre-wrap;\n",
       "}\n",
       "</style>\n",
       "<small>shape: (1, 20)</small><table border=\"1\" class=\"dataframe\"><thead><tr><th>Year</th><th>Datetime</th><th>Stage</th><th>Stadium</th><th>City</th><th>HomeTeamName</th><th>HomeTeamGoals</th><th>AwayTeamGoals</th><th>AwayTeamName</th><th>WinConditions</th><th>Attendance</th><th>HalfTimeHomeGoals</th><th>HalfTimeAwayGoals</th><th>Referee</th><th>Assistant1</th><th>Assistant2</th><th>RoundID</th><th>MatchID</th><th>HomeTeamInitials</th><th>AwayTeamInitials</th></tr><tr><td>u32</td><td>u32</td><td>u32</td><td>u32</td><td>u32</td><td>u32</td><td>u32</td><td>u32</td><td>u32</td><td>u32</td><td>u32</td><td>u32</td><td>u32</td><td>u32</td><td>u32</td><td>u32</td><td>u32</td><td>u32</td><td>u32</td><td>u32</td></tr></thead><tbody><tr><td>3720</td><td>3720</td><td>3720</td><td>3720</td><td>3720</td><td>3720</td><td>3720</td><td>3720</td><td>3720</td><td>3720</td><td>3722</td><td>3720</td><td>3720</td><td>3720</td><td>3720</td><td>3720</td><td>3720</td><td>3720</td><td>3720</td><td>3720</td></tr></tbody></table></div>"
      ],
      "text/plain": [
       "shape: (1, 20)\n",
       "┌──────┬──────────┬───────┬─────────┬───┬─────────┬─────────┬──────────────────┬──────────────────┐\n",
       "│ Year ┆ Datetime ┆ Stage ┆ Stadium ┆ … ┆ RoundID ┆ MatchID ┆ HomeTeamInitials ┆ AwayTeamInitials │\n",
       "│ ---  ┆ ---      ┆ ---   ┆ ---     ┆   ┆ ---     ┆ ---     ┆ ---              ┆ ---              │\n",
       "│ u32  ┆ u32      ┆ u32   ┆ u32     ┆   ┆ u32     ┆ u32     ┆ u32              ┆ u32              │\n",
       "╞══════╪══════════╪═══════╪═════════╪═══╪═════════╪═════════╪══════════════════╪══════════════════╡\n",
       "│ 3720 ┆ 3720     ┆ 3720  ┆ 3720    ┆ … ┆ 3720    ┆ 3720    ┆ 3720             ┆ 3720             │\n",
       "└──────┴──────────┴───────┴─────────┴───┴─────────┴─────────┴──────────────────┴──────────────────┘"
      ]
     },
     "execution_count": 7,
     "metadata": {},
     "output_type": "execute_result"
    }
   ],
   "source": [
    "nulls_in_df = df.null_count()\n",
    "nulls_in_df"
   ]
  },
  {
   "cell_type": "code",
   "execution_count": 8,
   "id": "6be17ab3",
   "metadata": {
    "execution": {
     "iopub.execute_input": "2024-01-13T03:41:01.505380Z",
     "iopub.status.busy": "2024-01-13T03:41:01.504941Z",
     "iopub.status.idle": "2024-01-13T03:41:01.540257Z",
     "shell.execute_reply": "2024-01-13T03:41:01.539382Z"
    },
    "papermill": {
     "duration": 0.051349,
     "end_time": "2024-01-13T03:41:01.542849",
     "exception": false,
     "start_time": "2024-01-13T03:41:01.491500",
     "status": "completed"
    },
    "tags": []
   },
   "outputs": [
    {
     "data": {
      "text/html": [
       "<div><style>\n",
       ".dataframe > thead > tr,\n",
       ".dataframe > tbody > tr {\n",
       "  text-align: right;\n",
       "  white-space: pre-wrap;\n",
       "}\n",
       "</style>\n",
       "<small>shape: (850, 20)</small><table border=\"1\" class=\"dataframe\"><thead><tr><th>Year</th><th>Datetime</th><th>Stage</th><th>Stadium</th><th>City</th><th>HomeTeamName</th><th>HomeTeamGoals</th><th>AwayTeamGoals</th><th>AwayTeamName</th><th>WinConditions</th><th>Attendance</th><th>HalfTimeHomeGoals</th><th>HalfTimeAwayGoals</th><th>Referee</th><th>Assistant1</th><th>Assistant2</th><th>RoundID</th><th>MatchID</th><th>HomeTeamInitials</th><th>AwayTeamInitials</th></tr><tr><td>i64</td><td>str</td><td>str</td><td>str</td><td>str</td><td>str</td><td>i64</td><td>i64</td><td>str</td><td>str</td><td>i64</td><td>i64</td><td>i64</td><td>str</td><td>str</td><td>str</td><td>i64</td><td>i64</td><td>str</td><td>str</td></tr></thead><tbody><tr><td>1930</td><td>&quot;13 Jul 1930 - …</td><td>&quot;Group 1&quot;</td><td>&quot;Pocitos&quot;</td><td>&quot;Montevideo &quot;</td><td>&quot;France&quot;</td><td>4</td><td>1</td><td>&quot;Mexico&quot;</td><td>&quot; &quot;</td><td>4444</td><td>3</td><td>0</td><td>&quot;LOMBARDI Domin…</td><td>&quot;CRISTOPHE Henr…</td><td>&quot;REGO Gilberto …</td><td>201</td><td>1096</td><td>&quot;FRA&quot;</td><td>&quot;MEX&quot;</td></tr><tr><td>1930</td><td>&quot;13 Jul 1930 - …</td><td>&quot;Group 4&quot;</td><td>&quot;Parque Central…</td><td>&quot;Montevideo &quot;</td><td>&quot;USA&quot;</td><td>3</td><td>0</td><td>&quot;Belgium&quot;</td><td>&quot; &quot;</td><td>18346</td><td>2</td><td>0</td><td>&quot;MACIAS Jose (A…</td><td>&quot;MATEUCCI Franc…</td><td>&quot;WARNKEN Albert…</td><td>201</td><td>1090</td><td>&quot;USA&quot;</td><td>&quot;BEL&quot;</td></tr><tr><td>1930</td><td>&quot;14 Jul 1930 - …</td><td>&quot;Group 2&quot;</td><td>&quot;Parque Central…</td><td>&quot;Montevideo &quot;</td><td>&quot;Yugoslavia&quot;</td><td>2</td><td>1</td><td>&quot;Brazil&quot;</td><td>&quot; &quot;</td><td>24059</td><td>2</td><td>0</td><td>&quot;TEJADA Anibal …</td><td>&quot;VALLARINO Rica…</td><td>&quot;BALWAY Thomas …</td><td>201</td><td>1093</td><td>&quot;YUG&quot;</td><td>&quot;BRA&quot;</td></tr><tr><td>1930</td><td>&quot;14 Jul 1930 - …</td><td>&quot;Group 3&quot;</td><td>&quot;Pocitos&quot;</td><td>&quot;Montevideo &quot;</td><td>&quot;Romania&quot;</td><td>3</td><td>1</td><td>&quot;Peru&quot;</td><td>&quot; &quot;</td><td>2549</td><td>1</td><td>0</td><td>&quot;WARNKEN Albert…</td><td>&quot;LANGENUS Jean …</td><td>&quot;MATEUCCI Franc…</td><td>201</td><td>1098</td><td>&quot;ROU&quot;</td><td>&quot;PER&quot;</td></tr><tr><td>1930</td><td>&quot;15 Jul 1930 - …</td><td>&quot;Group 1&quot;</td><td>&quot;Parque Central…</td><td>&quot;Montevideo &quot;</td><td>&quot;Argentina&quot;</td><td>1</td><td>0</td><td>&quot;France&quot;</td><td>&quot; &quot;</td><td>23409</td><td>0</td><td>0</td><td>&quot;REGO Gilberto …</td><td>&quot;SAUCEDO Ulises…</td><td>&quot;RADULESCU Cons…</td><td>201</td><td>1085</td><td>&quot;ARG&quot;</td><td>&quot;FRA&quot;</td></tr><tr><td>1930</td><td>&quot;16 Jul 1930 - …</td><td>&quot;Group 1&quot;</td><td>&quot;Parque Central…</td><td>&quot;Montevideo &quot;</td><td>&quot;Chile&quot;</td><td>3</td><td>0</td><td>&quot;Mexico&quot;</td><td>&quot; &quot;</td><td>9249</td><td>1</td><td>0</td><td>&quot;CRISTOPHE Henr…</td><td>&quot;APHESTEGUY Mar…</td><td>&quot;LANGENUS Jean …</td><td>201</td><td>1095</td><td>&quot;CHI&quot;</td><td>&quot;MEX&quot;</td></tr><tr><td>1930</td><td>&quot;17 Jul 1930 - …</td><td>&quot;Group 2&quot;</td><td>&quot;Parque Central…</td><td>&quot;Montevideo &quot;</td><td>&quot;Yugoslavia&quot;</td><td>4</td><td>0</td><td>&quot;Bolivia&quot;</td><td>&quot; &quot;</td><td>18306</td><td>0</td><td>0</td><td>&quot;MATEUCCI Franc…</td><td>&quot;LOMBARDI Domin…</td><td>&quot;WARNKEN Albert…</td><td>201</td><td>1092</td><td>&quot;YUG&quot;</td><td>&quot;BOL&quot;</td></tr><tr><td>1930</td><td>&quot;17 Jul 1930 - …</td><td>&quot;Group 4&quot;</td><td>&quot;Parque Central…</td><td>&quot;Montevideo &quot;</td><td>&quot;USA&quot;</td><td>3</td><td>0</td><td>&quot;Paraguay&quot;</td><td>&quot; &quot;</td><td>18306</td><td>2</td><td>0</td><td>&quot;MACIAS Jose (A…</td><td>&quot;APHESTEGUY Mar…</td><td>&quot;TEJADA Anibal …</td><td>201</td><td>1097</td><td>&quot;USA&quot;</td><td>&quot;PAR&quot;</td></tr><tr><td>1930</td><td>&quot;18 Jul 1930 - …</td><td>&quot;Group 3&quot;</td><td>&quot;Estadio Centen…</td><td>&quot;Montevideo &quot;</td><td>&quot;Uruguay&quot;</td><td>1</td><td>0</td><td>&quot;Peru&quot;</td><td>&quot; &quot;</td><td>57735</td><td>0</td><td>0</td><td>&quot;LANGENUS Jean …</td><td>&quot;BALWAY Thomas …</td><td>&quot;CRISTOPHE Henr…</td><td>201</td><td>1099</td><td>&quot;URU&quot;</td><td>&quot;PER&quot;</td></tr><tr><td>1930</td><td>&quot;19 Jul 1930 - …</td><td>&quot;Group 1&quot;</td><td>&quot;Estadio Centen…</td><td>&quot;Montevideo &quot;</td><td>&quot;Chile&quot;</td><td>1</td><td>0</td><td>&quot;France&quot;</td><td>&quot; &quot;</td><td>2000</td><td>0</td><td>0</td><td>&quot;TEJADA Anibal …</td><td>&quot;LOMBARDI Domin…</td><td>&quot;REGO Gilberto …</td><td>201</td><td>1094</td><td>&quot;CHI&quot;</td><td>&quot;FRA&quot;</td></tr><tr><td>1930</td><td>&quot;19 Jul 1930 - …</td><td>&quot;Group 1&quot;</td><td>&quot;Estadio Centen…</td><td>&quot;Montevideo &quot;</td><td>&quot;Argentina&quot;</td><td>6</td><td>3</td><td>&quot;Mexico&quot;</td><td>&quot; &quot;</td><td>42100</td><td>3</td><td>1</td><td>&quot;SAUCEDO Ulises…</td><td>&quot;ALONSO Gualber…</td><td>&quot;RADULESCU Cons…</td><td>201</td><td>1086</td><td>&quot;ARG&quot;</td><td>&quot;MEX&quot;</td></tr><tr><td>1930</td><td>&quot;20 Jul 1930 - …</td><td>&quot;Group 2&quot;</td><td>&quot;Estadio Centen…</td><td>&quot;Montevideo &quot;</td><td>&quot;Brazil&quot;</td><td>4</td><td>0</td><td>&quot;Bolivia&quot;</td><td>&quot; &quot;</td><td>25466</td><td>1</td><td>0</td><td>&quot;BALWAY Thomas …</td><td>&quot;MATEUCCI Franc…</td><td>&quot;VALLEJO Gaspar…</td><td>201</td><td>1091</td><td>&quot;BRA&quot;</td><td>&quot;BOL&quot;</td></tr><tr><td>&hellip;</td><td>&hellip;</td><td>&hellip;</td><td>&hellip;</td><td>&hellip;</td><td>&hellip;</td><td>&hellip;</td><td>&hellip;</td><td>&hellip;</td><td>&hellip;</td><td>&hellip;</td><td>&hellip;</td><td>&hellip;</td><td>&hellip;</td><td>&hellip;</td><td>&hellip;</td><td>&hellip;</td><td>&hellip;</td><td>&hellip;</td><td>&hellip;</td></tr><tr><td>2014</td><td>&quot;29 Jun 2014 - …</td><td>&quot;Round of 16&quot;</td><td>&quot;Arena Pernambu…</td><td>&quot;Recife &quot;</td><td>&quot;Costa Rica&quot;</td><td>1</td><td>1</td><td>&quot;Greece&quot;</td><td>&quot;Costa Rica win…</td><td>41242</td><td>0</td><td>0</td><td>&quot;Ben WILLIAMS (…</td><td>&quot;CREAM Matthew …</td><td>&quot;ANAZ Hakan (AU…</td><td>255951</td><td>300186459</td><td>&quot;CRC&quot;</td><td>&quot;GRE&quot;</td></tr><tr><td>2014</td><td>&quot;30 Jun 2014 - …</td><td>&quot;Round of 16&quot;</td><td>&quot;Estadio Nacion…</td><td>&quot;Brasilia &quot;</td><td>&quot;France&quot;</td><td>2</td><td>0</td><td>&quot;Nigeria&quot;</td><td>&quot; &quot;</td><td>67882</td><td>0</td><td>0</td><td>&quot;GEIGER Mark (U…</td><td>&quot;HURD Sean (USA…</td><td>&quot;FLETCHER Joe (…</td><td>255951</td><td>300186462</td><td>&quot;FRA&quot;</td><td>&quot;NGA&quot;</td></tr><tr><td>2014</td><td>&quot;01 Jul 2014 - …</td><td>&quot;Round of 16&quot;</td><td>&quot;Arena de Sao P…</td><td>&quot;Sao Paulo &quot;</td><td>&quot;Argentina&quot;</td><td>1</td><td>0</td><td>&quot;Switzerland&quot;</td><td>&quot;Argentina win …</td><td>63255</td><td>0</td><td>0</td><td>&quot;ERIKSSON Jonas…</td><td>&quot;KLASENIUS Math…</td><td>&quot;WARNMARK Danie…</td><td>255951</td><td>300186503</td><td>&quot;ARG&quot;</td><td>&quot;SUI&quot;</td></tr><tr><td>2014</td><td>&quot;01 Jul 2014 - …</td><td>&quot;Round of 16&quot;</td><td>&quot;Arena Fonte No…</td><td>&quot;Salvador &quot;</td><td>&quot;Belgium&quot;</td><td>2</td><td>1</td><td>&quot;USA&quot;</td><td>&quot;Belgium win af…</td><td>51227</td><td>0</td><td>0</td><td>&quot;HAIMOUDI Djame…</td><td>&quot;ACHIK Redouane…</td><td>&quot;ETCHIALI Abdel…</td><td>255951</td><td>300186497</td><td>&quot;BEL&quot;</td><td>&quot;USA&quot;</td></tr><tr><td>2014</td><td>&quot;04 Jul 2014 - …</td><td>&quot;Quarter-finals…</td><td>&quot;Estadio do Mar…</td><td>&quot;Rio De Janeiro…</td><td>&quot;France&quot;</td><td>0</td><td>1</td><td>&quot;Germany&quot;</td><td>&quot; &quot;</td><td>74240</td><td>0</td><td>1</td><td>&quot;PITANA Nestor …</td><td>&quot;MAIDANA Hernan…</td><td>&quot;BELATTI Juan P…</td><td>255953</td><td>300186485</td><td>&quot;FRA&quot;</td><td>&quot;GER&quot;</td></tr><tr><td>2014</td><td>&quot;04 Jul 2014 - …</td><td>&quot;Quarter-finals…</td><td>&quot;Estadio Castel…</td><td>&quot;Fortaleza &quot;</td><td>&quot;Brazil&quot;</td><td>2</td><td>1</td><td>&quot;Colombia&quot;</td><td>&quot; &quot;</td><td>60342</td><td>1</td><td>0</td><td>&quot;Carlos VELASCO…</td><td>&quot;ALONSO FERNAND…</td><td>&quot;YUSTE Juan (ES…</td><td>255953</td><td>300186461</td><td>&quot;BRA&quot;</td><td>&quot;COL&quot;</td></tr><tr><td>2014</td><td>&quot;05 Jul 2014 - …</td><td>&quot;Quarter-finals…</td><td>&quot;Estadio Nacion…</td><td>&quot;Brasilia &quot;</td><td>&quot;Argentina&quot;</td><td>1</td><td>0</td><td>&quot;Belgium&quot;</td><td>&quot; &quot;</td><td>68551</td><td>1</td><td>0</td><td>&quot;Nicola RIZZOLI…</td><td>&quot;Renato FAVERAN…</td><td>&quot;Andrea STEFANI…</td><td>255953</td><td>300186504</td><td>&quot;ARG&quot;</td><td>&quot;BEL&quot;</td></tr><tr><td>2014</td><td>&quot;05 Jul 2014 - …</td><td>&quot;Quarter-finals…</td><td>&quot;Arena Fonte No…</td><td>&quot;Salvador &quot;</td><td>&quot;Netherlands&quot;</td><td>0</td><td>0</td><td>&quot;Costa Rica&quot;</td><td>&quot;Netherlands wi…</td><td>51179</td><td>0</td><td>0</td><td>&quot;Ravshan IRMATO…</td><td>&quot;RASULOV Abduxa…</td><td>&quot;KOCHKAROV Bakh…</td><td>255953</td><td>300186488</td><td>&quot;NED&quot;</td><td>&quot;CRC&quot;</td></tr><tr><td>2014</td><td>&quot;08 Jul 2014 - …</td><td>&quot;Semi-finals&quot;</td><td>&quot;Estadio Mineir…</td><td>&quot;Belo Horizonte…</td><td>&quot;Brazil&quot;</td><td>1</td><td>7</td><td>&quot;Germany&quot;</td><td>&quot; &quot;</td><td>58141</td><td>0</td><td>5</td><td>&quot;RODRIGUEZ Marc…</td><td>&quot;TORRENTERA Mar…</td><td>&quot;QUINTERO Marco…</td><td>255955</td><td>300186474</td><td>&quot;BRA&quot;</td><td>&quot;GER&quot;</td></tr><tr><td>2014</td><td>&quot;09 Jul 2014 - …</td><td>&quot;Semi-finals&quot;</td><td>&quot;Arena de Sao P…</td><td>&quot;Sao Paulo &quot;</td><td>&quot;Netherlands&quot;</td><td>0</td><td>0</td><td>&quot;Argentina&quot;</td><td>&quot;Argentina win …</td><td>63267</td><td>0</td><td>0</td><td>&quot;C�neyt �AKIR (…</td><td>&quot;DURAN Bahattin…</td><td>&quot;ONGUN Tarik (T…</td><td>255955</td><td>300186490</td><td>&quot;NED&quot;</td><td>&quot;ARG&quot;</td></tr><tr><td>2014</td><td>&quot;12 Jul 2014 - …</td><td>&quot;Play-off for t…</td><td>&quot;Estadio Nacion…</td><td>&quot;Brasilia &quot;</td><td>&quot;Brazil&quot;</td><td>0</td><td>3</td><td>&quot;Netherlands&quot;</td><td>&quot; &quot;</td><td>68034</td><td>0</td><td>2</td><td>&quot;HAIMOUDI Djame…</td><td>&quot;ACHIK Redouane…</td><td>&quot;ETCHIALI Abdel…</td><td>255957</td><td>300186502</td><td>&quot;BRA&quot;</td><td>&quot;NED&quot;</td></tr><tr><td>2014</td><td>&quot;13 Jul 2014 - …</td><td>&quot;Final&quot;</td><td>&quot;Estadio do Mar…</td><td>&quot;Rio De Janeiro…</td><td>&quot;Germany&quot;</td><td>1</td><td>0</td><td>&quot;Argentina&quot;</td><td>&quot;Germany win af…</td><td>74738</td><td>0</td><td>0</td><td>&quot;Nicola RIZZOLI…</td><td>&quot;Renato FAVERAN…</td><td>&quot;Andrea STEFANI…</td><td>255959</td><td>300186501</td><td>&quot;GER&quot;</td><td>&quot;ARG&quot;</td></tr></tbody></table></div>"
      ],
      "text/plain": [
       "shape: (850, 20)\n",
       "┌──────┬─────────────┬────────────┬────────────┬───┬─────────┬───────────┬────────────┬────────────┐\n",
       "│ Year ┆ Datetime    ┆ Stage      ┆ Stadium    ┆ … ┆ RoundID ┆ MatchID   ┆ HomeTeamIn ┆ AwayTeamIn │\n",
       "│ ---  ┆ ---         ┆ ---        ┆ ---        ┆   ┆ ---     ┆ ---       ┆ itials     ┆ itials     │\n",
       "│ i64  ┆ str         ┆ str        ┆ str        ┆   ┆ i64     ┆ i64       ┆ ---        ┆ ---        │\n",
       "│      ┆             ┆            ┆            ┆   ┆         ┆           ┆ str        ┆ str        │\n",
       "╞══════╪═════════════╪════════════╪════════════╪═══╪═════════╪═══════════╪════════════╪════════════╡\n",
       "│ 1930 ┆ 13 Jul 1930 ┆ Group 1    ┆ Pocitos    ┆ … ┆ 201     ┆ 1096      ┆ FRA        ┆ MEX        │\n",
       "│      ┆ - 15:00     ┆            ┆            ┆   ┆         ┆           ┆            ┆            │\n",
       "│ 1930 ┆ 13 Jul 1930 ┆ Group 4    ┆ Parque     ┆ … ┆ 201     ┆ 1090      ┆ USA        ┆ BEL        │\n",
       "│      ┆ - 15:00     ┆            ┆ Central    ┆   ┆         ┆           ┆            ┆            │\n",
       "│ 1930 ┆ 14 Jul 1930 ┆ Group 2    ┆ Parque     ┆ … ┆ 201     ┆ 1093      ┆ YUG        ┆ BRA        │\n",
       "│      ┆ - 12:45     ┆            ┆ Central    ┆   ┆         ┆           ┆            ┆            │\n",
       "│ 1930 ┆ 14 Jul 1930 ┆ Group 3    ┆ Pocitos    ┆ … ┆ 201     ┆ 1098      ┆ ROU        ┆ PER        │\n",
       "│      ┆ - 14:50     ┆            ┆            ┆   ┆         ┆           ┆            ┆            │\n",
       "│ …    ┆ …           ┆ …          ┆ …          ┆ … ┆ …       ┆ …         ┆ …          ┆ …          │\n",
       "│ 2014 ┆ 08 Jul 2014 ┆ Semi-final ┆ Estadio    ┆ … ┆ 255955  ┆ 300186474 ┆ BRA        ┆ GER        │\n",
       "│      ┆ - 17:00     ┆ s          ┆ Mineirao   ┆   ┆         ┆           ┆            ┆            │\n",
       "│ 2014 ┆ 09 Jul 2014 ┆ Semi-final ┆ Arena de   ┆ … ┆ 255955  ┆ 300186490 ┆ NED        ┆ ARG        │\n",
       "│      ┆ - 17:00     ┆ s          ┆ Sao Paulo  ┆   ┆         ┆           ┆            ┆            │\n",
       "│ 2014 ┆ 12 Jul 2014 ┆ Play-off   ┆ Estadio    ┆ … ┆ 255957  ┆ 300186502 ┆ BRA        ┆ NED        │\n",
       "│      ┆ - 17:00     ┆ for third  ┆ Nacional   ┆   ┆         ┆           ┆            ┆            │\n",
       "│      ┆             ┆ place      ┆            ┆   ┆         ┆           ┆            ┆            │\n",
       "│ 2014 ┆ 13 Jul 2014 ┆ Final      ┆ Estadio do ┆ … ┆ 255959  ┆ 300186501 ┆ GER        ┆ ARG        │\n",
       "│      ┆ - 16:00     ┆            ┆ Maracana   ┆   ┆         ┆           ┆            ┆            │\n",
       "└──────┴─────────────┴────────────┴────────────┴───┴─────────┴───────────┴────────────┴────────────┘"
      ]
     },
     "execution_count": 8,
     "metadata": {},
     "output_type": "execute_result"
    }
   ],
   "source": [
    "clean_df = df.drop_nulls()\n",
    "clean_df"
   ]
  },
  {
   "cell_type": "markdown",
   "id": "42c30848",
   "metadata": {
    "papermill": {
     "duration": 0.011693,
     "end_time": "2024-01-13T03:41:01.566354",
     "exception": false,
     "start_time": "2024-01-13T03:41:01.554661",
     "status": "completed"
    },
    "tags": []
   },
   "source": [
    "There is a column called \"WinConditions\" that we do not need for the analysis. Let's remove it."
   ]
  },
  {
   "cell_type": "code",
   "execution_count": 9,
   "id": "599e2f26",
   "metadata": {
    "execution": {
     "iopub.execute_input": "2024-01-13T03:41:01.592602Z",
     "iopub.status.busy": "2024-01-13T03:41:01.591371Z",
     "iopub.status.idle": "2024-01-13T03:41:01.597780Z",
     "shell.execute_reply": "2024-01-13T03:41:01.596600Z"
    },
    "papermill": {
     "duration": 0.021924,
     "end_time": "2024-01-13T03:41:01.600050",
     "exception": false,
     "start_time": "2024-01-13T03:41:01.578126",
     "status": "completed"
    },
    "tags": []
   },
   "outputs": [],
   "source": [
    "clean_df = clean_df.drop(\"WinConditions\")"
   ]
  },
  {
   "cell_type": "markdown",
   "id": "340e3737",
   "metadata": {
    "papermill": {
     "duration": 0.011559,
     "end_time": "2024-01-13T03:41:01.623352",
     "exception": false,
     "start_time": "2024-01-13T03:41:01.611793",
     "status": "completed"
    },
    "tags": []
   },
   "source": [
    "## Filter data\n",
    "\n",
    "### Answer our questions\n",
    "\n",
    "**Which team scored the most goals in a home game?**"
   ]
  },
  {
   "cell_type": "code",
   "execution_count": 10,
   "id": "6848b3c0",
   "metadata": {
    "execution": {
     "iopub.execute_input": "2024-01-13T03:41:01.649365Z",
     "iopub.status.busy": "2024-01-13T03:41:01.648211Z",
     "iopub.status.idle": "2024-01-13T03:41:01.661655Z",
     "shell.execute_reply": "2024-01-13T03:41:01.660371Z"
    },
    "papermill": {
     "duration": 0.028847,
     "end_time": "2024-01-13T03:41:01.664038",
     "exception": false,
     "start_time": "2024-01-13T03:41:01.635191",
     "status": "completed"
    },
    "tags": []
   },
   "outputs": [
    {
     "data": {
      "text/html": [
       "<div><style>\n",
       ".dataframe > thead > tr,\n",
       ".dataframe > tbody > tr {\n",
       "  text-align: right;\n",
       "  white-space: pre-wrap;\n",
       "}\n",
       "</style>\n",
       "<small>shape: (1, 19)</small><table border=\"1\" class=\"dataframe\"><thead><tr><th>Year</th><th>Datetime</th><th>Stage</th><th>Stadium</th><th>City</th><th>HomeTeamName</th><th>HomeTeamGoals</th><th>AwayTeamGoals</th><th>AwayTeamName</th><th>Attendance</th><th>HalfTimeHomeGoals</th><th>HalfTimeAwayGoals</th><th>Referee</th><th>Assistant1</th><th>Assistant2</th><th>RoundID</th><th>MatchID</th><th>HomeTeamInitials</th><th>AwayTeamInitials</th></tr><tr><td>i64</td><td>str</td><td>str</td><td>str</td><td>str</td><td>str</td><td>i64</td><td>i64</td><td>str</td><td>i64</td><td>i64</td><td>i64</td><td>str</td><td>str</td><td>str</td><td>i64</td><td>i64</td><td>str</td><td>str</td></tr></thead><tbody><tr><td>1982</td><td>&quot;15 Jun 1982 - …</td><td>&quot;Group 3&quot;</td><td>&quot;Nuevo Estadio&quot;</td><td>&quot;Elche &quot;</td><td>&quot;Hungary&quot;</td><td>10</td><td>1</td><td>&quot;El Salvador&quot;</td><td>23000</td><td>3</td><td>0</td><td>&quot;AL DOY Ebrahim…</td><td>&quot;CORVER Charles…</td><td>&quot;LUND-SORENSEN …</td><td>293</td><td>896</td><td>&quot;HUN&quot;</td><td>&quot;SLV&quot;</td></tr></tbody></table></div>"
      ],
      "text/plain": [
       "shape: (1, 19)\n",
       "┌──────┬───────────────┬─────────┬─────────┬───┬─────────┬─────────┬───────────────┬───────────────┐\n",
       "│ Year ┆ Datetime      ┆ Stage   ┆ Stadium ┆ … ┆ RoundID ┆ MatchID ┆ HomeTeamIniti ┆ AwayTeamIniti │\n",
       "│ ---  ┆ ---           ┆ ---     ┆ ---     ┆   ┆ ---     ┆ ---     ┆ als           ┆ als           │\n",
       "│ i64  ┆ str           ┆ str     ┆ str     ┆   ┆ i64     ┆ i64     ┆ ---           ┆ ---           │\n",
       "│      ┆               ┆         ┆         ┆   ┆         ┆         ┆ str           ┆ str           │\n",
       "╞══════╪═══════════════╪═════════╪═════════╪═══╪═════════╪═════════╪═══════════════╪═══════════════╡\n",
       "│ 1982 ┆ 15 Jun 1982 - ┆ Group 3 ┆ Nuevo   ┆ … ┆ 293     ┆ 896     ┆ HUN           ┆ SLV           │\n",
       "│      ┆ 21:00         ┆         ┆ Estadio ┆   ┆         ┆         ┆               ┆               │\n",
       "└──────┴───────────────┴─────────┴─────────┴───┴─────────┴─────────┴───────────────┴───────────────┘"
      ]
     },
     "execution_count": 10,
     "metadata": {},
     "output_type": "execute_result"
    }
   ],
   "source": [
    "clean_df.filter(pl.col(\"HomeTeamGoals\") >= 10)"
   ]
  },
  {
   "cell_type": "markdown",
   "id": "26733f62",
   "metadata": {
    "papermill": {
     "duration": 0.011861,
     "end_time": "2024-01-13T03:41:01.688216",
     "exception": false,
     "start_time": "2024-01-13T03:41:01.676355",
     "status": "completed"
    },
    "tags": []
   },
   "source": [
    "We can see that in 1982, `Hungary` beat `El Salvador` 10 to 1 "
   ]
  },
  {
   "cell_type": "markdown",
   "id": "cb3d1c9b",
   "metadata": {
    "papermill": {
     "duration": 0.01354,
     "end_time": "2024-01-13T03:41:01.714176",
     "exception": false,
     "start_time": "2024-01-13T03:41:01.700636",
     "status": "completed"
    },
    "tags": []
   },
   "source": [
    "**We want to know which soccer games the result was more than 10 goals, adding the goals of the home team and the away team.**"
   ]
  },
  {
   "cell_type": "code",
   "execution_count": 11,
   "id": "c89586da",
   "metadata": {
    "execution": {
     "iopub.execute_input": "2024-01-13T03:41:01.741002Z",
     "iopub.status.busy": "2024-01-13T03:41:01.739937Z",
     "iopub.status.idle": "2024-01-13T03:41:01.755368Z",
     "shell.execute_reply": "2024-01-13T03:41:01.753799Z"
    },
    "papermill": {
     "duration": 0.031667,
     "end_time": "2024-01-13T03:41:01.758239",
     "exception": false,
     "start_time": "2024-01-13T03:41:01.726572",
     "status": "completed"
    },
    "tags": []
   },
   "outputs": [
    {
     "data": {
      "text/html": [
       "<div><style>\n",
       ".dataframe > thead > tr,\n",
       ".dataframe > tbody > tr {\n",
       "  text-align: right;\n",
       "  white-space: pre-wrap;\n",
       "}\n",
       "</style>\n",
       "<small>shape: (5, 19)</small><table border=\"1\" class=\"dataframe\"><thead><tr><th>Year</th><th>Datetime</th><th>Stage</th><th>Stadium</th><th>City</th><th>HomeTeamName</th><th>HomeTeamGoals</th><th>AwayTeamGoals</th><th>AwayTeamName</th><th>Attendance</th><th>HalfTimeHomeGoals</th><th>HalfTimeAwayGoals</th><th>Referee</th><th>Assistant1</th><th>Assistant2</th><th>RoundID</th><th>MatchID</th><th>HomeTeamInitials</th><th>AwayTeamInitials</th></tr><tr><td>i64</td><td>str</td><td>str</td><td>str</td><td>str</td><td>str</td><td>i64</td><td>i64</td><td>str</td><td>i64</td><td>i64</td><td>i64</td><td>str</td><td>str</td><td>str</td><td>i64</td><td>i64</td><td>str</td><td>str</td></tr></thead><tbody><tr><td>1938</td><td>&quot;05 Jun 1938 - …</td><td>&quot;First round&quot;</td><td>&quot;Stade de la Me…</td><td>&quot;Strasbourg &quot;</td><td>&quot;Brazil&quot;</td><td>6</td><td>5</td><td>&quot;Poland&quot;</td><td>13452</td><td>0</td><td>0</td><td>&quot;EKLIND Ivan (S…</td><td>&quot;POISSANT Louis…</td><td>&quot;KISSENBERGER E…</td><td>206</td><td>1150</td><td>&quot;BRA&quot;</td><td>&quot;POL&quot;</td></tr><tr><td>1954</td><td>&quot;20 Jun 1954 - …</td><td>&quot;Group 2&quot;</td><td>&quot;St. Jakob&quot;</td><td>&quot;Basel &quot;</td><td>&quot;Hungary&quot;</td><td>8</td><td>3</td><td>&quot;Germany FR&quot;</td><td>56000</td><td>3</td><td>1</td><td>&quot;LING William (…</td><td>&quot;SCHICKER Werne…</td><td>&quot;GRIFFITHS Benj…</td><td>211</td><td>1277</td><td>&quot;HUN&quot;</td><td>&quot;FRG&quot;</td></tr><tr><td>1954</td><td>&quot;26 Jun 1954 - …</td><td>&quot;Quarter-finals…</td><td>&quot;La Pontaise&quot;</td><td>&quot;Lausanne &quot;</td><td>&quot;Austria&quot;</td><td>7</td><td>5</td><td>&quot;Switzerland&quot;</td><td>35000</td><td>5</td><td>4</td><td>&quot;FAULTLESS Char…</td><td>&quot;ASENSI Manuel …</td><td>&quot;SCHMETZER Emil…</td><td>212</td><td>1237</td><td>&quot;AUT&quot;</td><td>&quot;SUI&quot;</td></tr><tr><td>1958</td><td>&quot;08 Jun 1958 - …</td><td>&quot;Group 2&quot;</td><td>&quot;Idrottsparken&quot;</td><td>&quot;Norrk�Ping &quot;</td><td>&quot;France&quot;</td><td>7</td><td>3</td><td>&quot;Paraguay&quot;</td><td>16518</td><td>2</td><td>2</td><td>&quot;GARDEAZABAL Ju…</td><td>&quot;GRIFFITHS Benj…</td><td>&quot;BROZZI Juan (A…</td><td>220</td><td>1386</td><td>&quot;FRA&quot;</td><td>&quot;PAR&quot;</td></tr><tr><td>1982</td><td>&quot;15 Jun 1982 - …</td><td>&quot;Group 3&quot;</td><td>&quot;Nuevo Estadio&quot;</td><td>&quot;Elche &quot;</td><td>&quot;Hungary&quot;</td><td>10</td><td>1</td><td>&quot;El Salvador&quot;</td><td>23000</td><td>3</td><td>0</td><td>&quot;AL DOY Ebrahim…</td><td>&quot;CORVER Charles…</td><td>&quot;LUND-SORENSEN …</td><td>293</td><td>896</td><td>&quot;HUN&quot;</td><td>&quot;SLV&quot;</td></tr></tbody></table></div>"
      ],
      "text/plain": [
       "shape: (5, 19)\n",
       "┌──────┬─────────────┬─────────────┬─────────────┬───┬─────────┬─────────┬────────────┬────────────┐\n",
       "│ Year ┆ Datetime    ┆ Stage       ┆ Stadium     ┆ … ┆ RoundID ┆ MatchID ┆ HomeTeamIn ┆ AwayTeamIn │\n",
       "│ ---  ┆ ---         ┆ ---         ┆ ---         ┆   ┆ ---     ┆ ---     ┆ itials     ┆ itials     │\n",
       "│ i64  ┆ str         ┆ str         ┆ str         ┆   ┆ i64     ┆ i64     ┆ ---        ┆ ---        │\n",
       "│      ┆             ┆             ┆             ┆   ┆         ┆         ┆ str        ┆ str        │\n",
       "╞══════╪═════════════╪═════════════╪═════════════╪═══╪═════════╪═════════╪════════════╪════════════╡\n",
       "│ 1938 ┆ 05 Jun 1938 ┆ First round ┆ Stade de la ┆ … ┆ 206     ┆ 1150    ┆ BRA        ┆ POL        │\n",
       "│      ┆ - 17:30     ┆             ┆ Meinau      ┆   ┆         ┆         ┆            ┆            │\n",
       "│ 1954 ┆ 20 Jun 1954 ┆ Group 2     ┆ St. Jakob   ┆ … ┆ 211     ┆ 1277    ┆ HUN        ┆ FRG        │\n",
       "│      ┆ - 16:50     ┆             ┆             ┆   ┆         ┆         ┆            ┆            │\n",
       "│ 1954 ┆ 26 Jun 1954 ┆ Quarter-fin ┆ La Pontaise ┆ … ┆ 212     ┆ 1237    ┆ AUT        ┆ SUI        │\n",
       "│      ┆ - 17:00     ┆ als         ┆             ┆   ┆         ┆         ┆            ┆            │\n",
       "│ 1958 ┆ 08 Jun 1958 ┆ Group 2     ┆ Idrottspark ┆ … ┆ 220     ┆ 1386    ┆ FRA        ┆ PAR        │\n",
       "│      ┆ - 19:00     ┆             ┆ en          ┆   ┆         ┆         ┆            ┆            │\n",
       "│ 1982 ┆ 15 Jun 1982 ┆ Group 3     ┆ Nuevo       ┆ … ┆ 293     ┆ 896     ┆ HUN        ┆ SLV        │\n",
       "│      ┆ - 21:00     ┆             ┆ Estadio     ┆   ┆         ┆         ┆            ┆            │\n",
       "└──────┴─────────────┴─────────────┴─────────────┴───┴─────────┴─────────┴────────────┴────────────┘"
      ]
     },
     "execution_count": 11,
     "metadata": {},
     "output_type": "execute_result"
    }
   ],
   "source": [
    "clean_df.filter((pl.col(\"HomeTeamGoals\")+pl.col(\"AwayTeamGoals\")) >= 10)"
   ]
  },
  {
   "cell_type": "markdown",
   "id": "8351bcf2",
   "metadata": {
    "papermill": {
     "duration": 0.012371,
     "end_time": "2024-01-13T03:41:01.783525",
     "exception": false,
     "start_time": "2024-01-13T03:41:01.771154",
     "status": "completed"
    },
    "tags": []
   },
   "source": [
    "**Number of main referees who have repeated games in a World Cup**"
   ]
  },
  {
   "cell_type": "code",
   "execution_count": 12,
   "id": "72cb4224",
   "metadata": {
    "execution": {
     "iopub.execute_input": "2024-01-13T03:41:01.811015Z",
     "iopub.status.busy": "2024-01-13T03:41:01.809981Z",
     "iopub.status.idle": "2024-01-13T03:41:01.829448Z",
     "shell.execute_reply": "2024-01-13T03:41:01.828394Z"
    },
    "papermill": {
     "duration": 0.035947,
     "end_time": "2024-01-13T03:41:01.832198",
     "exception": false,
     "start_time": "2024-01-13T03:41:01.796251",
     "status": "completed"
    },
    "tags": []
   },
   "outputs": [
    {
     "data": {
      "text/html": [
       "<div><style>\n",
       ".dataframe > thead > tr,\n",
       ".dataframe > tbody > tr {\n",
       "  text-align: right;\n",
       "  white-space: pre-wrap;\n",
       "}\n",
       "</style>\n",
       "<small>shape: (20, 2)</small><table border=\"1\" class=\"dataframe\"><thead><tr><th>Year</th><th>count</th></tr><tr><td>i64</td><td>u32</td></tr></thead><tbody><tr><td>1930</td><td>11</td></tr><tr><td>1934</td><td>11</td></tr><tr><td>1938</td><td>13</td></tr><tr><td>1950</td><td>14</td></tr><tr><td>1954</td><td>16</td></tr><tr><td>1958</td><td>22</td></tr><tr><td>1962</td><td>18</td></tr><tr><td>1966</td><td>25</td></tr><tr><td>1970</td><td>25</td></tr><tr><td>1974</td><td>30</td></tr><tr><td>1978</td><td>28</td></tr><tr><td>1982</td><td>41</td></tr><tr><td>1986</td><td>36</td></tr><tr><td>1990</td><td>29</td></tr><tr><td>1994</td><td>24</td></tr><tr><td>1998</td><td>34</td></tr><tr><td>2002</td><td>37</td></tr><tr><td>2006</td><td>21</td></tr><tr><td>2010</td><td>24</td></tr><tr><td>2014</td><td>25</td></tr></tbody></table></div>"
      ],
      "text/plain": [
       "shape: (20, 2)\n",
       "┌──────┬───────┐\n",
       "│ Year ┆ count │\n",
       "│ ---  ┆ ---   │\n",
       "│ i64  ┆ u32   │\n",
       "╞══════╪═══════╡\n",
       "│ 1930 ┆ 11    │\n",
       "│ 1934 ┆ 11    │\n",
       "│ 1938 ┆ 13    │\n",
       "│ 1950 ┆ 14    │\n",
       "│ …    ┆ …     │\n",
       "│ 2002 ┆ 37    │\n",
       "│ 2006 ┆ 21    │\n",
       "│ 2010 ┆ 24    │\n",
       "│ 2014 ┆ 25    │\n",
       "└──────┴───────┘"
      ]
     },
     "execution_count": 12,
     "metadata": {},
     "output_type": "execute_result"
    }
   ],
   "source": [
    "clean_df.group_by(\"Year\", maintain_order = True).agg(\n",
    "    pl.col(\"Referee\").unique().count().alias(\"count\")\n",
    ")"
   ]
  },
  {
   "cell_type": "markdown",
   "id": "80f377c3",
   "metadata": {
    "papermill": {
     "duration": 0.012273,
     "end_time": "2024-01-13T03:41:01.857149",
     "exception": false,
     "start_time": "2024-01-13T03:41:01.844876",
     "status": "completed"
    },
    "tags": []
   },
   "source": [
    "**Number of matches played in each world cup**"
   ]
  },
  {
   "cell_type": "code",
   "execution_count": 13,
   "id": "ff45f3de",
   "metadata": {
    "execution": {
     "iopub.execute_input": "2024-01-13T03:41:01.884156Z",
     "iopub.status.busy": "2024-01-13T03:41:01.883709Z",
     "iopub.status.idle": "2024-01-13T03:41:01.893554Z",
     "shell.execute_reply": "2024-01-13T03:41:01.892425Z"
    },
    "papermill": {
     "duration": 0.026103,
     "end_time": "2024-01-13T03:41:01.895916",
     "exception": false,
     "start_time": "2024-01-13T03:41:01.869813",
     "status": "completed"
    },
    "tags": []
   },
   "outputs": [
    {
     "data": {
      "text/html": [
       "<div><style>\n",
       ".dataframe > thead > tr,\n",
       ".dataframe > tbody > tr {\n",
       "  text-align: right;\n",
       "  white-space: pre-wrap;\n",
       "}\n",
       "</style>\n",
       "<small>shape: (20, 2)</small><table border=\"1\" class=\"dataframe\"><thead><tr><th>Year</th><th>count</th></tr><tr><td>i64</td><td>u32</td></tr></thead><tbody><tr><td>1930</td><td>18</td></tr><tr><td>1934</td><td>17</td></tr><tr><td>1938</td><td>18</td></tr><tr><td>1950</td><td>22</td></tr><tr><td>1954</td><td>26</td></tr><tr><td>1958</td><td>35</td></tr><tr><td>1962</td><td>32</td></tr><tr><td>1966</td><td>32</td></tr><tr><td>1970</td><td>32</td></tr><tr><td>1974</td><td>38</td></tr><tr><td>1978</td><td>38</td></tr><tr><td>1982</td><td>52</td></tr><tr><td>1986</td><td>52</td></tr><tr><td>1990</td><td>52</td></tr><tr><td>1994</td><td>52</td></tr><tr><td>1998</td><td>64</td></tr><tr><td>2002</td><td>64</td></tr><tr><td>2006</td><td>64</td></tr><tr><td>2010</td><td>64</td></tr><tr><td>2014</td><td>78</td></tr></tbody></table></div>"
      ],
      "text/plain": [
       "shape: (20, 2)\n",
       "┌──────┬───────┐\n",
       "│ Year ┆ count │\n",
       "│ ---  ┆ ---   │\n",
       "│ i64  ┆ u32   │\n",
       "╞══════╪═══════╡\n",
       "│ 1930 ┆ 18    │\n",
       "│ 1934 ┆ 17    │\n",
       "│ 1938 ┆ 18    │\n",
       "│ 1950 ┆ 22    │\n",
       "│ …    ┆ …     │\n",
       "│ 2002 ┆ 64    │\n",
       "│ 2006 ┆ 64    │\n",
       "│ 2010 ┆ 64    │\n",
       "│ 2014 ┆ 78    │\n",
       "└──────┴───────┘"
      ]
     },
     "execution_count": 13,
     "metadata": {},
     "output_type": "execute_result"
    }
   ],
   "source": [
    "clean_df.group_by(\"Year\", maintain_order = True).agg(\n",
    "    pl.col(\"HomeTeamName\").count().alias(\"count\")\n",
    ")"
   ]
  },
  {
   "cell_type": "markdown",
   "id": "3bffb22e",
   "metadata": {
    "papermill": {
     "duration": 0.012565,
     "end_time": "2024-01-13T03:41:01.921850",
     "exception": false,
     "start_time": "2024-01-13T03:41:01.909285",
     "status": "completed"
    },
    "tags": []
   },
   "source": [
    "**Number of goals scored by the home and away teams in the first half of each game.**"
   ]
  },
  {
   "cell_type": "code",
   "execution_count": 14,
   "id": "6ad27de9",
   "metadata": {
    "execution": {
     "iopub.execute_input": "2024-01-13T03:41:02.012361Z",
     "iopub.status.busy": "2024-01-13T03:41:02.011548Z",
     "iopub.status.idle": "2024-01-13T03:41:02.027124Z",
     "shell.execute_reply": "2024-01-13T03:41:02.025795Z"
    },
    "papermill": {
     "duration": 0.032834,
     "end_time": "2024-01-13T03:41:02.029913",
     "exception": false,
     "start_time": "2024-01-13T03:41:01.997079",
     "status": "completed"
    },
    "tags": []
   },
   "outputs": [
    {
     "data": {
      "text/html": [
       "<div><style>\n",
       ".dataframe > thead > tr,\n",
       ".dataframe > tbody > tr {\n",
       "  text-align: right;\n",
       "  white-space: pre-wrap;\n",
       "}\n",
       "</style>\n",
       "<small>shape: (20, 3)</small><table border=\"1\" class=\"dataframe\"><thead><tr><th>Year</th><th>Total Half Time Home Goals</th><th>Total Half Time Away Goals</th></tr><tr><td>i64</td><td>i64</td><td>i64</td></tr></thead><tbody><tr><td>1930</td><td>27</td><td>5</td></tr><tr><td>1934</td><td>20</td><td>9</td></tr><tr><td>1938</td><td>20</td><td>10</td></tr><tr><td>1950</td><td>33</td><td>8</td></tr><tr><td>1954</td><td>46</td><td>13</td></tr><tr><td>1958</td><td>34</td><td>20</td></tr><tr><td>1962</td><td>29</td><td>10</td></tr><tr><td>1966</td><td>29</td><td>11</td></tr><tr><td>1970</td><td>21</td><td>11</td></tr><tr><td>1974</td><td>21</td><td>24</td></tr><tr><td>1978</td><td>36</td><td>14</td></tr><tr><td>1982</td><td>33</td><td>15</td></tr><tr><td>1986</td><td>25</td><td>23</td></tr><tr><td>1990</td><td>20</td><td>12</td></tr><tr><td>1994</td><td>39</td><td>23</td></tr><tr><td>1998</td><td>39</td><td>27</td></tr><tr><td>2002</td><td>39</td><td>26</td></tr><tr><td>2006</td><td>36</td><td>30</td></tr><tr><td>2010</td><td>29</td><td>28</td></tr><tr><td>2014</td><td>28</td><td>46</td></tr></tbody></table></div>"
      ],
      "text/plain": [
       "shape: (20, 3)\n",
       "┌──────┬────────────────────────────┬────────────────────────────┐\n",
       "│ Year ┆ Total Half Time Home Goals ┆ Total Half Time Away Goals │\n",
       "│ ---  ┆ ---                        ┆ ---                        │\n",
       "│ i64  ┆ i64                        ┆ i64                        │\n",
       "╞══════╪════════════════════════════╪════════════════════════════╡\n",
       "│ 1930 ┆ 27                         ┆ 5                          │\n",
       "│ 1934 ┆ 20                         ┆ 9                          │\n",
       "│ 1938 ┆ 20                         ┆ 10                         │\n",
       "│ 1950 ┆ 33                         ┆ 8                          │\n",
       "│ …    ┆ …                          ┆ …                          │\n",
       "│ 2002 ┆ 39                         ┆ 26                         │\n",
       "│ 2006 ┆ 36                         ┆ 30                         │\n",
       "│ 2010 ┆ 29                         ┆ 28                         │\n",
       "│ 2014 ┆ 28                         ┆ 46                         │\n",
       "└──────┴────────────────────────────┴────────────────────────────┘"
      ]
     },
     "execution_count": 14,
     "metadata": {},
     "output_type": "execute_result"
    }
   ],
   "source": [
    "clean_df.group_by(\"Year\", maintain_order = True).agg(\n",
    "    pl.col(\"HalfTimeHomeGoals\").sum().alias(\"Total Half Time Home Goals\"),\n",
    "    pl.col(\"HalfTimeAwayGoals\").sum().alias(\"Total Half Time Away Goals\")\n",
    ")"
   ]
  },
  {
   "cell_type": "markdown",
   "id": "26ff13e3",
   "metadata": {
    "papermill": {
     "duration": 0.013848,
     "end_time": "2024-01-13T03:41:02.057199",
     "exception": false,
     "start_time": "2024-01-13T03:41:02.043351",
     "status": "completed"
    },
    "tags": []
   },
   "source": [
    "**Which is the city where the most World Cup matches have been played.**"
   ]
  },
  {
   "cell_type": "code",
   "execution_count": 15,
   "id": "57f8eae8",
   "metadata": {
    "execution": {
     "iopub.execute_input": "2024-01-13T03:41:02.086589Z",
     "iopub.status.busy": "2024-01-13T03:41:02.085343Z",
     "iopub.status.idle": "2024-01-13T03:41:02.100784Z",
     "shell.execute_reply": "2024-01-13T03:41:02.099540Z"
    },
    "papermill": {
     "duration": 0.033088,
     "end_time": "2024-01-13T03:41:02.103660",
     "exception": false,
     "start_time": "2024-01-13T03:41:02.070572",
     "status": "completed"
    },
    "tags": []
   },
   "outputs": [
    {
     "data": {
      "text/html": [
       "<div><style>\n",
       ".dataframe > thead > tr,\n",
       ".dataframe > tbody > tr {\n",
       "  text-align: right;\n",
       "  white-space: pre-wrap;\n",
       "}\n",
       "</style>\n",
       "<small>shape: (151, 2)</small><table border=\"1\" class=\"dataframe\"><thead><tr><th>City</th><th>Number of Matches</th></tr><tr><td>str</td><td>u32</td></tr></thead><tbody><tr><td>&quot;Montevideo &quot;</td><td>18</td></tr><tr><td>&quot;Turin &quot;</td><td>7</td></tr><tr><td>&quot;Naples &quot;</td><td>7</td></tr><tr><td>&quot;Milan &quot;</td><td>9</td></tr><tr><td>&quot;Bologna &quot;</td><td>6</td></tr><tr><td>&quot;Florence &quot;</td><td>7</td></tr><tr><td>&quot;Genoa &quot;</td><td>5</td></tr><tr><td>&quot;Rome &quot;</td><td>9</td></tr><tr><td>&quot;Trieste &quot;</td><td>1</td></tr><tr><td>&quot;Paris &quot;</td><td>9</td></tr><tr><td>&quot;Reims &quot;</td><td>1</td></tr><tr><td>&quot;Colombes &quot;</td><td>3</td></tr><tr><td>&hellip;</td><td>&hellip;</td></tr><tr><td>&quot;Phokeng &quot;</td><td>6</td></tr><tr><td>&quot;Polokwane &quot;</td><td>4</td></tr><tr><td>&quot;Tshwane/Pretor…</td><td>6</td></tr><tr><td>&quot;Durban &quot;</td><td>7</td></tr><tr><td>&quot;Mangaung/Bloem…</td><td>6</td></tr><tr><td>&quot;Nelspruit &quot;</td><td>4</td></tr><tr><td>&quot;Natal &quot;</td><td>4</td></tr><tr><td>&quot;Salvador &quot;</td><td>8</td></tr><tr><td>&quot;Cuiaba &quot;</td><td>4</td></tr><tr><td>&quot;Fortaleza &quot;</td><td>8</td></tr><tr><td>&quot;Manaus &quot;</td><td>4</td></tr><tr><td>&quot;Brasilia &quot;</td><td>10</td></tr></tbody></table></div>"
      ],
      "text/plain": [
       "shape: (151, 2)\n",
       "┌─────────────┬───────────────────┐\n",
       "│ City        ┆ Number of Matches │\n",
       "│ ---         ┆ ---               │\n",
       "│ str         ┆ u32               │\n",
       "╞═════════════╪═══════════════════╡\n",
       "│ Montevideo  ┆ 18                │\n",
       "│ Turin       ┆ 7                 │\n",
       "│ Naples      ┆ 7                 │\n",
       "│ Milan       ┆ 9                 │\n",
       "│ …           ┆ …                 │\n",
       "│ Cuiaba      ┆ 4                 │\n",
       "│ Fortaleza   ┆ 8                 │\n",
       "│ Manaus      ┆ 4                 │\n",
       "│ Brasilia    ┆ 10                │\n",
       "└─────────────┴───────────────────┘"
      ]
     },
     "execution_count": 15,
     "metadata": {},
     "output_type": "execute_result"
    }
   ],
   "source": [
    "clean_df.group_by(\"City\", maintain_order = True).agg(\n",
    "    pl.col(\"City\").count().alias(\"Number of Matches\")\n",
    ")"
   ]
  },
  {
   "cell_type": "markdown",
   "id": "5a85fdfe",
   "metadata": {
    "papermill": {
     "duration": 0.012961,
     "end_time": "2024-01-13T03:41:02.130135",
     "exception": false,
     "start_time": "2024-01-13T03:41:02.117174",
     "status": "completed"
    },
    "tags": []
   },
   "source": [
    "**Number of goals in each world cup for the visiting team and the home team.**"
   ]
  },
  {
   "cell_type": "code",
   "execution_count": 16,
   "id": "9f473ccd",
   "metadata": {
    "execution": {
     "iopub.execute_input": "2024-01-13T03:41:02.159680Z",
     "iopub.status.busy": "2024-01-13T03:41:02.159245Z",
     "iopub.status.idle": "2024-01-13T03:41:02.170451Z",
     "shell.execute_reply": "2024-01-13T03:41:02.169290Z"
    },
    "papermill": {
     "duration": 0.028796,
     "end_time": "2024-01-13T03:41:02.172836",
     "exception": false,
     "start_time": "2024-01-13T03:41:02.144040",
     "status": "completed"
    },
    "tags": []
   },
   "outputs": [
    {
     "data": {
      "text/html": [
       "<div><style>\n",
       ".dataframe > thead > tr,\n",
       ".dataframe > tbody > tr {\n",
       "  text-align: right;\n",
       "  white-space: pre-wrap;\n",
       "}\n",
       "</style>\n",
       "<small>shape: (20, 3)</small><table border=\"1\" class=\"dataframe\"><thead><tr><th>Year</th><th>HomeTeamGoals</th><th>AwayTeamGoals</th></tr><tr><td>i64</td><td>i64</td><td>i64</td></tr></thead><tbody><tr><td>1930</td><td>59</td><td>11</td></tr><tr><td>1934</td><td>48</td><td>22</td></tr><tr><td>1938</td><td>61</td><td>23</td></tr><tr><td>1950</td><td>69</td><td>19</td></tr><tr><td>1954</td><td>109</td><td>31</td></tr><tr><td>1958</td><td>88</td><td>38</td></tr><tr><td>1962</td><td>69</td><td>20</td></tr><tr><td>1966</td><td>69</td><td>20</td></tr><tr><td>1970</td><td>72</td><td>23</td></tr><tr><td>1974</td><td>51</td><td>46</td></tr><tr><td>1978</td><td>79</td><td>23</td></tr><tr><td>1982</td><td>97</td><td>49</td></tr><tr><td>1986</td><td>74</td><td>58</td></tr><tr><td>1990</td><td>67</td><td>48</td></tr><tr><td>1994</td><td>83</td><td>58</td></tr><tr><td>1998</td><td>98</td><td>73</td></tr><tr><td>2002</td><td>89</td><td>72</td></tr><tr><td>2006</td><td>86</td><td>61</td></tr><tr><td>2010</td><td>76</td><td>69</td></tr><tr><td>2014</td><td>95</td><td>105</td></tr></tbody></table></div>"
      ],
      "text/plain": [
       "shape: (20, 3)\n",
       "┌──────┬───────────────┬───────────────┐\n",
       "│ Year ┆ HomeTeamGoals ┆ AwayTeamGoals │\n",
       "│ ---  ┆ ---           ┆ ---           │\n",
       "│ i64  ┆ i64           ┆ i64           │\n",
       "╞══════╪═══════════════╪═══════════════╡\n",
       "│ 1930 ┆ 59            ┆ 11            │\n",
       "│ 1934 ┆ 48            ┆ 22            │\n",
       "│ 1938 ┆ 61            ┆ 23            │\n",
       "│ 1950 ┆ 69            ┆ 19            │\n",
       "│ …    ┆ …             ┆ …             │\n",
       "│ 2002 ┆ 89            ┆ 72            │\n",
       "│ 2006 ┆ 86            ┆ 61            │\n",
       "│ 2010 ┆ 76            ┆ 69            │\n",
       "│ 2014 ┆ 95            ┆ 105           │\n",
       "└──────┴───────────────┴───────────────┘"
      ]
     },
     "execution_count": 16,
     "metadata": {},
     "output_type": "execute_result"
    }
   ],
   "source": [
    "dfs = clean_df.select(pl.col(\"Year\", \"HomeTeamGoals\", \"AwayTeamGoals\"))\n",
    "dfs.group_by(\"Year\", maintain_order = True).sum()"
   ]
  },
  {
   "cell_type": "markdown",
   "id": "ef781395",
   "metadata": {
    "papermill": {
     "duration": 0.013492,
     "end_time": "2024-01-13T03:41:02.199962",
     "exception": false,
     "start_time": "2024-01-13T03:41:02.186470",
     "status": "completed"
    },
    "tags": []
   },
   "source": [
    "> As a curious fact, we can observe that the local teams are the ones that score the most goals in the World Cups."
   ]
  },
  {
   "cell_type": "markdown",
   "id": "fd7de89f",
   "metadata": {
    "papermill": {
     "duration": 0.013248,
     "end_time": "2024-01-13T03:41:02.226878",
     "exception": false,
     "start_time": "2024-01-13T03:41:02.213630",
     "status": "completed"
    },
    "tags": []
   },
   "source": [
    "We can filter our dataset, let's filter the 2006 World Cup matches."
   ]
  },
  {
   "cell_type": "code",
   "execution_count": 17,
   "id": "71be1a9f",
   "metadata": {
    "execution": {
     "iopub.execute_input": "2024-01-13T03:41:02.257219Z",
     "iopub.status.busy": "2024-01-13T03:41:02.255888Z",
     "iopub.status.idle": "2024-01-13T03:41:02.278756Z",
     "shell.execute_reply": "2024-01-13T03:41:02.277554Z"
    },
    "papermill": {
     "duration": 0.040551,
     "end_time": "2024-01-13T03:41:02.281302",
     "exception": false,
     "start_time": "2024-01-13T03:41:02.240751",
     "status": "completed"
    },
    "tags": []
   },
   "outputs": [
    {
     "data": {
      "text/html": [
       "<div><style>\n",
       ".dataframe > thead > tr,\n",
       ".dataframe > tbody > tr {\n",
       "  text-align: right;\n",
       "  white-space: pre-wrap;\n",
       "}\n",
       "</style>\n",
       "<small>shape: (64, 19)</small><table border=\"1\" class=\"dataframe\"><thead><tr><th>Year</th><th>Datetime</th><th>Stage</th><th>Stadium</th><th>City</th><th>HomeTeamName</th><th>HomeTeamGoals</th><th>AwayTeamGoals</th><th>AwayTeamName</th><th>Attendance</th><th>HalfTimeHomeGoals</th><th>HalfTimeAwayGoals</th><th>Referee</th><th>Assistant1</th><th>Assistant2</th><th>RoundID</th><th>MatchID</th><th>HomeTeamInitials</th><th>AwayTeamInitials</th></tr><tr><td>i64</td><td>str</td><td>str</td><td>str</td><td>str</td><td>str</td><td>i64</td><td>i64</td><td>str</td><td>i64</td><td>i64</td><td>i64</td><td>str</td><td>str</td><td>str</td><td>i64</td><td>i64</td><td>str</td><td>str</td></tr></thead><tbody><tr><td>2006</td><td>&quot;09 Jun 2006 - …</td><td>&quot;Group A&quot;</td><td>&quot;FIFA World Cup…</td><td>&quot;Munich &quot;</td><td>&quot;Germany&quot;</td><td>4</td><td>2</td><td>&quot;Costa Rica&quot;</td><td>66000</td><td>2</td><td>1</td><td>&quot;ELIZONDO Horac…</td><td>&quot;GARCIA Dario (…</td><td>&quot;OTERO Rodolfo …</td><td>97410100</td><td>97410001</td><td>&quot;GER&quot;</td><td>&quot;CRC&quot;</td></tr><tr><td>2006</td><td>&quot;09 Jun 2006 - …</td><td>&quot;Group A&quot;</td><td>&quot;FIFA World Cup…</td><td>&quot;Gelsenkirchen …</td><td>&quot;Poland&quot;</td><td>0</td><td>2</td><td>&quot;Ecuador&quot;</td><td>52000</td><td>0</td><td>1</td><td>&quot;KAMIKAWA Toru …</td><td>&quot;HIROSHIMA Yosh…</td><td>&quot;KIM Dae Young …</td><td>97410100</td><td>97410002</td><td>&quot;POL&quot;</td><td>&quot;ECU&quot;</td></tr><tr><td>2006</td><td>&quot;10 Jun 2006 - …</td><td>&quot;Group B&quot;</td><td>&quot;FIFA World Cup…</td><td>&quot;Frankfurt/Main…</td><td>&quot;England&quot;</td><td>1</td><td>0</td><td>&quot;Paraguay&quot;</td><td>48000</td><td>1</td><td>0</td><td>&quot;RODRIGUEZ Marc…</td><td>&quot;CAMARGO Jose L…</td><td>&quot;LEAL Leonel (C…</td><td>97410100</td><td>97410003</td><td>&quot;ENG&quot;</td><td>&quot;PAR&quot;</td></tr><tr><td>2006</td><td>&quot;10 Jun 2006 - …</td><td>&quot;Group B&quot;</td><td>&quot;FIFA World Cup…</td><td>&quot;Dortmund &quot;</td><td>&quot;rn&quot;&gt;Trinidad a…</td><td>0</td><td>0</td><td>&quot;Sweden&quot;</td><td>62959</td><td>0</td><td>0</td><td>&quot;MAIDIN Shamsul…</td><td>&quot;PERMPANICH Pra…</td><td>&quot;GHULOUM Eisa (…</td><td>97410100</td><td>97410004</td><td>&quot;TRI&quot;</td><td>&quot;SWE&quot;</td></tr><tr><td>2006</td><td>&quot;10 Jun 2006 - …</td><td>&quot;Group C&quot;</td><td>&quot;FIFA World Cup…</td><td>&quot;Hamburg &quot;</td><td>&quot;Argentina&quot;</td><td>2</td><td>1</td><td>&quot;C�te d&#x27;Ivoire&quot;</td><td>49480</td><td>2</td><td>0</td><td>&quot;DE BLEECKERE F…</td><td>&quot;HERMANS Peter …</td><td>&quot;VROMANS Walter…</td><td>97410100</td><td>97410005</td><td>&quot;ARG&quot;</td><td>&quot;CIV&quot;</td></tr><tr><td>2006</td><td>&quot;11 Jun 2006 - …</td><td>&quot;Group C&quot;</td><td>&quot;Zentralstadion…</td><td>&quot;Leipzig &quot;</td><td>&quot;rn&quot;&gt;Serbia and…</td><td>0</td><td>1</td><td>&quot;Netherlands&quot;</td><td>43000</td><td>0</td><td>1</td><td>&quot;MERK Markus (G…</td><td>&quot;SCHRAER Christ…</td><td>&quot;SALVER Jan-Hen…</td><td>97410100</td><td>97410006</td><td>&quot;SCG&quot;</td><td>&quot;NED&quot;</td></tr><tr><td>2006</td><td>&quot;11 Jun 2006 - …</td><td>&quot;Group D&quot;</td><td>&quot;Franken-Stadio…</td><td>&quot;Nuremberg &quot;</td><td>&quot;Mexico&quot;</td><td>3</td><td>1</td><td>&quot;Iran&quot;</td><td>41000</td><td>1</td><td>1</td><td>&quot;ROSETTI Robert…</td><td>&quot;COPELLI Cristi…</td><td>&quot;STAGNOLI Aless…</td><td>97410100</td><td>97410007</td><td>&quot;MEX&quot;</td><td>&quot;IRN&quot;</td></tr><tr><td>2006</td><td>&quot;11 Jun 2006 - …</td><td>&quot;Group D&quot;</td><td>&quot;FIFA World Cup…</td><td>&quot;Cologne &quot;</td><td>&quot;Angola&quot;</td><td>0</td><td>1</td><td>&quot;Portugal&quot;</td><td>45000</td><td>0</td><td>1</td><td>&quot;LARRIONDA Jorg…</td><td>&quot;RIAL Walter (U…</td><td>&quot;FANDINO Pablo …</td><td>97410100</td><td>97410008</td><td>&quot;ANG&quot;</td><td>&quot;POR&quot;</td></tr><tr><td>2006</td><td>&quot;12 Jun 2006 - …</td><td>&quot;Group F&quot;</td><td>&quot;Fritz-Walter-S…</td><td>&quot;Kaiserslautern…</td><td>&quot;Australia&quot;</td><td>3</td><td>1</td><td>&quot;Japan&quot;</td><td>46000</td><td>0</td><td>1</td><td>&quot;ABD EL FATAH E…</td><td>&quot;DANTE Dramane …</td><td>&quot;NDOYE Mamadou …</td><td>97410100</td><td>97410012</td><td>&quot;AUS&quot;</td><td>&quot;JPN&quot;</td></tr><tr><td>2006</td><td>&quot;12 Jun 2006 - …</td><td>&quot;Group E&quot;</td><td>&quot;FIFA World Cup…</td><td>&quot;Gelsenkirchen …</td><td>&quot;USA&quot;</td><td>0</td><td>3</td><td>&quot;Czech Republic…</td><td>52000</td><td>0</td><td>2</td><td>&quot;AMARILLA Carlo…</td><td>&quot;ANDINO Amelio …</td><td>&quot;BERNAL Manuel …</td><td>97410100</td><td>97410010</td><td>&quot;USA&quot;</td><td>&quot;CZE&quot;</td></tr><tr><td>2006</td><td>&quot;12 Jun 2006 - …</td><td>&quot;Group E&quot;</td><td>&quot;FIFA World Cup…</td><td>&quot;Hanover &quot;</td><td>&quot;Italy&quot;</td><td>2</td><td>0</td><td>&quot;Ghana&quot;</td><td>43000</td><td>1</td><td>0</td><td>&quot;SIMON Carlos (…</td><td>&quot;TAVARES Ariste…</td><td>&quot;CORONA Ednilso…</td><td>97410100</td><td>97410009</td><td>&quot;ITA&quot;</td><td>&quot;GHA&quot;</td></tr><tr><td>2006</td><td>&quot;13 Jun 2006 - …</td><td>&quot;Group G&quot;</td><td>&quot;FIFA World Cup…</td><td>&quot;Frankfurt/Main…</td><td>&quot;Korea Republic…</td><td>2</td><td>1</td><td>&quot;Togo&quot;</td><td>48000</td><td>0</td><td>1</td><td>&quot;POLL Graham (E…</td><td>&quot;SHARP Philip (…</td><td>&quot;TURNER Glenn (…</td><td>97410100</td><td>97410014</td><td>&quot;KOR&quot;</td><td>&quot;TOG&quot;</td></tr><tr><td>&hellip;</td><td>&hellip;</td><td>&hellip;</td><td>&hellip;</td><td>&hellip;</td><td>&hellip;</td><td>&hellip;</td><td>&hellip;</td><td>&hellip;</td><td>&hellip;</td><td>&hellip;</td><td>&hellip;</td><td>&hellip;</td><td>&hellip;</td><td>&hellip;</td><td>&hellip;</td><td>&hellip;</td><td>&hellip;</td><td>&hellip;</td></tr><tr><td>2006</td><td>&quot;26 Jun 2006 - …</td><td>&quot;Round of 16&quot;</td><td>&quot;Fritz-Walter-S…</td><td>&quot;Kaiserslautern…</td><td>&quot;Italy&quot;</td><td>1</td><td>0</td><td>&quot;Australia&quot;</td><td>46000</td><td>0</td><td>0</td><td>&quot;MEDINA CANTALE…</td><td>&quot;GIRALDEZ CARRA…</td><td>&quot;MEDINA HERNAND…</td><td>97410200</td><td>97410053</td><td>&quot;ITA&quot;</td><td>&quot;AUS&quot;</td></tr><tr><td>2006</td><td>&quot;26 Jun 2006 - …</td><td>&quot;Round of 16&quot;</td><td>&quot;FIFA World Cup…</td><td>&quot;Cologne &quot;</td><td>&quot;Switzerland&quot;</td><td>0</td><td>0</td><td>&quot;Ukraine&quot;</td><td>45000</td><td>0</td><td>0</td><td>&quot;ARCHUNDIA Beni…</td><td>&quot;RAMIREZ Jose (…</td><td>&quot;VERGARA Hector…</td><td>97410200</td><td>97410054</td><td>&quot;SUI&quot;</td><td>&quot;UKR&quot;</td></tr><tr><td>2006</td><td>&quot;27 Jun 2006 - …</td><td>&quot;Round of 16&quot;</td><td>&quot;FIFA World Cup…</td><td>&quot;Dortmund &quot;</td><td>&quot;Brazil&quot;</td><td>3</td><td>0</td><td>&quot;Ghana&quot;</td><td>65000</td><td>2</td><td>0</td><td>&quot;MICHEL Lubos (…</td><td>&quot;Roman SLYSKO (…</td><td>&quot;BALKO Martin (…</td><td>97410200</td><td>97410055</td><td>&quot;BRA&quot;</td><td>&quot;GHA&quot;</td></tr><tr><td>2006</td><td>&quot;27 Jun 2006 - …</td><td>&quot;Round of 16&quot;</td><td>&quot;FIFA World Cup…</td><td>&quot;Hanover &quot;</td><td>&quot;Spain&quot;</td><td>1</td><td>3</td><td>&quot;France&quot;</td><td>43000</td><td>1</td><td>1</td><td>&quot;ROSETTI Robert…</td><td>&quot;COPELLI Cristi…</td><td>&quot;STAGNOLI Aless…</td><td>97410200</td><td>97410056</td><td>&quot;ESP&quot;</td><td>&quot;FRA&quot;</td></tr><tr><td>2006</td><td>&quot;30 Jun 2006 - …</td><td>&quot;Quarter-finals…</td><td>&quot;Olympiastadion…</td><td>&quot;Berlin &quot;</td><td>&quot;Germany&quot;</td><td>1</td><td>1</td><td>&quot;Argentina&quot;</td><td>72000</td><td>0</td><td>0</td><td>&quot;MICHEL Lubos (…</td><td>&quot;Roman SLYSKO (…</td><td>&quot;BALKO Martin (…</td><td>97410300</td><td>97410057</td><td>&quot;GER&quot;</td><td>&quot;ARG&quot;</td></tr><tr><td>2006</td><td>&quot;30 Jun 2006 - …</td><td>&quot;Quarter-finals…</td><td>&quot;FIFA World Cup…</td><td>&quot;Hamburg &quot;</td><td>&quot;Italy&quot;</td><td>3</td><td>0</td><td>&quot;Ukraine&quot;</td><td>50000</td><td>1</td><td>0</td><td>&quot;DE BLEECKERE F…</td><td>&quot;HERMANS Peter …</td><td>&quot;VROMANS Walter…</td><td>97410300</td><td>97410058</td><td>&quot;ITA&quot;</td><td>&quot;UKR&quot;</td></tr><tr><td>2006</td><td>&quot;01 Jul 2006 - …</td><td>&quot;Quarter-finals…</td><td>&quot;FIFA World Cup…</td><td>&quot;Gelsenkirchen …</td><td>&quot;England&quot;</td><td>0</td><td>0</td><td>&quot;Portugal&quot;</td><td>52000</td><td>0</td><td>0</td><td>&quot;ELIZONDO Horac…</td><td>&quot;GARCIA Dario (…</td><td>&quot;OTERO Rodolfo …</td><td>97410300</td><td>97410059</td><td>&quot;ENG&quot;</td><td>&quot;POR&quot;</td></tr><tr><td>2006</td><td>&quot;01 Jul 2006 - …</td><td>&quot;Quarter-finals…</td><td>&quot;FIFA World Cup…</td><td>&quot;Frankfurt/Main…</td><td>&quot;Brazil&quot;</td><td>0</td><td>1</td><td>&quot;France&quot;</td><td>48000</td><td>0</td><td>0</td><td>&quot;MEDINA CANTALE…</td><td>&quot;GIRALDEZ CARRA…</td><td>&quot;MEDINA HERNAND…</td><td>97410300</td><td>97410060</td><td>&quot;BRA&quot;</td><td>&quot;FRA&quot;</td></tr><tr><td>2006</td><td>&quot;04 Jul 2006 - …</td><td>&quot;Semi-finals&quot;</td><td>&quot;FIFA World Cup…</td><td>&quot;Dortmund &quot;</td><td>&quot;Germany&quot;</td><td>0</td><td>2</td><td>&quot;Italy&quot;</td><td>65000</td><td>0</td><td>0</td><td>&quot;ARCHUNDIA Beni…</td><td>&quot;RAMIREZ Jose (…</td><td>&quot;VERGARA Hector…</td><td>97410400</td><td>97410061</td><td>&quot;GER&quot;</td><td>&quot;ITA&quot;</td></tr><tr><td>2006</td><td>&quot;05 Jul 2006 - …</td><td>&quot;Semi-finals&quot;</td><td>&quot;FIFA World Cup…</td><td>&quot;Munich &quot;</td><td>&quot;Portugal&quot;</td><td>0</td><td>1</td><td>&quot;France&quot;</td><td>66000</td><td>0</td><td>1</td><td>&quot;LARRIONDA Jorg…</td><td>&quot;RIAL Walter (U…</td><td>&quot;FANDINO Pablo …</td><td>97410400</td><td>97410062</td><td>&quot;POR&quot;</td><td>&quot;FRA&quot;</td></tr><tr><td>2006</td><td>&quot;08 Jul 2006 - …</td><td>&quot;Third place&quot;</td><td>&quot;Gottlieb-Daiml…</td><td>&quot;Stuttgart &quot;</td><td>&quot;Germany&quot;</td><td>3</td><td>1</td><td>&quot;Portugal&quot;</td><td>52000</td><td>0</td><td>0</td><td>&quot;KAMIKAWA Toru …</td><td>&quot;HIROSHIMA Yosh…</td><td>&quot;KIM Dae Young …</td><td>97410500</td><td>97410063</td><td>&quot;GER&quot;</td><td>&quot;POR&quot;</td></tr><tr><td>2006</td><td>&quot;09 Jul 2006 - …</td><td>&quot;Final&quot;</td><td>&quot;Olympiastadion…</td><td>&quot;Berlin &quot;</td><td>&quot;Italy&quot;</td><td>1</td><td>1</td><td>&quot;France&quot;</td><td>69000</td><td>0</td><td>0</td><td>&quot;ELIZONDO Horac…</td><td>&quot;GARCIA Dario (…</td><td>&quot;OTERO Rodolfo …</td><td>97410600</td><td>97410064</td><td>&quot;ITA&quot;</td><td>&quot;FRA&quot;</td></tr></tbody></table></div>"
      ],
      "text/plain": [
       "shape: (64, 19)\n",
       "┌──────┬─────────────┬────────────┬────────────┬───┬──────────┬──────────┬────────────┬────────────┐\n",
       "│ Year ┆ Datetime    ┆ Stage      ┆ Stadium    ┆ … ┆ RoundID  ┆ MatchID  ┆ HomeTeamIn ┆ AwayTeamIn │\n",
       "│ ---  ┆ ---         ┆ ---        ┆ ---        ┆   ┆ ---      ┆ ---      ┆ itials     ┆ itials     │\n",
       "│ i64  ┆ str         ┆ str        ┆ str        ┆   ┆ i64      ┆ i64      ┆ ---        ┆ ---        │\n",
       "│      ┆             ┆            ┆            ┆   ┆          ┆          ┆ str        ┆ str        │\n",
       "╞══════╪═════════════╪════════════╪════════════╪═══╪══════════╪══════════╪════════════╪════════════╡\n",
       "│ 2006 ┆ 09 Jun 2006 ┆ Group A    ┆ FIFA World ┆ … ┆ 97410100 ┆ 97410001 ┆ GER        ┆ CRC        │\n",
       "│      ┆ - 18:00     ┆            ┆ Cup        ┆   ┆          ┆          ┆            ┆            │\n",
       "│      ┆             ┆            ┆ Stadium,   ┆   ┆          ┆          ┆            ┆            │\n",
       "│      ┆             ┆            ┆ Munich     ┆   ┆          ┆          ┆            ┆            │\n",
       "│ 2006 ┆ 09 Jun 2006 ┆ Group A    ┆ FIFA World ┆ … ┆ 97410100 ┆ 97410002 ┆ POL        ┆ ECU        │\n",
       "│      ┆ - 21:00     ┆            ┆ Cup        ┆   ┆          ┆          ┆            ┆            │\n",
       "│      ┆             ┆            ┆ Stadium,   ┆   ┆          ┆          ┆            ┆            │\n",
       "│      ┆             ┆            ┆ Gelsenki…  ┆   ┆          ┆          ┆            ┆            │\n",
       "│ 2006 ┆ 10 Jun 2006 ┆ Group B    ┆ FIFA World ┆ … ┆ 97410100 ┆ 97410003 ┆ ENG        ┆ PAR        │\n",
       "│      ┆ - 15:00     ┆            ┆ Cup        ┆   ┆          ┆          ┆            ┆            │\n",
       "│      ┆             ┆            ┆ Stadium,   ┆   ┆          ┆          ┆            ┆            │\n",
       "│      ┆             ┆            ┆ Frankfur…  ┆   ┆          ┆          ┆            ┆            │\n",
       "│ 2006 ┆ 10 Jun 2006 ┆ Group B    ┆ FIFA World ┆ … ┆ 97410100 ┆ 97410004 ┆ TRI        ┆ SWE        │\n",
       "│      ┆ - 18:00     ┆            ┆ Cup        ┆   ┆          ┆          ┆            ┆            │\n",
       "│      ┆             ┆            ┆ Stadium,   ┆   ┆          ┆          ┆            ┆            │\n",
       "│      ┆             ┆            ┆ Dortmund   ┆   ┆          ┆          ┆            ┆            │\n",
       "│ …    ┆ …           ┆ …          ┆ …          ┆ … ┆ …        ┆ …        ┆ …          ┆ …          │\n",
       "│ 2006 ┆ 04 Jul 2006 ┆ Semi-final ┆ FIFA World ┆ … ┆ 97410400 ┆ 97410061 ┆ GER        ┆ ITA        │\n",
       "│      ┆ - 21:00     ┆ s          ┆ Cup        ┆   ┆          ┆          ┆            ┆            │\n",
       "│      ┆             ┆            ┆ Stadium,   ┆   ┆          ┆          ┆            ┆            │\n",
       "│      ┆             ┆            ┆ Dortmund   ┆   ┆          ┆          ┆            ┆            │\n",
       "│ 2006 ┆ 05 Jul 2006 ┆ Semi-final ┆ FIFA World ┆ … ┆ 97410400 ┆ 97410062 ┆ POR        ┆ FRA        │\n",
       "│      ┆ - 21:00     ┆ s          ┆ Cup        ┆   ┆          ┆          ┆            ┆            │\n",
       "│      ┆             ┆            ┆ Stadium,   ┆   ┆          ┆          ┆            ┆            │\n",
       "│      ┆             ┆            ┆ Munich     ┆   ┆          ┆          ┆            ┆            │\n",
       "│ 2006 ┆ 08 Jul 2006 ┆ Third      ┆ Gottlieb-D ┆ … ┆ 97410500 ┆ 97410063 ┆ GER        ┆ POR        │\n",
       "│      ┆ - 21:00     ┆ place      ┆ aimler-Sta ┆   ┆          ┆          ┆            ┆            │\n",
       "│      ┆             ┆            ┆ dion       ┆   ┆          ┆          ┆            ┆            │\n",
       "│ 2006 ┆ 09 Jul 2006 ┆ Final      ┆ Olympiasta ┆ … ┆ 97410600 ┆ 97410064 ┆ ITA        ┆ FRA        │\n",
       "│      ┆ - 20:00     ┆            ┆ dion       ┆   ┆          ┆          ┆            ┆            │\n",
       "└──────┴─────────────┴────────────┴────────────┴───┴──────────┴──────────┴────────────┴────────────┘"
      ]
     },
     "execution_count": 17,
     "metadata": {},
     "output_type": "execute_result"
    }
   ],
   "source": [
    "df_2006 = clean_df.filter(pl.col(\"Year\") == 2006)\n",
    "df_2006"
   ]
  },
  {
   "cell_type": "markdown",
   "id": "d49b96e0",
   "metadata": {
    "papermill": {
     "duration": 0.013717,
     "end_time": "2024-01-13T03:41:02.309080",
     "exception": false,
     "start_time": "2024-01-13T03:41:02.295363",
     "status": "completed"
    },
    "tags": []
   },
   "source": [
    "Now let's get Argentina's matches in the 2006 World Cup."
   ]
  },
  {
   "cell_type": "code",
   "execution_count": 18,
   "id": "cd8860f8",
   "metadata": {
    "execution": {
     "iopub.execute_input": "2024-01-13T03:41:02.339022Z",
     "iopub.status.busy": "2024-01-13T03:41:02.338584Z",
     "iopub.status.idle": "2024-01-13T03:41:02.356273Z",
     "shell.execute_reply": "2024-01-13T03:41:02.354923Z"
    },
    "papermill": {
     "duration": 0.035974,
     "end_time": "2024-01-13T03:41:02.358964",
     "exception": false,
     "start_time": "2024-01-13T03:41:02.322990",
     "status": "completed"
    },
    "tags": []
   },
   "outputs": [
    {
     "data": {
      "text/html": [
       "<div><style>\n",
       ".dataframe > thead > tr,\n",
       ".dataframe > tbody > tr {\n",
       "  text-align: right;\n",
       "  white-space: pre-wrap;\n",
       "}\n",
       "</style>\n",
       "<small>shape: (5, 19)</small><table border=\"1\" class=\"dataframe\"><thead><tr><th>Year</th><th>Datetime</th><th>Stage</th><th>Stadium</th><th>City</th><th>HomeTeamName</th><th>HomeTeamGoals</th><th>AwayTeamGoals</th><th>AwayTeamName</th><th>Attendance</th><th>HalfTimeHomeGoals</th><th>HalfTimeAwayGoals</th><th>Referee</th><th>Assistant1</th><th>Assistant2</th><th>RoundID</th><th>MatchID</th><th>HomeTeamInitials</th><th>AwayTeamInitials</th></tr><tr><td>i64</td><td>str</td><td>str</td><td>str</td><td>str</td><td>str</td><td>i64</td><td>i64</td><td>str</td><td>i64</td><td>i64</td><td>i64</td><td>str</td><td>str</td><td>str</td><td>i64</td><td>i64</td><td>str</td><td>str</td></tr></thead><tbody><tr><td>2006</td><td>&quot;10 Jun 2006 - …</td><td>&quot;Group C&quot;</td><td>&quot;FIFA World Cup…</td><td>&quot;Hamburg &quot;</td><td>&quot;Argentina&quot;</td><td>2</td><td>1</td><td>&quot;C�te d&#x27;Ivoire&quot;</td><td>49480</td><td>2</td><td>0</td><td>&quot;DE BLEECKERE F…</td><td>&quot;HERMANS Peter …</td><td>&quot;VROMANS Walter…</td><td>97410100</td><td>97410005</td><td>&quot;ARG&quot;</td><td>&quot;CIV&quot;</td></tr><tr><td>2006</td><td>&quot;16 Jun 2006 - …</td><td>&quot;Group C&quot;</td><td>&quot;FIFA World Cup…</td><td>&quot;Gelsenkirchen …</td><td>&quot;Argentina&quot;</td><td>6</td><td>0</td><td>&quot;rn&quot;&gt;Serbia and…</td><td>52000</td><td>3</td><td>0</td><td>&quot;ROSETTI Robert…</td><td>&quot;COPELLI Cristi…</td><td>&quot;STAGNOLI Aless…</td><td>97410100</td><td>97410021</td><td>&quot;ARG&quot;</td><td>&quot;SCG&quot;</td></tr><tr><td>2006</td><td>&quot;21 Jun 2006 - …</td><td>&quot;Group C&quot;</td><td>&quot;FIFA World Cup…</td><td>&quot;Frankfurt/Main…</td><td>&quot;Netherlands&quot;</td><td>0</td><td>0</td><td>&quot;Argentina&quot;</td><td>48000</td><td>0</td><td>0</td><td>&quot;MEDINA CANTALE…</td><td>&quot;GIRALDEZ CARRA…</td><td>&quot;MEDINA HERNAND…</td><td>97410100</td><td>97410037</td><td>&quot;NED&quot;</td><td>&quot;ARG&quot;</td></tr><tr><td>2006</td><td>&quot;24 Jun 2006 - …</td><td>&quot;Round of 16&quot;</td><td>&quot;Zentralstadion…</td><td>&quot;Leipzig &quot;</td><td>&quot;Argentina&quot;</td><td>2</td><td>1</td><td>&quot;Mexico&quot;</td><td>43000</td><td>0</td><td>0</td><td>&quot;BUSACCA Massim…</td><td>&quot;BURAGINA Franc…</td><td>&quot;ARNET Matthias…</td><td>97410200</td><td>97410050</td><td>&quot;ARG&quot;</td><td>&quot;MEX&quot;</td></tr><tr><td>2006</td><td>&quot;30 Jun 2006 - …</td><td>&quot;Quarter-finals…</td><td>&quot;Olympiastadion…</td><td>&quot;Berlin &quot;</td><td>&quot;Germany&quot;</td><td>1</td><td>1</td><td>&quot;Argentina&quot;</td><td>72000</td><td>0</td><td>0</td><td>&quot;MICHEL Lubos (…</td><td>&quot;Roman SLYSKO (…</td><td>&quot;BALKO Martin (…</td><td>97410300</td><td>97410057</td><td>&quot;GER&quot;</td><td>&quot;ARG&quot;</td></tr></tbody></table></div>"
      ],
      "text/plain": [
       "shape: (5, 19)\n",
       "┌──────┬─────────────┬────────────┬────────────┬───┬──────────┬──────────┬────────────┬────────────┐\n",
       "│ Year ┆ Datetime    ┆ Stage      ┆ Stadium    ┆ … ┆ RoundID  ┆ MatchID  ┆ HomeTeamIn ┆ AwayTeamIn │\n",
       "│ ---  ┆ ---         ┆ ---        ┆ ---        ┆   ┆ ---      ┆ ---      ┆ itials     ┆ itials     │\n",
       "│ i64  ┆ str         ┆ str        ┆ str        ┆   ┆ i64      ┆ i64      ┆ ---        ┆ ---        │\n",
       "│      ┆             ┆            ┆            ┆   ┆          ┆          ┆ str        ┆ str        │\n",
       "╞══════╪═════════════╪════════════╪════════════╪═══╪══════════╪══════════╪════════════╪════════════╡\n",
       "│ 2006 ┆ 10 Jun 2006 ┆ Group C    ┆ FIFA World ┆ … ┆ 97410100 ┆ 97410005 ┆ ARG        ┆ CIV        │\n",
       "│      ┆ - 21:00     ┆            ┆ Cup        ┆   ┆          ┆          ┆            ┆            │\n",
       "│      ┆             ┆            ┆ Stadium,   ┆   ┆          ┆          ┆            ┆            │\n",
       "│      ┆             ┆            ┆ Hamburg    ┆   ┆          ┆          ┆            ┆            │\n",
       "│ 2006 ┆ 16 Jun 2006 ┆ Group C    ┆ FIFA World ┆ … ┆ 97410100 ┆ 97410021 ┆ ARG        ┆ SCG        │\n",
       "│      ┆ - 15:00     ┆            ┆ Cup        ┆   ┆          ┆          ┆            ┆            │\n",
       "│      ┆             ┆            ┆ Stadium,   ┆   ┆          ┆          ┆            ┆            │\n",
       "│      ┆             ┆            ┆ Gelsenki…  ┆   ┆          ┆          ┆            ┆            │\n",
       "│ 2006 ┆ 21 Jun 2006 ┆ Group C    ┆ FIFA World ┆ … ┆ 97410100 ┆ 97410037 ┆ NED        ┆ ARG        │\n",
       "│      ┆ - 21:00     ┆            ┆ Cup        ┆   ┆          ┆          ┆            ┆            │\n",
       "│      ┆             ┆            ┆ Stadium,   ┆   ┆          ┆          ┆            ┆            │\n",
       "│      ┆             ┆            ┆ Frankfur…  ┆   ┆          ┆          ┆            ┆            │\n",
       "│ 2006 ┆ 24 Jun 2006 ┆ Round of   ┆ Zentralsta ┆ … ┆ 97410200 ┆ 97410050 ┆ ARG        ┆ MEX        │\n",
       "│      ┆ - 21:00     ┆ 16         ┆ dion       ┆   ┆          ┆          ┆            ┆            │\n",
       "│ 2006 ┆ 30 Jun 2006 ┆ Quarter-fi ┆ Olympiasta ┆ … ┆ 97410300 ┆ 97410057 ┆ GER        ┆ ARG        │\n",
       "│      ┆ - 17:00     ┆ nals       ┆ dion       ┆   ┆          ┆          ┆            ┆            │\n",
       "└──────┴─────────────┴────────────┴────────────┴───┴──────────┴──────────┴────────────┴────────────┘"
      ]
     },
     "execution_count": 18,
     "metadata": {},
     "output_type": "execute_result"
    }
   ],
   "source": [
    "df_2006.filter((pl.col(\"HomeTeamName\") == \"Argentina\") | (pl.col(\"AwayTeamName\") == \"Argentina\"))"
   ]
  }
 ],
 "metadata": {
  "kaggle": {
   "accelerator": "none",
   "dataSources": [
    {
     "datasetId": 2788977,
     "sourceId": 4816191,
     "sourceType": "datasetVersion"
    }
   ],
   "dockerImageVersionId": 30635,
   "isGpuEnabled": false,
   "isInternetEnabled": true,
   "language": "python",
   "sourceType": "notebook"
  },
  "kernelspec": {
   "display_name": "Python 3",
   "language": "python",
   "name": "python3"
  },
  "language_info": {
   "codemirror_mode": {
    "name": "ipython",
    "version": 3
   },
   "file_extension": ".py",
   "mimetype": "text/x-python",
   "name": "python",
   "nbconvert_exporter": "python",
   "pygments_lexer": "ipython3",
   "version": "3.10.12"
  },
  "papermill": {
   "default_parameters": {},
   "duration": 22.981362,
   "end_time": "2024-01-13T03:41:02.995365",
   "environment_variables": {},
   "exception": null,
   "input_path": "__notebook__.ipynb",
   "output_path": "__notebook__.ipynb",
   "parameters": {},
   "start_time": "2024-01-13T03:40:40.014003",
   "version": "2.4.0"
  }
 },
 "nbformat": 4,
 "nbformat_minor": 5
}
