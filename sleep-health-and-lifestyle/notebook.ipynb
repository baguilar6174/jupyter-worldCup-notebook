{
 "cells": [
  {
   "cell_type": "markdown",
   "id": "324d2aa9",
   "metadata": {
    "papermill": {
     "duration": 0.010362,
     "end_time": "2024-01-26T02:37:16.696339",
     "exception": false,
     "start_time": "2024-01-26T02:37:16.685977",
     "status": "completed"
    },
    "tags": []
   },
   "source": [
    "# Sleep health and lifestyle\n",
    "\n",
    "In this project we took the Sleep Health and Lifestyle Dataset in where you can find data on different people such as their profession, physical activity and sleep quality. We will take this dataset to know what are the things that affect sleep such as the amount of physical activity, the profession and the pressure to which each person is subjected."
   ]
  },
  {
   "cell_type": "markdown",
   "id": "aad100cd",
   "metadata": {
    "papermill": {
     "duration": 0.009955,
     "end_time": "2024-01-26T02:37:16.716265",
     "exception": false,
     "start_time": "2024-01-26T02:37:16.706310",
     "status": "completed"
    },
    "tags": []
   },
   "source": [
    "## Import libraries"
   ]
  },
  {
   "cell_type": "code",
   "execution_count": 1,
   "id": "47c27c07",
   "metadata": {
    "_cell_guid": "b1076dfc-b9ad-4769-8c92-a6c4dae69d19",
    "_uuid": "8f2839f25d086af736a60e9eeb907d3b93b6e0e5",
    "execution": {
     "iopub.execute_input": "2024-01-26T02:37:16.738945Z",
     "iopub.status.busy": "2024-01-26T02:37:16.737770Z",
     "iopub.status.idle": "2024-01-26T02:37:17.159548Z",
     "shell.execute_reply": "2024-01-26T02:37:17.158662Z"
    },
    "papermill": {
     "duration": 0.435801,
     "end_time": "2024-01-26T02:37:17.162313",
     "exception": false,
     "start_time": "2024-01-26T02:37:16.726512",
     "status": "completed"
    },
    "tags": []
   },
   "outputs": [],
   "source": [
    "import numpy as np # linear algebra\n",
    "import pandas as pd # data processing, CSV file I/O (e.g. pd.read_csv)"
   ]
  },
  {
   "cell_type": "markdown",
   "id": "ef4af13a",
   "metadata": {
    "papermill": {
     "duration": 0.009743,
     "end_time": "2024-01-26T02:37:17.182098",
     "exception": false,
     "start_time": "2024-01-26T02:37:17.172355",
     "status": "completed"
    },
    "tags": []
   },
   "source": [
    "## Load data"
   ]
  },
  {
   "cell_type": "code",
   "execution_count": 2,
   "id": "08090062",
   "metadata": {
    "execution": {
     "iopub.execute_input": "2024-01-26T02:37:17.205379Z",
     "iopub.status.busy": "2024-01-26T02:37:17.204489Z",
     "iopub.status.idle": "2024-01-26T02:37:17.259051Z",
     "shell.execute_reply": "2024-01-26T02:37:17.258225Z"
    },
    "papermill": {
     "duration": 0.068416,
     "end_time": "2024-01-26T02:37:17.261347",
     "exception": false,
     "start_time": "2024-01-26T02:37:17.192931",
     "status": "completed"
    },
    "tags": []
   },
   "outputs": [
    {
     "data": {
      "text/html": [
       "<div>\n",
       "<style scoped>\n",
       "    .dataframe tbody tr th:only-of-type {\n",
       "        vertical-align: middle;\n",
       "    }\n",
       "\n",
       "    .dataframe tbody tr th {\n",
       "        vertical-align: top;\n",
       "    }\n",
       "\n",
       "    .dataframe thead th {\n",
       "        text-align: right;\n",
       "    }\n",
       "</style>\n",
       "<table border=\"1\" class=\"dataframe\">\n",
       "  <thead>\n",
       "    <tr style=\"text-align: right;\">\n",
       "      <th></th>\n",
       "      <th>Gender</th>\n",
       "      <th>Age</th>\n",
       "      <th>Occupation</th>\n",
       "      <th>Sleep Duration</th>\n",
       "      <th>Quality of Sleep</th>\n",
       "      <th>Physical Activity Level</th>\n",
       "      <th>Stress Level</th>\n",
       "      <th>BMI Category</th>\n",
       "      <th>Blood Pressure</th>\n",
       "      <th>Heart Rate</th>\n",
       "      <th>Daily Steps</th>\n",
       "      <th>Sleep Disorder</th>\n",
       "    </tr>\n",
       "    <tr>\n",
       "      <th>Person ID</th>\n",
       "      <th></th>\n",
       "      <th></th>\n",
       "      <th></th>\n",
       "      <th></th>\n",
       "      <th></th>\n",
       "      <th></th>\n",
       "      <th></th>\n",
       "      <th></th>\n",
       "      <th></th>\n",
       "      <th></th>\n",
       "      <th></th>\n",
       "      <th></th>\n",
       "    </tr>\n",
       "  </thead>\n",
       "  <tbody>\n",
       "    <tr>\n",
       "      <th>1</th>\n",
       "      <td>Male</td>\n",
       "      <td>27</td>\n",
       "      <td>Software Engineer</td>\n",
       "      <td>6.1</td>\n",
       "      <td>6</td>\n",
       "      <td>42</td>\n",
       "      <td>6</td>\n",
       "      <td>Overweight</td>\n",
       "      <td>126/83</td>\n",
       "      <td>77</td>\n",
       "      <td>4200</td>\n",
       "      <td>NaN</td>\n",
       "    </tr>\n",
       "    <tr>\n",
       "      <th>2</th>\n",
       "      <td>Male</td>\n",
       "      <td>28</td>\n",
       "      <td>Doctor</td>\n",
       "      <td>6.2</td>\n",
       "      <td>6</td>\n",
       "      <td>60</td>\n",
       "      <td>8</td>\n",
       "      <td>Normal</td>\n",
       "      <td>125/80</td>\n",
       "      <td>75</td>\n",
       "      <td>10000</td>\n",
       "      <td>NaN</td>\n",
       "    </tr>\n",
       "    <tr>\n",
       "      <th>3</th>\n",
       "      <td>Male</td>\n",
       "      <td>28</td>\n",
       "      <td>Doctor</td>\n",
       "      <td>6.2</td>\n",
       "      <td>6</td>\n",
       "      <td>60</td>\n",
       "      <td>8</td>\n",
       "      <td>Normal</td>\n",
       "      <td>125/80</td>\n",
       "      <td>75</td>\n",
       "      <td>10000</td>\n",
       "      <td>NaN</td>\n",
       "    </tr>\n",
       "    <tr>\n",
       "      <th>4</th>\n",
       "      <td>Male</td>\n",
       "      <td>28</td>\n",
       "      <td>Sales Representative</td>\n",
       "      <td>5.9</td>\n",
       "      <td>4</td>\n",
       "      <td>30</td>\n",
       "      <td>8</td>\n",
       "      <td>Obese</td>\n",
       "      <td>140/90</td>\n",
       "      <td>85</td>\n",
       "      <td>3000</td>\n",
       "      <td>Sleep Apnea</td>\n",
       "    </tr>\n",
       "    <tr>\n",
       "      <th>5</th>\n",
       "      <td>Male</td>\n",
       "      <td>28</td>\n",
       "      <td>Sales Representative</td>\n",
       "      <td>5.9</td>\n",
       "      <td>4</td>\n",
       "      <td>30</td>\n",
       "      <td>8</td>\n",
       "      <td>Obese</td>\n",
       "      <td>140/90</td>\n",
       "      <td>85</td>\n",
       "      <td>3000</td>\n",
       "      <td>Sleep Apnea</td>\n",
       "    </tr>\n",
       "  </tbody>\n",
       "</table>\n",
       "</div>"
      ],
      "text/plain": [
       "          Gender  Age            Occupation  Sleep Duration  Quality of Sleep  \\\n",
       "Person ID                                                                       \n",
       "1           Male   27     Software Engineer             6.1                 6   \n",
       "2           Male   28                Doctor             6.2                 6   \n",
       "3           Male   28                Doctor             6.2                 6   \n",
       "4           Male   28  Sales Representative             5.9                 4   \n",
       "5           Male   28  Sales Representative             5.9                 4   \n",
       "\n",
       "           Physical Activity Level  Stress Level BMI Category Blood Pressure  \\\n",
       "Person ID                                                                      \n",
       "1                               42             6   Overweight         126/83   \n",
       "2                               60             8       Normal         125/80   \n",
       "3                               60             8       Normal         125/80   \n",
       "4                               30             8        Obese         140/90   \n",
       "5                               30             8        Obese         140/90   \n",
       "\n",
       "           Heart Rate  Daily Steps Sleep Disorder  \n",
       "Person ID                                          \n",
       "1                  77         4200            NaN  \n",
       "2                  75        10000            NaN  \n",
       "3                  75        10000            NaN  \n",
       "4                  85         3000    Sleep Apnea  \n",
       "5                  85         3000    Sleep Apnea  "
      ]
     },
     "execution_count": 2,
     "metadata": {},
     "output_type": "execute_result"
    }
   ],
   "source": [
    "data = pd.read_csv(\n",
    "    \"/kaggle/input/sleep-health-and-lifestyle-dataset/Sleep_health_and_lifestyle_dataset.csv\",\n",
    "    index_col = \"Person ID\"\n",
    ")\n",
    "data.head()"
   ]
  },
  {
   "cell_type": "markdown",
   "id": "045c2c8d",
   "metadata": {
    "papermill": {
     "duration": 0.009936,
     "end_time": "2024-01-26T02:37:17.281439",
     "exception": false,
     "start_time": "2024-01-26T02:37:17.271503",
     "status": "completed"
    },
    "tags": []
   },
   "source": [
    "## Questions for analysis\n",
    "\n",
    "- Who has worse sleep quality, men or women?\n",
    "- Is there a relationship between people's sleep quality and their profession?\n",
    "- Does physical activity affect sleep?\n",
    "- Which profession has the worst sleep quality?\n",
    "- Which profession have people with the highest level of stress and the highest body mass index?\n",
    "- In what age range are the most sleep disorders found?\n",
    "- Does the number of steps per day affect sleep quality and body mass index?"
   ]
  },
  {
   "cell_type": "markdown",
   "id": "db41c7e6",
   "metadata": {
    "papermill": {
     "duration": 0.009881,
     "end_time": "2024-01-26T02:37:17.301354",
     "exception": false,
     "start_time": "2024-01-26T02:37:17.291473",
     "status": "completed"
    },
    "tags": []
   },
   "source": [
    "Summary of the data set (using `.info()` method)"
   ]
  },
  {
   "cell_type": "code",
   "execution_count": 3,
   "id": "b12aa51e",
   "metadata": {
    "execution": {
     "iopub.execute_input": "2024-01-26T02:37:17.324014Z",
     "iopub.status.busy": "2024-01-26T02:37:17.323277Z",
     "iopub.status.idle": "2024-01-26T02:37:17.344191Z",
     "shell.execute_reply": "2024-01-26T02:37:17.342907Z"
    },
    "papermill": {
     "duration": 0.03581,
     "end_time": "2024-01-26T02:37:17.347266",
     "exception": false,
     "start_time": "2024-01-26T02:37:17.311456",
     "status": "completed"
    },
    "tags": []
   },
   "outputs": [
    {
     "name": "stdout",
     "output_type": "stream",
     "text": [
      "<class 'pandas.core.frame.DataFrame'>\n",
      "Index: 374 entries, 1 to 374\n",
      "Data columns (total 12 columns):\n",
      " #   Column                   Non-Null Count  Dtype  \n",
      "---  ------                   --------------  -----  \n",
      " 0   Gender                   374 non-null    object \n",
      " 1   Age                      374 non-null    int64  \n",
      " 2   Occupation               374 non-null    object \n",
      " 3   Sleep Duration           374 non-null    float64\n",
      " 4   Quality of Sleep         374 non-null    int64  \n",
      " 5   Physical Activity Level  374 non-null    int64  \n",
      " 6   Stress Level             374 non-null    int64  \n",
      " 7   BMI Category             374 non-null    object \n",
      " 8   Blood Pressure           374 non-null    object \n",
      " 9   Heart Rate               374 non-null    int64  \n",
      " 10  Daily Steps              374 non-null    int64  \n",
      " 11  Sleep Disorder           155 non-null    object \n",
      "dtypes: float64(1), int64(6), object(5)\n",
      "memory usage: 38.0+ KB\n"
     ]
    }
   ],
   "source": [
    "data.info()"
   ]
  },
  {
   "cell_type": "markdown",
   "id": "62816fcd",
   "metadata": {
    "papermill": {
     "duration": 0.010057,
     "end_time": "2024-01-26T02:37:17.367837",
     "exception": false,
     "start_time": "2024-01-26T02:37:17.357780",
     "status": "completed"
    },
    "tags": []
   },
   "source": [
    "Generate descriptive statistics (using `.describe()` method).\n",
    "\n",
    "Descriptive statistics include those that summarize the central tendency, dispersion and shape of a dataset's distribution, excluding NaN values."
   ]
  },
  {
   "cell_type": "code",
   "execution_count": 4,
   "id": "65941d44",
   "metadata": {
    "execution": {
     "iopub.execute_input": "2024-01-26T02:37:17.390227Z",
     "iopub.status.busy": "2024-01-26T02:37:17.389772Z",
     "iopub.status.idle": "2024-01-26T02:37:17.424471Z",
     "shell.execute_reply": "2024-01-26T02:37:17.423330Z"
    },
    "papermill": {
     "duration": 0.048483,
     "end_time": "2024-01-26T02:37:17.426779",
     "exception": false,
     "start_time": "2024-01-26T02:37:17.378296",
     "status": "completed"
    },
    "tags": []
   },
   "outputs": [
    {
     "data": {
      "text/html": [
       "<div>\n",
       "<style scoped>\n",
       "    .dataframe tbody tr th:only-of-type {\n",
       "        vertical-align: middle;\n",
       "    }\n",
       "\n",
       "    .dataframe tbody tr th {\n",
       "        vertical-align: top;\n",
       "    }\n",
       "\n",
       "    .dataframe thead th {\n",
       "        text-align: right;\n",
       "    }\n",
       "</style>\n",
       "<table border=\"1\" class=\"dataframe\">\n",
       "  <thead>\n",
       "    <tr style=\"text-align: right;\">\n",
       "      <th></th>\n",
       "      <th>Age</th>\n",
       "      <th>Sleep Duration</th>\n",
       "      <th>Quality of Sleep</th>\n",
       "      <th>Physical Activity Level</th>\n",
       "      <th>Stress Level</th>\n",
       "      <th>Heart Rate</th>\n",
       "      <th>Daily Steps</th>\n",
       "    </tr>\n",
       "  </thead>\n",
       "  <tbody>\n",
       "    <tr>\n",
       "      <th>count</th>\n",
       "      <td>374.000000</td>\n",
       "      <td>374.000000</td>\n",
       "      <td>374.000000</td>\n",
       "      <td>374.000000</td>\n",
       "      <td>374.000000</td>\n",
       "      <td>374.000000</td>\n",
       "      <td>374.000000</td>\n",
       "    </tr>\n",
       "    <tr>\n",
       "      <th>mean</th>\n",
       "      <td>42.184492</td>\n",
       "      <td>7.132086</td>\n",
       "      <td>7.312834</td>\n",
       "      <td>59.171123</td>\n",
       "      <td>5.385027</td>\n",
       "      <td>70.165775</td>\n",
       "      <td>6816.844920</td>\n",
       "    </tr>\n",
       "    <tr>\n",
       "      <th>std</th>\n",
       "      <td>8.673133</td>\n",
       "      <td>0.795657</td>\n",
       "      <td>1.196956</td>\n",
       "      <td>20.830804</td>\n",
       "      <td>1.774526</td>\n",
       "      <td>4.135676</td>\n",
       "      <td>1617.915679</td>\n",
       "    </tr>\n",
       "    <tr>\n",
       "      <th>min</th>\n",
       "      <td>27.000000</td>\n",
       "      <td>5.800000</td>\n",
       "      <td>4.000000</td>\n",
       "      <td>30.000000</td>\n",
       "      <td>3.000000</td>\n",
       "      <td>65.000000</td>\n",
       "      <td>3000.000000</td>\n",
       "    </tr>\n",
       "    <tr>\n",
       "      <th>25%</th>\n",
       "      <td>35.250000</td>\n",
       "      <td>6.400000</td>\n",
       "      <td>6.000000</td>\n",
       "      <td>45.000000</td>\n",
       "      <td>4.000000</td>\n",
       "      <td>68.000000</td>\n",
       "      <td>5600.000000</td>\n",
       "    </tr>\n",
       "    <tr>\n",
       "      <th>50%</th>\n",
       "      <td>43.000000</td>\n",
       "      <td>7.200000</td>\n",
       "      <td>7.000000</td>\n",
       "      <td>60.000000</td>\n",
       "      <td>5.000000</td>\n",
       "      <td>70.000000</td>\n",
       "      <td>7000.000000</td>\n",
       "    </tr>\n",
       "    <tr>\n",
       "      <th>75%</th>\n",
       "      <td>50.000000</td>\n",
       "      <td>7.800000</td>\n",
       "      <td>8.000000</td>\n",
       "      <td>75.000000</td>\n",
       "      <td>7.000000</td>\n",
       "      <td>72.000000</td>\n",
       "      <td>8000.000000</td>\n",
       "    </tr>\n",
       "    <tr>\n",
       "      <th>max</th>\n",
       "      <td>59.000000</td>\n",
       "      <td>8.500000</td>\n",
       "      <td>9.000000</td>\n",
       "      <td>90.000000</td>\n",
       "      <td>8.000000</td>\n",
       "      <td>86.000000</td>\n",
       "      <td>10000.000000</td>\n",
       "    </tr>\n",
       "  </tbody>\n",
       "</table>\n",
       "</div>"
      ],
      "text/plain": [
       "              Age  Sleep Duration  Quality of Sleep  Physical Activity Level  \\\n",
       "count  374.000000      374.000000        374.000000               374.000000   \n",
       "mean    42.184492        7.132086          7.312834                59.171123   \n",
       "std      8.673133        0.795657          1.196956                20.830804   \n",
       "min     27.000000        5.800000          4.000000                30.000000   \n",
       "25%     35.250000        6.400000          6.000000                45.000000   \n",
       "50%     43.000000        7.200000          7.000000                60.000000   \n",
       "75%     50.000000        7.800000          8.000000                75.000000   \n",
       "max     59.000000        8.500000          9.000000                90.000000   \n",
       "\n",
       "       Stress Level  Heart Rate   Daily Steps  \n",
       "count    374.000000  374.000000    374.000000  \n",
       "mean       5.385027   70.165775   6816.844920  \n",
       "std        1.774526    4.135676   1617.915679  \n",
       "min        3.000000   65.000000   3000.000000  \n",
       "25%        4.000000   68.000000   5600.000000  \n",
       "50%        5.000000   70.000000   7000.000000  \n",
       "75%        7.000000   72.000000   8000.000000  \n",
       "max        8.000000   86.000000  10000.000000  "
      ]
     },
     "execution_count": 4,
     "metadata": {},
     "output_type": "execute_result"
    }
   ],
   "source": [
    "data.describe()"
   ]
  },
  {
   "cell_type": "markdown",
   "id": "774081f7",
   "metadata": {
    "papermill": {
     "duration": 0.010985,
     "end_time": "2024-01-26T02:37:17.448461",
     "exception": false,
     "start_time": "2024-01-26T02:37:17.437476",
     "status": "completed"
    },
    "tags": []
   },
   "source": [
    "## Ages analisys\n",
    "\n",
    "Count the number of men and women"
   ]
  },
  {
   "cell_type": "code",
   "execution_count": 5,
   "id": "82c3c124",
   "metadata": {
    "execution": {
     "iopub.execute_input": "2024-01-26T02:37:17.471538Z",
     "iopub.status.busy": "2024-01-26T02:37:17.471121Z",
     "iopub.status.idle": "2024-01-26T02:37:17.480063Z",
     "shell.execute_reply": "2024-01-26T02:37:17.478979Z"
    },
    "papermill": {
     "duration": 0.023201,
     "end_time": "2024-01-26T02:37:17.482231",
     "exception": false,
     "start_time": "2024-01-26T02:37:17.459030",
     "status": "completed"
    },
    "tags": []
   },
   "outputs": [
    {
     "data": {
      "text/plain": [
       "Gender\n",
       "Male      189\n",
       "Female    185\n",
       "Name: count, dtype: int64"
      ]
     },
     "execution_count": 5,
     "metadata": {},
     "output_type": "execute_result"
    }
   ],
   "source": [
    "data[\"Gender\"].value_counts()\n",
    "\n",
    "# or\n",
    "\n",
    "# data.Gender.value_counts()"
   ]
  },
  {
   "cell_type": "markdown",
   "id": "e32b64a2",
   "metadata": {
    "papermill": {
     "duration": 0.010821,
     "end_time": "2024-01-26T02:37:17.504096",
     "exception": false,
     "start_time": "2024-01-26T02:37:17.493275",
     "status": "completed"
    },
    "tags": []
   },
   "source": [
    "> This gives us a general overview of the group, and we can say that the group is in proportion to the number of men and women. Proportion, with respect to the number of men and women."
   ]
  },
  {
   "cell_type": "markdown",
   "id": "414c8933",
   "metadata": {
    "papermill": {
     "duration": 0.010627,
     "end_time": "2024-01-26T02:37:17.525754",
     "exception": false,
     "start_time": "2024-01-26T02:37:17.515127",
     "status": "completed"
    },
    "tags": []
   },
   "source": [
    "## Classification by age\n",
    "\n",
    "In the set we can find the ages of the persons, with respect to the ages we can find the following:"
   ]
  },
  {
   "cell_type": "code",
   "execution_count": 6,
   "id": "6f5a1ea9",
   "metadata": {
    "execution": {
     "iopub.execute_input": "2024-01-26T02:37:17.550026Z",
     "iopub.status.busy": "2024-01-26T02:37:17.549619Z",
     "iopub.status.idle": "2024-01-26T02:37:17.556945Z",
     "shell.execute_reply": "2024-01-26T02:37:17.555775Z"
    },
    "papermill": {
     "duration": 0.022656,
     "end_time": "2024-01-26T02:37:17.559448",
     "exception": false,
     "start_time": "2024-01-26T02:37:17.536792",
     "status": "completed"
    },
    "tags": []
   },
   "outputs": [
    {
     "data": {
      "text/plain": [
       "27"
      ]
     },
     "execution_count": 6,
     "metadata": {},
     "output_type": "execute_result"
    }
   ],
   "source": [
    "data[\"Age\"].min()"
   ]
  },
  {
   "cell_type": "code",
   "execution_count": 7,
   "id": "147523c4",
   "metadata": {
    "execution": {
     "iopub.execute_input": "2024-01-26T02:37:17.583510Z",
     "iopub.status.busy": "2024-01-26T02:37:17.583143Z",
     "iopub.status.idle": "2024-01-26T02:37:17.590161Z",
     "shell.execute_reply": "2024-01-26T02:37:17.588997Z"
    },
    "papermill": {
     "duration": 0.021542,
     "end_time": "2024-01-26T02:37:17.592366",
     "exception": false,
     "start_time": "2024-01-26T02:37:17.570824",
     "status": "completed"
    },
    "tags": []
   },
   "outputs": [
    {
     "data": {
      "text/plain": [
       "59"
      ]
     },
     "execution_count": 7,
     "metadata": {},
     "output_type": "execute_result"
    }
   ],
   "source": [
    "data[\"Age\"].max()"
   ]
  },
  {
   "cell_type": "markdown",
   "id": "93779f42",
   "metadata": {
    "papermill": {
     "duration": 0.011013,
     "end_time": "2024-01-26T02:37:17.614759",
     "exception": false,
     "start_time": "2024-01-26T02:37:17.603746",
     "status": "completed"
    },
    "tags": []
   },
   "source": [
    "The lowest age is 27 years old\n",
    "The highest age is 59 years old\n",
    "\n",
    "What we can say is that the data set takes into account people who are already of working age, starting work or with only a few years in it, or people close to retiring. Let's find the average age in the data set."
   ]
  },
  {
   "cell_type": "code",
   "execution_count": 8,
   "id": "398be584",
   "metadata": {
    "execution": {
     "iopub.execute_input": "2024-01-26T02:37:17.639126Z",
     "iopub.status.busy": "2024-01-26T02:37:17.638407Z",
     "iopub.status.idle": "2024-01-26T02:37:17.645118Z",
     "shell.execute_reply": "2024-01-26T02:37:17.644056Z"
    },
    "papermill": {
     "duration": 0.021654,
     "end_time": "2024-01-26T02:37:17.647511",
     "exception": false,
     "start_time": "2024-01-26T02:37:17.625857",
     "status": "completed"
    },
    "tags": []
   },
   "outputs": [
    {
     "data": {
      "text/plain": [
       "42.18449197860963"
      ]
     },
     "execution_count": 8,
     "metadata": {},
     "output_type": "execute_result"
    }
   ],
   "source": [
    "data[\"Age\"].mean()"
   ]
  },
  {
   "cell_type": "markdown",
   "id": "e753517c",
   "metadata": {
    "papermill": {
     "duration": 0.011988,
     "end_time": "2024-01-26T02:37:17.671763",
     "exception": false,
     "start_time": "2024-01-26T02:37:17.659775",
     "status": "completed"
    },
    "tags": []
   },
   "source": [
    "The average age of the data set is 42 years and the standard deviation is 8.67, which means that in this set we can find very dispersed data, which may be due to the few data collected.\n",
    "\n",
    "To support us in this analysis, a new column was added to the data set called Age_group in which the age of the people was classified as follows:\n",
    "\n",
    "- **Age less than or equal to 40 years**: *Adult*.\n",
    "- **Age over 40 years**: *OlderAdult*"
   ]
  },
  {
   "cell_type": "code",
   "execution_count": 9,
   "id": "51152a3a",
   "metadata": {
    "execution": {
     "iopub.execute_input": "2024-01-26T02:37:17.696970Z",
     "iopub.status.busy": "2024-01-26T02:37:17.696272Z",
     "iopub.status.idle": "2024-01-26T02:37:17.716190Z",
     "shell.execute_reply": "2024-01-26T02:37:17.714908Z"
    },
    "papermill": {
     "duration": 0.035891,
     "end_time": "2024-01-26T02:37:17.719135",
     "exception": false,
     "start_time": "2024-01-26T02:37:17.683244",
     "status": "completed"
    },
    "tags": []
   },
   "outputs": [
    {
     "data": {
      "text/html": [
       "<div>\n",
       "<style scoped>\n",
       "    .dataframe tbody tr th:only-of-type {\n",
       "        vertical-align: middle;\n",
       "    }\n",
       "\n",
       "    .dataframe tbody tr th {\n",
       "        vertical-align: top;\n",
       "    }\n",
       "\n",
       "    .dataframe thead th {\n",
       "        text-align: right;\n",
       "    }\n",
       "</style>\n",
       "<table border=\"1\" class=\"dataframe\">\n",
       "  <thead>\n",
       "    <tr style=\"text-align: right;\">\n",
       "      <th></th>\n",
       "      <th>Gender</th>\n",
       "      <th>Age</th>\n",
       "      <th>Occupation</th>\n",
       "      <th>Sleep Duration</th>\n",
       "      <th>Quality of Sleep</th>\n",
       "      <th>Physical Activity Level</th>\n",
       "      <th>Stress Level</th>\n",
       "      <th>BMI Category</th>\n",
       "      <th>Blood Pressure</th>\n",
       "      <th>Heart Rate</th>\n",
       "      <th>Daily Steps</th>\n",
       "      <th>Sleep Disorder</th>\n",
       "      <th>AgeGroup</th>\n",
       "    </tr>\n",
       "    <tr>\n",
       "      <th>Person ID</th>\n",
       "      <th></th>\n",
       "      <th></th>\n",
       "      <th></th>\n",
       "      <th></th>\n",
       "      <th></th>\n",
       "      <th></th>\n",
       "      <th></th>\n",
       "      <th></th>\n",
       "      <th></th>\n",
       "      <th></th>\n",
       "      <th></th>\n",
       "      <th></th>\n",
       "      <th></th>\n",
       "    </tr>\n",
       "  </thead>\n",
       "  <tbody>\n",
       "    <tr>\n",
       "      <th>1</th>\n",
       "      <td>Male</td>\n",
       "      <td>27</td>\n",
       "      <td>Software Engineer</td>\n",
       "      <td>6.1</td>\n",
       "      <td>6</td>\n",
       "      <td>42</td>\n",
       "      <td>6</td>\n",
       "      <td>Overweight</td>\n",
       "      <td>126/83</td>\n",
       "      <td>77</td>\n",
       "      <td>4200</td>\n",
       "      <td>NaN</td>\n",
       "      <td>Adult</td>\n",
       "    </tr>\n",
       "    <tr>\n",
       "      <th>2</th>\n",
       "      <td>Male</td>\n",
       "      <td>28</td>\n",
       "      <td>Doctor</td>\n",
       "      <td>6.2</td>\n",
       "      <td>6</td>\n",
       "      <td>60</td>\n",
       "      <td>8</td>\n",
       "      <td>Normal</td>\n",
       "      <td>125/80</td>\n",
       "      <td>75</td>\n",
       "      <td>10000</td>\n",
       "      <td>NaN</td>\n",
       "      <td>Adult</td>\n",
       "    </tr>\n",
       "    <tr>\n",
       "      <th>3</th>\n",
       "      <td>Male</td>\n",
       "      <td>28</td>\n",
       "      <td>Doctor</td>\n",
       "      <td>6.2</td>\n",
       "      <td>6</td>\n",
       "      <td>60</td>\n",
       "      <td>8</td>\n",
       "      <td>Normal</td>\n",
       "      <td>125/80</td>\n",
       "      <td>75</td>\n",
       "      <td>10000</td>\n",
       "      <td>NaN</td>\n",
       "      <td>Adult</td>\n",
       "    </tr>\n",
       "    <tr>\n",
       "      <th>4</th>\n",
       "      <td>Male</td>\n",
       "      <td>28</td>\n",
       "      <td>Sales Representative</td>\n",
       "      <td>5.9</td>\n",
       "      <td>4</td>\n",
       "      <td>30</td>\n",
       "      <td>8</td>\n",
       "      <td>Obese</td>\n",
       "      <td>140/90</td>\n",
       "      <td>85</td>\n",
       "      <td>3000</td>\n",
       "      <td>Sleep Apnea</td>\n",
       "      <td>Adult</td>\n",
       "    </tr>\n",
       "    <tr>\n",
       "      <th>5</th>\n",
       "      <td>Male</td>\n",
       "      <td>28</td>\n",
       "      <td>Sales Representative</td>\n",
       "      <td>5.9</td>\n",
       "      <td>4</td>\n",
       "      <td>30</td>\n",
       "      <td>8</td>\n",
       "      <td>Obese</td>\n",
       "      <td>140/90</td>\n",
       "      <td>85</td>\n",
       "      <td>3000</td>\n",
       "      <td>Sleep Apnea</td>\n",
       "      <td>Adult</td>\n",
       "    </tr>\n",
       "  </tbody>\n",
       "</table>\n",
       "</div>"
      ],
      "text/plain": [
       "          Gender  Age            Occupation  Sleep Duration  Quality of Sleep  \\\n",
       "Person ID                                                                       \n",
       "1           Male   27     Software Engineer             6.1                 6   \n",
       "2           Male   28                Doctor             6.2                 6   \n",
       "3           Male   28                Doctor             6.2                 6   \n",
       "4           Male   28  Sales Representative             5.9                 4   \n",
       "5           Male   28  Sales Representative             5.9                 4   \n",
       "\n",
       "           Physical Activity Level  Stress Level BMI Category Blood Pressure  \\\n",
       "Person ID                                                                      \n",
       "1                               42             6   Overweight         126/83   \n",
       "2                               60             8       Normal         125/80   \n",
       "3                               60             8       Normal         125/80   \n",
       "4                               30             8        Obese         140/90   \n",
       "5                               30             8        Obese         140/90   \n",
       "\n",
       "           Heart Rate  Daily Steps Sleep Disorder AgeGroup  \n",
       "Person ID                                                   \n",
       "1                  77         4200            NaN    Adult  \n",
       "2                  75        10000            NaN    Adult  \n",
       "3                  75        10000            NaN    Adult  \n",
       "4                  85         3000    Sleep Apnea    Adult  \n",
       "5                  85         3000    Sleep Apnea    Adult  "
      ]
     },
     "execution_count": 9,
     "metadata": {},
     "output_type": "execute_result"
    }
   ],
   "source": [
    "data.loc[data[\"Age\"] <= 40, 'AgeGroup'] = \"Adult\"\n",
    "data.loc[data[\"Age\"] >= 41, 'AgeGroup'] = \"OlderAdult\"\n",
    "\n",
    "# View the first rows of the data set\n",
    "data.head()"
   ]
  },
  {
   "cell_type": "code",
   "execution_count": 10,
   "id": "49d0ebea",
   "metadata": {
    "execution": {
     "iopub.execute_input": "2024-01-26T02:37:17.744854Z",
     "iopub.status.busy": "2024-01-26T02:37:17.744274Z",
     "iopub.status.idle": "2024-01-26T02:37:17.761857Z",
     "shell.execute_reply": "2024-01-26T02:37:17.760911Z"
    },
    "papermill": {
     "duration": 0.032828,
     "end_time": "2024-01-26T02:37:17.763847",
     "exception": false,
     "start_time": "2024-01-26T02:37:17.731019",
     "status": "completed"
    },
    "tags": []
   },
   "outputs": [
    {
     "data": {
      "text/html": [
       "<div>\n",
       "<style scoped>\n",
       "    .dataframe tbody tr th:only-of-type {\n",
       "        vertical-align: middle;\n",
       "    }\n",
       "\n",
       "    .dataframe tbody tr th {\n",
       "        vertical-align: top;\n",
       "    }\n",
       "\n",
       "    .dataframe thead th {\n",
       "        text-align: right;\n",
       "    }\n",
       "</style>\n",
       "<table border=\"1\" class=\"dataframe\">\n",
       "  <thead>\n",
       "    <tr style=\"text-align: right;\">\n",
       "      <th></th>\n",
       "      <th>Gender</th>\n",
       "      <th>Age</th>\n",
       "      <th>Occupation</th>\n",
       "      <th>Sleep Duration</th>\n",
       "      <th>Quality of Sleep</th>\n",
       "      <th>Physical Activity Level</th>\n",
       "      <th>Stress Level</th>\n",
       "      <th>BMI Category</th>\n",
       "      <th>Blood Pressure</th>\n",
       "      <th>Heart Rate</th>\n",
       "      <th>Daily Steps</th>\n",
       "      <th>Sleep Disorder</th>\n",
       "      <th>AgeGroup</th>\n",
       "    </tr>\n",
       "    <tr>\n",
       "      <th>Person ID</th>\n",
       "      <th></th>\n",
       "      <th></th>\n",
       "      <th></th>\n",
       "      <th></th>\n",
       "      <th></th>\n",
       "      <th></th>\n",
       "      <th></th>\n",
       "      <th></th>\n",
       "      <th></th>\n",
       "      <th></th>\n",
       "      <th></th>\n",
       "      <th></th>\n",
       "      <th></th>\n",
       "    </tr>\n",
       "  </thead>\n",
       "  <tbody>\n",
       "    <tr>\n",
       "      <th>370</th>\n",
       "      <td>Female</td>\n",
       "      <td>59</td>\n",
       "      <td>Nurse</td>\n",
       "      <td>8.1</td>\n",
       "      <td>9</td>\n",
       "      <td>75</td>\n",
       "      <td>3</td>\n",
       "      <td>Overweight</td>\n",
       "      <td>140/95</td>\n",
       "      <td>68</td>\n",
       "      <td>7000</td>\n",
       "      <td>Sleep Apnea</td>\n",
       "      <td>OlderAdult</td>\n",
       "    </tr>\n",
       "    <tr>\n",
       "      <th>371</th>\n",
       "      <td>Female</td>\n",
       "      <td>59</td>\n",
       "      <td>Nurse</td>\n",
       "      <td>8.0</td>\n",
       "      <td>9</td>\n",
       "      <td>75</td>\n",
       "      <td>3</td>\n",
       "      <td>Overweight</td>\n",
       "      <td>140/95</td>\n",
       "      <td>68</td>\n",
       "      <td>7000</td>\n",
       "      <td>Sleep Apnea</td>\n",
       "      <td>OlderAdult</td>\n",
       "    </tr>\n",
       "    <tr>\n",
       "      <th>372</th>\n",
       "      <td>Female</td>\n",
       "      <td>59</td>\n",
       "      <td>Nurse</td>\n",
       "      <td>8.1</td>\n",
       "      <td>9</td>\n",
       "      <td>75</td>\n",
       "      <td>3</td>\n",
       "      <td>Overweight</td>\n",
       "      <td>140/95</td>\n",
       "      <td>68</td>\n",
       "      <td>7000</td>\n",
       "      <td>Sleep Apnea</td>\n",
       "      <td>OlderAdult</td>\n",
       "    </tr>\n",
       "    <tr>\n",
       "      <th>373</th>\n",
       "      <td>Female</td>\n",
       "      <td>59</td>\n",
       "      <td>Nurse</td>\n",
       "      <td>8.1</td>\n",
       "      <td>9</td>\n",
       "      <td>75</td>\n",
       "      <td>3</td>\n",
       "      <td>Overweight</td>\n",
       "      <td>140/95</td>\n",
       "      <td>68</td>\n",
       "      <td>7000</td>\n",
       "      <td>Sleep Apnea</td>\n",
       "      <td>OlderAdult</td>\n",
       "    </tr>\n",
       "    <tr>\n",
       "      <th>374</th>\n",
       "      <td>Female</td>\n",
       "      <td>59</td>\n",
       "      <td>Nurse</td>\n",
       "      <td>8.1</td>\n",
       "      <td>9</td>\n",
       "      <td>75</td>\n",
       "      <td>3</td>\n",
       "      <td>Overweight</td>\n",
       "      <td>140/95</td>\n",
       "      <td>68</td>\n",
       "      <td>7000</td>\n",
       "      <td>Sleep Apnea</td>\n",
       "      <td>OlderAdult</td>\n",
       "    </tr>\n",
       "  </tbody>\n",
       "</table>\n",
       "</div>"
      ],
      "text/plain": [
       "           Gender  Age Occupation  Sleep Duration  Quality of Sleep  \\\n",
       "Person ID                                                             \n",
       "370        Female   59      Nurse             8.1                 9   \n",
       "371        Female   59      Nurse             8.0                 9   \n",
       "372        Female   59      Nurse             8.1                 9   \n",
       "373        Female   59      Nurse             8.1                 9   \n",
       "374        Female   59      Nurse             8.1                 9   \n",
       "\n",
       "           Physical Activity Level  Stress Level BMI Category Blood Pressure  \\\n",
       "Person ID                                                                      \n",
       "370                             75             3   Overweight         140/95   \n",
       "371                             75             3   Overweight         140/95   \n",
       "372                             75             3   Overweight         140/95   \n",
       "373                             75             3   Overweight         140/95   \n",
       "374                             75             3   Overweight         140/95   \n",
       "\n",
       "           Heart Rate  Daily Steps Sleep Disorder    AgeGroup  \n",
       "Person ID                                                      \n",
       "370                68         7000    Sleep Apnea  OlderAdult  \n",
       "371                68         7000    Sleep Apnea  OlderAdult  \n",
       "372                68         7000    Sleep Apnea  OlderAdult  \n",
       "373                68         7000    Sleep Apnea  OlderAdult  \n",
       "374                68         7000    Sleep Apnea  OlderAdult  "
      ]
     },
     "execution_count": 10,
     "metadata": {},
     "output_type": "execute_result"
    }
   ],
   "source": [
    "# View the last rows of the data set\n",
    "data.tail()"
   ]
  },
  {
   "cell_type": "markdown",
   "id": "7137116d",
   "metadata": {
    "papermill": {
     "duration": 0.011672,
     "end_time": "2024-01-26T02:37:17.787640",
     "exception": false,
     "start_time": "2024-01-26T02:37:17.775968",
     "status": "completed"
    },
    "tags": []
   },
   "source": [
    "Taking into account this ordering of the data, we have the following:"
   ]
  },
  {
   "cell_type": "code",
   "execution_count": 11,
   "id": "39fb24d1",
   "metadata": {
    "execution": {
     "iopub.execute_input": "2024-01-26T02:37:17.813447Z",
     "iopub.status.busy": "2024-01-26T02:37:17.812709Z",
     "iopub.status.idle": "2024-01-26T02:37:17.820915Z",
     "shell.execute_reply": "2024-01-26T02:37:17.820092Z"
    },
    "papermill": {
     "duration": 0.023429,
     "end_time": "2024-01-26T02:37:17.822960",
     "exception": false,
     "start_time": "2024-01-26T02:37:17.799531",
     "status": "completed"
    },
    "tags": []
   },
   "outputs": [
    {
     "data": {
      "text/plain": [
       "AgeGroup\n",
       "OlderAdult    209\n",
       "Adult         165\n",
       "Name: count, dtype: int64"
      ]
     },
     "execution_count": 11,
     "metadata": {},
     "output_type": "execute_result"
    }
   ],
   "source": [
    "data['AgeGroup'].value_counts()"
   ]
  },
  {
   "cell_type": "markdown",
   "id": "653b938f",
   "metadata": {
    "papermill": {
     "duration": 0.011854,
     "end_time": "2024-01-26T02:37:17.846989",
     "exception": false,
     "start_time": "2024-01-26T02:37:17.835135",
     "status": "completed"
    },
    "tags": []
   },
   "source": [
    "Finally, the average age for each gender is as follows:"
   ]
  },
  {
   "cell_type": "code",
   "execution_count": 12,
   "id": "02e81478",
   "metadata": {
    "execution": {
     "iopub.execute_input": "2024-01-26T02:37:17.873365Z",
     "iopub.status.busy": "2024-01-26T02:37:17.872647Z",
     "iopub.status.idle": "2024-01-26T02:37:17.888616Z",
     "shell.execute_reply": "2024-01-26T02:37:17.887465Z"
    },
    "papermill": {
     "duration": 0.032191,
     "end_time": "2024-01-26T02:37:17.891242",
     "exception": false,
     "start_time": "2024-01-26T02:37:17.859051",
     "status": "completed"
    },
    "tags": []
   },
   "outputs": [
    {
     "data": {
      "text/html": [
       "<div>\n",
       "<style scoped>\n",
       "    .dataframe tbody tr th:only-of-type {\n",
       "        vertical-align: middle;\n",
       "    }\n",
       "\n",
       "    .dataframe tbody tr th {\n",
       "        vertical-align: top;\n",
       "    }\n",
       "\n",
       "    .dataframe thead th {\n",
       "        text-align: right;\n",
       "    }\n",
       "</style>\n",
       "<table border=\"1\" class=\"dataframe\">\n",
       "  <thead>\n",
       "    <tr style=\"text-align: right;\">\n",
       "      <th></th>\n",
       "      <th>mean</th>\n",
       "      <th>std</th>\n",
       "    </tr>\n",
       "    <tr>\n",
       "      <th>Gender</th>\n",
       "      <th></th>\n",
       "      <th></th>\n",
       "    </tr>\n",
       "  </thead>\n",
       "  <tbody>\n",
       "    <tr>\n",
       "      <th>Female</th>\n",
       "      <td>47.405405</td>\n",
       "      <td>8.093407</td>\n",
       "    </tr>\n",
       "    <tr>\n",
       "      <th>Male</th>\n",
       "      <td>37.074074</td>\n",
       "      <td>5.662006</td>\n",
       "    </tr>\n",
       "  </tbody>\n",
       "</table>\n",
       "</div>"
      ],
      "text/plain": [
       "             mean       std\n",
       "Gender                     \n",
       "Female  47.405405  8.093407\n",
       "Male    37.074074  5.662006"
      ]
     },
     "execution_count": 12,
     "metadata": {},
     "output_type": "execute_result"
    }
   ],
   "source": [
    "data.groupby(\"Gender\")[\"Age\"].agg([\"mean\", \"std\"])"
   ]
  },
  {
   "cell_type": "markdown",
   "id": "0da0b4b0",
   "metadata": {
    "papermill": {
     "duration": 0.012423,
     "end_time": "2024-01-26T02:37:17.916339",
     "exception": false,
     "start_time": "2024-01-26T02:37:17.903916",
     "status": "completed"
    },
    "tags": []
   },
   "source": [
    "We can see that there is a difference of 10 years in the average age of both genders, and we also note a large difference in the standard deviation, which is 3 years."
   ]
  },
  {
   "cell_type": "markdown",
   "id": "cc5950ef",
   "metadata": {
    "papermill": {
     "duration": 0.01204,
     "end_time": "2024-01-26T02:37:17.940809",
     "exception": false,
     "start_time": "2024-01-26T02:37:17.928769",
     "status": "completed"
    },
    "tags": []
   },
   "source": [
    "## Occupations analisys"
   ]
  },
  {
   "cell_type": "code",
   "execution_count": 13,
   "id": "bbf43786",
   "metadata": {
    "execution": {
     "iopub.execute_input": "2024-01-26T02:37:17.967341Z",
     "iopub.status.busy": "2024-01-26T02:37:17.966692Z",
     "iopub.status.idle": "2024-01-26T02:37:17.981955Z",
     "shell.execute_reply": "2024-01-26T02:37:17.980836Z"
    },
    "papermill": {
     "duration": 0.031332,
     "end_time": "2024-01-26T02:37:17.984516",
     "exception": false,
     "start_time": "2024-01-26T02:37:17.953184",
     "status": "completed"
    },
    "tags": []
   },
   "outputs": [
    {
     "data": {
      "text/plain": [
       "Occupation            Gender\n",
       "Accountant            Female    36\n",
       "                      Male       1\n",
       "Doctor                Male      69\n",
       "                      Female     2\n",
       "Engineer              Female    32\n",
       "                      Male      31\n",
       "Lawyer                Male      45\n",
       "                      Female     2\n",
       "Manager               Female     1\n",
       "Nurse                 Female    73\n",
       "Sales Representative  Male       2\n",
       "Salesperson           Male      32\n",
       "Scientist             Female     4\n",
       "Software Engineer     Male       4\n",
       "Teacher               Female    35\n",
       "                      Male       5\n",
       "Name: count, dtype: int64"
      ]
     },
     "execution_count": 13,
     "metadata": {},
     "output_type": "execute_result"
    }
   ],
   "source": [
    "data.groupby(\"Occupation\")[\"Gender\"].value_counts()"
   ]
  },
  {
   "cell_type": "markdown",
   "id": "9b634092",
   "metadata": {
    "papermill": {
     "duration": 0.012307,
     "end_time": "2024-01-26T02:37:18.070971",
     "exception": false,
     "start_time": "2024-01-26T02:37:18.058664",
     "status": "completed"
    },
    "tags": []
   },
   "source": [
    "**We note the following:**\n",
    "\n",
    "The occupations where there is more presence of women are:\n",
    "\n",
    "- Accountant\n",
    "- Engineering\n",
    "- Manager\n",
    "- Nursing\n",
    "- Science\n",
    "- Teacher\n",
    "\n",
    "Occupations where men have more presence:\n",
    "\n",
    "- Doctor\n",
    "- Sales representative\n",
    "- Sales\n",
    "- Lawyer\n",
    "- Software Engineer\n",
    "\n",
    "It is important to mention that only in Engineering the difference is of only one person."
   ]
  },
  {
   "cell_type": "code",
   "execution_count": 14,
   "id": "734a777d",
   "metadata": {
    "execution": {
     "iopub.execute_input": "2024-01-26T02:37:18.098434Z",
     "iopub.status.busy": "2024-01-26T02:37:18.098016Z",
     "iopub.status.idle": "2024-01-26T02:37:18.104277Z",
     "shell.execute_reply": "2024-01-26T02:37:18.103105Z"
    },
    "papermill": {
     "duration": 0.02334,
     "end_time": "2024-01-26T02:37:18.107236",
     "exception": false,
     "start_time": "2024-01-26T02:37:18.083896",
     "status": "completed"
    },
    "tags": []
   },
   "outputs": [
    {
     "name": "stdout",
     "output_type": "stream",
     "text": [
      "5.8 8.5\n"
     ]
    }
   ],
   "source": [
    "print(data[\"Sleep Duration\"].min(), data[\"Sleep Duration\"].max())"
   ]
  },
  {
   "cell_type": "markdown",
   "id": "d9f36a61",
   "metadata": {
    "papermill": {
     "duration": 0.012476,
     "end_time": "2024-01-26T02:37:18.132462",
     "exception": false,
     "start_time": "2024-01-26T02:37:18.119986",
     "status": "completed"
    },
    "tags": []
   },
   "source": [
    "The average sleep duration between men and women is as follows:"
   ]
  },
  {
   "cell_type": "code",
   "execution_count": 15,
   "id": "2bff15df",
   "metadata": {
    "execution": {
     "iopub.execute_input": "2024-01-26T02:37:18.159906Z",
     "iopub.status.busy": "2024-01-26T02:37:18.159508Z",
     "iopub.status.idle": "2024-01-26T02:37:18.174512Z",
     "shell.execute_reply": "2024-01-26T02:37:18.173309Z"
    },
    "papermill": {
     "duration": 0.031298,
     "end_time": "2024-01-26T02:37:18.176638",
     "exception": false,
     "start_time": "2024-01-26T02:37:18.145340",
     "status": "completed"
    },
    "tags": []
   },
   "outputs": [
    {
     "data": {
      "text/html": [
       "<div>\n",
       "<style scoped>\n",
       "    .dataframe tbody tr th:only-of-type {\n",
       "        vertical-align: middle;\n",
       "    }\n",
       "\n",
       "    .dataframe tbody tr th {\n",
       "        vertical-align: top;\n",
       "    }\n",
       "\n",
       "    .dataframe thead th {\n",
       "        text-align: right;\n",
       "    }\n",
       "</style>\n",
       "<table border=\"1\" class=\"dataframe\">\n",
       "  <thead>\n",
       "    <tr style=\"text-align: right;\">\n",
       "      <th></th>\n",
       "      <th>Sleep Duration</th>\n",
       "      <th>Quality of Sleep</th>\n",
       "    </tr>\n",
       "    <tr>\n",
       "      <th>Gender</th>\n",
       "      <th></th>\n",
       "      <th></th>\n",
       "    </tr>\n",
       "  </thead>\n",
       "  <tbody>\n",
       "    <tr>\n",
       "      <th>Female</th>\n",
       "      <td>7.229730</td>\n",
       "      <td>7.664865</td>\n",
       "    </tr>\n",
       "    <tr>\n",
       "      <th>Male</th>\n",
       "      <td>7.036508</td>\n",
       "      <td>6.968254</td>\n",
       "    </tr>\n",
       "  </tbody>\n",
       "</table>\n",
       "</div>"
      ],
      "text/plain": [
       "        Sleep Duration  Quality of Sleep\n",
       "Gender                                  \n",
       "Female        7.229730          7.664865\n",
       "Male          7.036508          6.968254"
      ]
     },
     "execution_count": 15,
     "metadata": {},
     "output_type": "execute_result"
    }
   ],
   "source": [
    "data.groupby(\"Gender\")[[\"Sleep Duration\", \"Quality of Sleep\"]].mean()"
   ]
  },
  {
   "cell_type": "markdown",
   "id": "0497da88",
   "metadata": {
    "papermill": {
     "duration": 0.013179,
     "end_time": "2024-01-26T02:37:18.203812",
     "exception": false,
     "start_time": "2024-01-26T02:37:18.190633",
     "status": "completed"
    },
    "tags": []
   },
   "source": [
    "We can see that in general, women have a better sleep than men not only in quantity but also in quality, to go deeper, we will obtain the same data but now in each of the professions of the set."
   ]
  },
  {
   "cell_type": "code",
   "execution_count": 16,
   "id": "6ef4593d",
   "metadata": {
    "execution": {
     "iopub.execute_input": "2024-01-26T02:37:18.231756Z",
     "iopub.status.busy": "2024-01-26T02:37:18.231340Z",
     "iopub.status.idle": "2024-01-26T02:37:18.246545Z",
     "shell.execute_reply": "2024-01-26T02:37:18.245447Z"
    },
    "papermill": {
     "duration": 0.032027,
     "end_time": "2024-01-26T02:37:18.248918",
     "exception": false,
     "start_time": "2024-01-26T02:37:18.216891",
     "status": "completed"
    },
    "tags": []
   },
   "outputs": [
    {
     "data": {
      "text/html": [
       "<div>\n",
       "<style scoped>\n",
       "    .dataframe tbody tr th:only-of-type {\n",
       "        vertical-align: middle;\n",
       "    }\n",
       "\n",
       "    .dataframe tbody tr th {\n",
       "        vertical-align: top;\n",
       "    }\n",
       "\n",
       "    .dataframe thead th {\n",
       "        text-align: right;\n",
       "    }\n",
       "</style>\n",
       "<table border=\"1\" class=\"dataframe\">\n",
       "  <thead>\n",
       "    <tr style=\"text-align: right;\">\n",
       "      <th></th>\n",
       "      <th>Sleep Duration</th>\n",
       "      <th>Quality of Sleep</th>\n",
       "    </tr>\n",
       "    <tr>\n",
       "      <th>Occupation</th>\n",
       "      <th></th>\n",
       "      <th></th>\n",
       "    </tr>\n",
       "  </thead>\n",
       "  <tbody>\n",
       "    <tr>\n",
       "      <th>Sales Representative</th>\n",
       "      <td>5.900000</td>\n",
       "      <td>4.000000</td>\n",
       "    </tr>\n",
       "    <tr>\n",
       "      <th>Scientist</th>\n",
       "      <td>6.000000</td>\n",
       "      <td>5.000000</td>\n",
       "    </tr>\n",
       "    <tr>\n",
       "      <th>Salesperson</th>\n",
       "      <td>6.403125</td>\n",
       "      <td>6.000000</td>\n",
       "    </tr>\n",
       "    <tr>\n",
       "      <th>Software Engineer</th>\n",
       "      <td>6.750000</td>\n",
       "      <td>6.500000</td>\n",
       "    </tr>\n",
       "    <tr>\n",
       "      <th>Doctor</th>\n",
       "      <td>6.970423</td>\n",
       "      <td>6.647887</td>\n",
       "    </tr>\n",
       "    <tr>\n",
       "      <th>Teacher</th>\n",
       "      <td>6.690000</td>\n",
       "      <td>6.975000</td>\n",
       "    </tr>\n",
       "    <tr>\n",
       "      <th>Manager</th>\n",
       "      <td>6.900000</td>\n",
       "      <td>7.000000</td>\n",
       "    </tr>\n",
       "    <tr>\n",
       "      <th>Nurse</th>\n",
       "      <td>7.063014</td>\n",
       "      <td>7.369863</td>\n",
       "    </tr>\n",
       "    <tr>\n",
       "      <th>Accountant</th>\n",
       "      <td>7.113514</td>\n",
       "      <td>7.891892</td>\n",
       "    </tr>\n",
       "    <tr>\n",
       "      <th>Lawyer</th>\n",
       "      <td>7.410638</td>\n",
       "      <td>7.893617</td>\n",
       "    </tr>\n",
       "    <tr>\n",
       "      <th>Engineer</th>\n",
       "      <td>7.987302</td>\n",
       "      <td>8.412698</td>\n",
       "    </tr>\n",
       "  </tbody>\n",
       "</table>\n",
       "</div>"
      ],
      "text/plain": [
       "                      Sleep Duration  Quality of Sleep\n",
       "Occupation                                            \n",
       "Sales Representative        5.900000          4.000000\n",
       "Scientist                   6.000000          5.000000\n",
       "Salesperson                 6.403125          6.000000\n",
       "Software Engineer           6.750000          6.500000\n",
       "Doctor                      6.970423          6.647887\n",
       "Teacher                     6.690000          6.975000\n",
       "Manager                     6.900000          7.000000\n",
       "Nurse                       7.063014          7.369863\n",
       "Accountant                  7.113514          7.891892\n",
       "Lawyer                      7.410638          7.893617\n",
       "Engineer                    7.987302          8.412698"
      ]
     },
     "execution_count": 16,
     "metadata": {},
     "output_type": "execute_result"
    }
   ],
   "source": [
    "occupation_quality = data.groupby(\"Occupation\")[[\"Sleep Duration\", \"Quality of Sleep\"]].mean()\n",
    "occupation_quality.sort_values(by = \"Quality of Sleep\")"
   ]
  },
  {
   "cell_type": "markdown",
   "id": "a9f1096f",
   "metadata": {
    "papermill": {
     "duration": 0.013092,
     "end_time": "2024-01-26T02:37:18.275386",
     "exception": false,
     "start_time": "2024-01-26T02:37:18.262294",
     "status": "completed"
    },
    "tags": []
   },
   "source": [
    "In these tables we can see that the worst occupations with the worst quality and quantity of sleep are of sleep are:\n",
    "\n",
    "- Sales Representative\n",
    "- Scientist\n",
    "- Sales\n",
    "\n",
    "And those with the best quality and time of sleep are:\n",
    "\n",
    "- Engineer\n",
    "- Lawyer\n",
    "- Accountant\n",
    "\n",
    "In the professions with the worst quality and quantity of sleep there are more men than women."
   ]
  },
  {
   "cell_type": "markdown",
   "id": "c85240f1",
   "metadata": {
    "papermill": {
     "duration": 0.013602,
     "end_time": "2024-01-26T02:37:18.302436",
     "exception": false,
     "start_time": "2024-01-26T02:37:18.288834",
     "status": "completed"
    },
    "tags": []
   },
   "source": [
    "## Health"
   ]
  }
 ],
 "metadata": {
  "kaggle": {
   "accelerator": "none",
   "dataSources": [
    {
     "datasetId": 3321433,
     "sourceId": 6491929,
     "sourceType": "datasetVersion"
    }
   ],
   "dockerImageVersionId": 30635,
   "isGpuEnabled": false,
   "isInternetEnabled": true,
   "language": "python",
   "sourceType": "notebook"
  },
  "kernelspec": {
   "display_name": "Python 3",
   "language": "python",
   "name": "python3"
  },
  "language_info": {
   "codemirror_mode": {
    "name": "ipython",
    "version": 3
   },
   "file_extension": ".py",
   "mimetype": "text/x-python",
   "name": "python",
   "nbconvert_exporter": "python",
   "pygments_lexer": "ipython3",
   "version": "3.10.12"
  },
  "papermill": {
   "default_parameters": {},
   "duration": 5.608769,
   "end_time": "2024-01-26T02:37:18.835996",
   "environment_variables": {},
   "exception": null,
   "input_path": "__notebook__.ipynb",
   "output_path": "__notebook__.ipynb",
   "parameters": {},
   "start_time": "2024-01-26T02:37:13.227227",
   "version": "2.4.0"
  }
 },
 "nbformat": 4,
 "nbformat_minor": 5
}
