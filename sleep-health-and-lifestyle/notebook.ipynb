{
 "cells": [
  {
   "cell_type": "markdown",
   "id": "8edb76fd",
   "metadata": {
    "papermill": {
     "duration": 0.011415,
     "end_time": "2024-01-27T21:21:42.941883",
     "exception": false,
     "start_time": "2024-01-27T21:21:42.930468",
     "status": "completed"
    },
    "tags": []
   },
   "source": [
    "# Sleep health and lifestyle\n",
    "\n",
    "In this project we took the Sleep Health and Lifestyle Dataset in where you can find data on different people such as their profession, physical activity and sleep quality. We will take this dataset to know what are the things that affect sleep such as the amount of physical activity, the profession and the pressure to which each person is subjected."
   ]
  },
  {
   "cell_type": "markdown",
   "id": "f18b5105",
   "metadata": {
    "papermill": {
     "duration": 0.010477,
     "end_time": "2024-01-27T21:21:42.963371",
     "exception": false,
     "start_time": "2024-01-27T21:21:42.952894",
     "status": "completed"
    },
    "tags": []
   },
   "source": [
    "## Import libraries"
   ]
  },
  {
   "cell_type": "code",
   "execution_count": 1,
   "id": "a2894bd5",
   "metadata": {
    "_cell_guid": "b1076dfc-b9ad-4769-8c92-a6c4dae69d19",
    "_uuid": "8f2839f25d086af736a60e9eeb907d3b93b6e0e5",
    "execution": {
     "iopub.execute_input": "2024-01-27T21:21:42.987058Z",
     "iopub.status.busy": "2024-01-27T21:21:42.986335Z",
     "iopub.status.idle": "2024-01-27T21:21:43.858591Z",
     "shell.execute_reply": "2024-01-27T21:21:43.857376Z"
    },
    "papermill": {
     "duration": 0.88736,
     "end_time": "2024-01-27T21:21:43.861514",
     "exception": false,
     "start_time": "2024-01-27T21:21:42.974154",
     "status": "completed"
    },
    "tags": []
   },
   "outputs": [],
   "source": [
    "import numpy as np # linear algebra\n",
    "import pandas as pd # data processing, CSV file I/O (e.g. pd.read_csv)"
   ]
  },
  {
   "cell_type": "markdown",
   "id": "a0446d50",
   "metadata": {
    "papermill": {
     "duration": 0.010679,
     "end_time": "2024-01-27T21:21:43.883369",
     "exception": false,
     "start_time": "2024-01-27T21:21:43.872690",
     "status": "completed"
    },
    "tags": []
   },
   "source": [
    "## Load data"
   ]
  },
  {
   "cell_type": "code",
   "execution_count": 2,
   "id": "20fefe0a",
   "metadata": {
    "execution": {
     "iopub.execute_input": "2024-01-27T21:21:43.907435Z",
     "iopub.status.busy": "2024-01-27T21:21:43.906829Z",
     "iopub.status.idle": "2024-01-27T21:21:43.971174Z",
     "shell.execute_reply": "2024-01-27T21:21:43.970169Z"
    },
    "papermill": {
     "duration": 0.079218,
     "end_time": "2024-01-27T21:21:43.973825",
     "exception": false,
     "start_time": "2024-01-27T21:21:43.894607",
     "status": "completed"
    },
    "tags": []
   },
   "outputs": [
    {
     "data": {
      "text/html": [
       "<div>\n",
       "<style scoped>\n",
       "    .dataframe tbody tr th:only-of-type {\n",
       "        vertical-align: middle;\n",
       "    }\n",
       "\n",
       "    .dataframe tbody tr th {\n",
       "        vertical-align: top;\n",
       "    }\n",
       "\n",
       "    .dataframe thead th {\n",
       "        text-align: right;\n",
       "    }\n",
       "</style>\n",
       "<table border=\"1\" class=\"dataframe\">\n",
       "  <thead>\n",
       "    <tr style=\"text-align: right;\">\n",
       "      <th></th>\n",
       "      <th>Gender</th>\n",
       "      <th>Age</th>\n",
       "      <th>Occupation</th>\n",
       "      <th>Sleep Duration</th>\n",
       "      <th>Quality of Sleep</th>\n",
       "      <th>Physical Activity Level</th>\n",
       "      <th>Stress Level</th>\n",
       "      <th>BMI Category</th>\n",
       "      <th>Blood Pressure</th>\n",
       "      <th>Heart Rate</th>\n",
       "      <th>Daily Steps</th>\n",
       "      <th>Sleep Disorder</th>\n",
       "    </tr>\n",
       "    <tr>\n",
       "      <th>Person ID</th>\n",
       "      <th></th>\n",
       "      <th></th>\n",
       "      <th></th>\n",
       "      <th></th>\n",
       "      <th></th>\n",
       "      <th></th>\n",
       "      <th></th>\n",
       "      <th></th>\n",
       "      <th></th>\n",
       "      <th></th>\n",
       "      <th></th>\n",
       "      <th></th>\n",
       "    </tr>\n",
       "  </thead>\n",
       "  <tbody>\n",
       "    <tr>\n",
       "      <th>1</th>\n",
       "      <td>Male</td>\n",
       "      <td>27</td>\n",
       "      <td>Software Engineer</td>\n",
       "      <td>6.1</td>\n",
       "      <td>6</td>\n",
       "      <td>42</td>\n",
       "      <td>6</td>\n",
       "      <td>Overweight</td>\n",
       "      <td>126/83</td>\n",
       "      <td>77</td>\n",
       "      <td>4200</td>\n",
       "      <td>NaN</td>\n",
       "    </tr>\n",
       "    <tr>\n",
       "      <th>2</th>\n",
       "      <td>Male</td>\n",
       "      <td>28</td>\n",
       "      <td>Doctor</td>\n",
       "      <td>6.2</td>\n",
       "      <td>6</td>\n",
       "      <td>60</td>\n",
       "      <td>8</td>\n",
       "      <td>Normal</td>\n",
       "      <td>125/80</td>\n",
       "      <td>75</td>\n",
       "      <td>10000</td>\n",
       "      <td>NaN</td>\n",
       "    </tr>\n",
       "    <tr>\n",
       "      <th>3</th>\n",
       "      <td>Male</td>\n",
       "      <td>28</td>\n",
       "      <td>Doctor</td>\n",
       "      <td>6.2</td>\n",
       "      <td>6</td>\n",
       "      <td>60</td>\n",
       "      <td>8</td>\n",
       "      <td>Normal</td>\n",
       "      <td>125/80</td>\n",
       "      <td>75</td>\n",
       "      <td>10000</td>\n",
       "      <td>NaN</td>\n",
       "    </tr>\n",
       "    <tr>\n",
       "      <th>4</th>\n",
       "      <td>Male</td>\n",
       "      <td>28</td>\n",
       "      <td>Sales Representative</td>\n",
       "      <td>5.9</td>\n",
       "      <td>4</td>\n",
       "      <td>30</td>\n",
       "      <td>8</td>\n",
       "      <td>Obese</td>\n",
       "      <td>140/90</td>\n",
       "      <td>85</td>\n",
       "      <td>3000</td>\n",
       "      <td>Sleep Apnea</td>\n",
       "    </tr>\n",
       "    <tr>\n",
       "      <th>5</th>\n",
       "      <td>Male</td>\n",
       "      <td>28</td>\n",
       "      <td>Sales Representative</td>\n",
       "      <td>5.9</td>\n",
       "      <td>4</td>\n",
       "      <td>30</td>\n",
       "      <td>8</td>\n",
       "      <td>Obese</td>\n",
       "      <td>140/90</td>\n",
       "      <td>85</td>\n",
       "      <td>3000</td>\n",
       "      <td>Sleep Apnea</td>\n",
       "    </tr>\n",
       "  </tbody>\n",
       "</table>\n",
       "</div>"
      ],
      "text/plain": [
       "          Gender  Age            Occupation  Sleep Duration  Quality of Sleep  \\\n",
       "Person ID                                                                       \n",
       "1           Male   27     Software Engineer             6.1                 6   \n",
       "2           Male   28                Doctor             6.2                 6   \n",
       "3           Male   28                Doctor             6.2                 6   \n",
       "4           Male   28  Sales Representative             5.9                 4   \n",
       "5           Male   28  Sales Representative             5.9                 4   \n",
       "\n",
       "           Physical Activity Level  Stress Level BMI Category Blood Pressure  \\\n",
       "Person ID                                                                      \n",
       "1                               42             6   Overweight         126/83   \n",
       "2                               60             8       Normal         125/80   \n",
       "3                               60             8       Normal         125/80   \n",
       "4                               30             8        Obese         140/90   \n",
       "5                               30             8        Obese         140/90   \n",
       "\n",
       "           Heart Rate  Daily Steps Sleep Disorder  \n",
       "Person ID                                          \n",
       "1                  77         4200            NaN  \n",
       "2                  75        10000            NaN  \n",
       "3                  75        10000            NaN  \n",
       "4                  85         3000    Sleep Apnea  \n",
       "5                  85         3000    Sleep Apnea  "
      ]
     },
     "execution_count": 2,
     "metadata": {},
     "output_type": "execute_result"
    }
   ],
   "source": [
    "data = pd.read_csv(\n",
    "    \"/kaggle/input/sleep-health-and-lifestyle-dataset/Sleep_health_and_lifestyle_dataset.csv\",\n",
    "    index_col = \"Person ID\"\n",
    ")\n",
    "data.head()"
   ]
  },
  {
   "cell_type": "markdown",
   "id": "41710b12",
   "metadata": {
    "papermill": {
     "duration": 0.011376,
     "end_time": "2024-01-27T21:21:43.996759",
     "exception": false,
     "start_time": "2024-01-27T21:21:43.985383",
     "status": "completed"
    },
    "tags": []
   },
   "source": [
    "## Questions for analysis\n",
    "\n",
    "- Who has worse sleep quality, men or women?\n",
    "- Is there a relationship between people's sleep quality and their profession?\n",
    "- Does physical activity affect sleep?\n",
    "- Which profession has the worst sleep quality?\n",
    "- Which profession have people with the highest level of stress and the highest body mass index?\n",
    "- In what age range are the most sleep disorders found?\n",
    "- Does the number of steps per day affect sleep quality and body mass index?"
   ]
  },
  {
   "cell_type": "markdown",
   "id": "a2f6973a",
   "metadata": {
    "papermill": {
     "duration": 0.011098,
     "end_time": "2024-01-27T21:21:44.019275",
     "exception": false,
     "start_time": "2024-01-27T21:21:44.008177",
     "status": "completed"
    },
    "tags": []
   },
   "source": [
    "Summary of the data set (using `.info()` method)"
   ]
  },
  {
   "cell_type": "code",
   "execution_count": 3,
   "id": "d00163f4",
   "metadata": {
    "execution": {
     "iopub.execute_input": "2024-01-27T21:21:44.043950Z",
     "iopub.status.busy": "2024-01-27T21:21:44.043474Z",
     "iopub.status.idle": "2024-01-27T21:21:44.065070Z",
     "shell.execute_reply": "2024-01-27T21:21:44.063903Z"
    },
    "papermill": {
     "duration": 0.037077,
     "end_time": "2024-01-27T21:21:44.067946",
     "exception": false,
     "start_time": "2024-01-27T21:21:44.030869",
     "status": "completed"
    },
    "tags": []
   },
   "outputs": [
    {
     "name": "stdout",
     "output_type": "stream",
     "text": [
      "<class 'pandas.core.frame.DataFrame'>\n",
      "Index: 374 entries, 1 to 374\n",
      "Data columns (total 12 columns):\n",
      " #   Column                   Non-Null Count  Dtype  \n",
      "---  ------                   --------------  -----  \n",
      " 0   Gender                   374 non-null    object \n",
      " 1   Age                      374 non-null    int64  \n",
      " 2   Occupation               374 non-null    object \n",
      " 3   Sleep Duration           374 non-null    float64\n",
      " 4   Quality of Sleep         374 non-null    int64  \n",
      " 5   Physical Activity Level  374 non-null    int64  \n",
      " 6   Stress Level             374 non-null    int64  \n",
      " 7   BMI Category             374 non-null    object \n",
      " 8   Blood Pressure           374 non-null    object \n",
      " 9   Heart Rate               374 non-null    int64  \n",
      " 10  Daily Steps              374 non-null    int64  \n",
      " 11  Sleep Disorder           155 non-null    object \n",
      "dtypes: float64(1), int64(6), object(5)\n",
      "memory usage: 38.0+ KB\n"
     ]
    }
   ],
   "source": [
    "data.info()"
   ]
  },
  {
   "cell_type": "markdown",
   "id": "4c06045a",
   "metadata": {
    "papermill": {
     "duration": 0.011102,
     "end_time": "2024-01-27T21:21:44.090493",
     "exception": false,
     "start_time": "2024-01-27T21:21:44.079391",
     "status": "completed"
    },
    "tags": []
   },
   "source": [
    "Generate descriptive statistics (using `.describe()` method).\n",
    "\n",
    "Descriptive statistics include those that summarize the central tendency, dispersion and shape of a dataset's distribution, excluding NaN values."
   ]
  },
  {
   "cell_type": "code",
   "execution_count": 4,
   "id": "d3fab44e",
   "metadata": {
    "execution": {
     "iopub.execute_input": "2024-01-27T21:21:44.115618Z",
     "iopub.status.busy": "2024-01-27T21:21:44.115220Z",
     "iopub.status.idle": "2024-01-27T21:21:44.149925Z",
     "shell.execute_reply": "2024-01-27T21:21:44.148742Z"
    },
    "papermill": {
     "duration": 0.050282,
     "end_time": "2024-01-27T21:21:44.152533",
     "exception": false,
     "start_time": "2024-01-27T21:21:44.102251",
     "status": "completed"
    },
    "tags": []
   },
   "outputs": [
    {
     "data": {
      "text/html": [
       "<div>\n",
       "<style scoped>\n",
       "    .dataframe tbody tr th:only-of-type {\n",
       "        vertical-align: middle;\n",
       "    }\n",
       "\n",
       "    .dataframe tbody tr th {\n",
       "        vertical-align: top;\n",
       "    }\n",
       "\n",
       "    .dataframe thead th {\n",
       "        text-align: right;\n",
       "    }\n",
       "</style>\n",
       "<table border=\"1\" class=\"dataframe\">\n",
       "  <thead>\n",
       "    <tr style=\"text-align: right;\">\n",
       "      <th></th>\n",
       "      <th>Age</th>\n",
       "      <th>Sleep Duration</th>\n",
       "      <th>Quality of Sleep</th>\n",
       "      <th>Physical Activity Level</th>\n",
       "      <th>Stress Level</th>\n",
       "      <th>Heart Rate</th>\n",
       "      <th>Daily Steps</th>\n",
       "    </tr>\n",
       "  </thead>\n",
       "  <tbody>\n",
       "    <tr>\n",
       "      <th>count</th>\n",
       "      <td>374.000000</td>\n",
       "      <td>374.000000</td>\n",
       "      <td>374.000000</td>\n",
       "      <td>374.000000</td>\n",
       "      <td>374.000000</td>\n",
       "      <td>374.000000</td>\n",
       "      <td>374.000000</td>\n",
       "    </tr>\n",
       "    <tr>\n",
       "      <th>mean</th>\n",
       "      <td>42.184492</td>\n",
       "      <td>7.132086</td>\n",
       "      <td>7.312834</td>\n",
       "      <td>59.171123</td>\n",
       "      <td>5.385027</td>\n",
       "      <td>70.165775</td>\n",
       "      <td>6816.844920</td>\n",
       "    </tr>\n",
       "    <tr>\n",
       "      <th>std</th>\n",
       "      <td>8.673133</td>\n",
       "      <td>0.795657</td>\n",
       "      <td>1.196956</td>\n",
       "      <td>20.830804</td>\n",
       "      <td>1.774526</td>\n",
       "      <td>4.135676</td>\n",
       "      <td>1617.915679</td>\n",
       "    </tr>\n",
       "    <tr>\n",
       "      <th>min</th>\n",
       "      <td>27.000000</td>\n",
       "      <td>5.800000</td>\n",
       "      <td>4.000000</td>\n",
       "      <td>30.000000</td>\n",
       "      <td>3.000000</td>\n",
       "      <td>65.000000</td>\n",
       "      <td>3000.000000</td>\n",
       "    </tr>\n",
       "    <tr>\n",
       "      <th>25%</th>\n",
       "      <td>35.250000</td>\n",
       "      <td>6.400000</td>\n",
       "      <td>6.000000</td>\n",
       "      <td>45.000000</td>\n",
       "      <td>4.000000</td>\n",
       "      <td>68.000000</td>\n",
       "      <td>5600.000000</td>\n",
       "    </tr>\n",
       "    <tr>\n",
       "      <th>50%</th>\n",
       "      <td>43.000000</td>\n",
       "      <td>7.200000</td>\n",
       "      <td>7.000000</td>\n",
       "      <td>60.000000</td>\n",
       "      <td>5.000000</td>\n",
       "      <td>70.000000</td>\n",
       "      <td>7000.000000</td>\n",
       "    </tr>\n",
       "    <tr>\n",
       "      <th>75%</th>\n",
       "      <td>50.000000</td>\n",
       "      <td>7.800000</td>\n",
       "      <td>8.000000</td>\n",
       "      <td>75.000000</td>\n",
       "      <td>7.000000</td>\n",
       "      <td>72.000000</td>\n",
       "      <td>8000.000000</td>\n",
       "    </tr>\n",
       "    <tr>\n",
       "      <th>max</th>\n",
       "      <td>59.000000</td>\n",
       "      <td>8.500000</td>\n",
       "      <td>9.000000</td>\n",
       "      <td>90.000000</td>\n",
       "      <td>8.000000</td>\n",
       "      <td>86.000000</td>\n",
       "      <td>10000.000000</td>\n",
       "    </tr>\n",
       "  </tbody>\n",
       "</table>\n",
       "</div>"
      ],
      "text/plain": [
       "              Age  Sleep Duration  Quality of Sleep  Physical Activity Level  \\\n",
       "count  374.000000      374.000000        374.000000               374.000000   \n",
       "mean    42.184492        7.132086          7.312834                59.171123   \n",
       "std      8.673133        0.795657          1.196956                20.830804   \n",
       "min     27.000000        5.800000          4.000000                30.000000   \n",
       "25%     35.250000        6.400000          6.000000                45.000000   \n",
       "50%     43.000000        7.200000          7.000000                60.000000   \n",
       "75%     50.000000        7.800000          8.000000                75.000000   \n",
       "max     59.000000        8.500000          9.000000                90.000000   \n",
       "\n",
       "       Stress Level  Heart Rate   Daily Steps  \n",
       "count    374.000000  374.000000    374.000000  \n",
       "mean       5.385027   70.165775   6816.844920  \n",
       "std        1.774526    4.135676   1617.915679  \n",
       "min        3.000000   65.000000   3000.000000  \n",
       "25%        4.000000   68.000000   5600.000000  \n",
       "50%        5.000000   70.000000   7000.000000  \n",
       "75%        7.000000   72.000000   8000.000000  \n",
       "max        8.000000   86.000000  10000.000000  "
      ]
     },
     "execution_count": 4,
     "metadata": {},
     "output_type": "execute_result"
    }
   ],
   "source": [
    "data.describe()"
   ]
  },
  {
   "cell_type": "markdown",
   "id": "8afd33f7",
   "metadata": {
    "papermill": {
     "duration": 0.011564,
     "end_time": "2024-01-27T21:21:44.176527",
     "exception": false,
     "start_time": "2024-01-27T21:21:44.164963",
     "status": "completed"
    },
    "tags": []
   },
   "source": [
    "## Ages analisys\n",
    "\n",
    "Count the number of men and women"
   ]
  },
  {
   "cell_type": "code",
   "execution_count": 5,
   "id": "74adf92e",
   "metadata": {
    "execution": {
     "iopub.execute_input": "2024-01-27T21:21:44.202344Z",
     "iopub.status.busy": "2024-01-27T21:21:44.201661Z",
     "iopub.status.idle": "2024-01-27T21:21:44.209821Z",
     "shell.execute_reply": "2024-01-27T21:21:44.208948Z"
    },
    "papermill": {
     "duration": 0.02412,
     "end_time": "2024-01-27T21:21:44.212445",
     "exception": false,
     "start_time": "2024-01-27T21:21:44.188325",
     "status": "completed"
    },
    "tags": []
   },
   "outputs": [
    {
     "data": {
      "text/plain": [
       "Gender\n",
       "Male      189\n",
       "Female    185\n",
       "Name: count, dtype: int64"
      ]
     },
     "execution_count": 5,
     "metadata": {},
     "output_type": "execute_result"
    }
   ],
   "source": [
    "data[\"Gender\"].value_counts()\n",
    "\n",
    "# or\n",
    "\n",
    "# data.Gender.value_counts()"
   ]
  },
  {
   "cell_type": "markdown",
   "id": "19e7a2e7",
   "metadata": {
    "papermill": {
     "duration": 0.011755,
     "end_time": "2024-01-27T21:21:44.236320",
     "exception": false,
     "start_time": "2024-01-27T21:21:44.224565",
     "status": "completed"
    },
    "tags": []
   },
   "source": [
    "> This gives us a general overview of the group, and we can say that the group is in proportion to the number of men and women. Proportion, with respect to the number of men and women."
   ]
  },
  {
   "cell_type": "markdown",
   "id": "89579ae8",
   "metadata": {
    "papermill": {
     "duration": 0.011567,
     "end_time": "2024-01-27T21:21:44.260100",
     "exception": false,
     "start_time": "2024-01-27T21:21:44.248533",
     "status": "completed"
    },
    "tags": []
   },
   "source": [
    "## Classification by age\n",
    "\n",
    "In the set we can find the ages of the persons, with respect to the ages we can find the following:"
   ]
  },
  {
   "cell_type": "code",
   "execution_count": 6,
   "id": "a38b1551",
   "metadata": {
    "execution": {
     "iopub.execute_input": "2024-01-27T21:21:44.287812Z",
     "iopub.status.busy": "2024-01-27T21:21:44.287189Z",
     "iopub.status.idle": "2024-01-27T21:21:44.293579Z",
     "shell.execute_reply": "2024-01-27T21:21:44.292454Z"
    },
    "papermill": {
     "duration": 0.022277,
     "end_time": "2024-01-27T21:21:44.295992",
     "exception": false,
     "start_time": "2024-01-27T21:21:44.273715",
     "status": "completed"
    },
    "tags": []
   },
   "outputs": [
    {
     "data": {
      "text/plain": [
       "27"
      ]
     },
     "execution_count": 6,
     "metadata": {},
     "output_type": "execute_result"
    }
   ],
   "source": [
    "data[\"Age\"].min()"
   ]
  },
  {
   "cell_type": "code",
   "execution_count": 7,
   "id": "538327d4",
   "metadata": {
    "execution": {
     "iopub.execute_input": "2024-01-27T21:21:44.322036Z",
     "iopub.status.busy": "2024-01-27T21:21:44.321585Z",
     "iopub.status.idle": "2024-01-27T21:21:44.329579Z",
     "shell.execute_reply": "2024-01-27T21:21:44.328254Z"
    },
    "papermill": {
     "duration": 0.023907,
     "end_time": "2024-01-27T21:21:44.332025",
     "exception": false,
     "start_time": "2024-01-27T21:21:44.308118",
     "status": "completed"
    },
    "tags": []
   },
   "outputs": [
    {
     "data": {
      "text/plain": [
       "59"
      ]
     },
     "execution_count": 7,
     "metadata": {},
     "output_type": "execute_result"
    }
   ],
   "source": [
    "data[\"Age\"].max()"
   ]
  },
  {
   "cell_type": "markdown",
   "id": "59e257ba",
   "metadata": {
    "papermill": {
     "duration": 0.011772,
     "end_time": "2024-01-27T21:21:44.356076",
     "exception": false,
     "start_time": "2024-01-27T21:21:44.344304",
     "status": "completed"
    },
    "tags": []
   },
   "source": [
    "The lowest age is 27 years old\n",
    "The highest age is 59 years old\n",
    "\n",
    "What we can say is that the data set takes into account people who are already of working age, starting work or with only a few years in it, or people close to retiring. Let's find the average age in the data set."
   ]
  },
  {
   "cell_type": "code",
   "execution_count": 8,
   "id": "9add7b05",
   "metadata": {
    "execution": {
     "iopub.execute_input": "2024-01-27T21:21:44.382484Z",
     "iopub.status.busy": "2024-01-27T21:21:44.382086Z",
     "iopub.status.idle": "2024-01-27T21:21:44.389719Z",
     "shell.execute_reply": "2024-01-27T21:21:44.388694Z"
    },
    "papermill": {
     "duration": 0.023806,
     "end_time": "2024-01-27T21:21:44.392142",
     "exception": false,
     "start_time": "2024-01-27T21:21:44.368336",
     "status": "completed"
    },
    "tags": []
   },
   "outputs": [
    {
     "data": {
      "text/plain": [
       "42.18449197860963"
      ]
     },
     "execution_count": 8,
     "metadata": {},
     "output_type": "execute_result"
    }
   ],
   "source": [
    "data[\"Age\"].mean()"
   ]
  },
  {
   "cell_type": "markdown",
   "id": "9e22f515",
   "metadata": {
    "papermill": {
     "duration": 0.012041,
     "end_time": "2024-01-27T21:21:44.417082",
     "exception": false,
     "start_time": "2024-01-27T21:21:44.405041",
     "status": "completed"
    },
    "tags": []
   },
   "source": [
    "The average age of the data set is 42 years and the standard deviation is 8.67, which means that in this set we can find very dispersed data, which may be due to the few data collected.\n",
    "\n",
    "To support us in this analysis, a new column was added to the data set called Age_group in which the age of the people was classified as follows:\n",
    "\n",
    "- **Age less than or equal to 40 years**: *Adult*.\n",
    "- **Age over 40 years**: *OlderAdult*"
   ]
  },
  {
   "cell_type": "code",
   "execution_count": 9,
   "id": "a4ec57c9",
   "metadata": {
    "execution": {
     "iopub.execute_input": "2024-01-27T21:21:44.443935Z",
     "iopub.status.busy": "2024-01-27T21:21:44.443464Z",
     "iopub.status.idle": "2024-01-27T21:21:44.465382Z",
     "shell.execute_reply": "2024-01-27T21:21:44.464527Z"
    },
    "papermill": {
     "duration": 0.037916,
     "end_time": "2024-01-27T21:21:44.467476",
     "exception": false,
     "start_time": "2024-01-27T21:21:44.429560",
     "status": "completed"
    },
    "tags": []
   },
   "outputs": [
    {
     "data": {
      "text/html": [
       "<div>\n",
       "<style scoped>\n",
       "    .dataframe tbody tr th:only-of-type {\n",
       "        vertical-align: middle;\n",
       "    }\n",
       "\n",
       "    .dataframe tbody tr th {\n",
       "        vertical-align: top;\n",
       "    }\n",
       "\n",
       "    .dataframe thead th {\n",
       "        text-align: right;\n",
       "    }\n",
       "</style>\n",
       "<table border=\"1\" class=\"dataframe\">\n",
       "  <thead>\n",
       "    <tr style=\"text-align: right;\">\n",
       "      <th></th>\n",
       "      <th>Gender</th>\n",
       "      <th>Age</th>\n",
       "      <th>Occupation</th>\n",
       "      <th>Sleep Duration</th>\n",
       "      <th>Quality of Sleep</th>\n",
       "      <th>Physical Activity Level</th>\n",
       "      <th>Stress Level</th>\n",
       "      <th>BMI Category</th>\n",
       "      <th>Blood Pressure</th>\n",
       "      <th>Heart Rate</th>\n",
       "      <th>Daily Steps</th>\n",
       "      <th>Sleep Disorder</th>\n",
       "      <th>AgeGroup</th>\n",
       "    </tr>\n",
       "    <tr>\n",
       "      <th>Person ID</th>\n",
       "      <th></th>\n",
       "      <th></th>\n",
       "      <th></th>\n",
       "      <th></th>\n",
       "      <th></th>\n",
       "      <th></th>\n",
       "      <th></th>\n",
       "      <th></th>\n",
       "      <th></th>\n",
       "      <th></th>\n",
       "      <th></th>\n",
       "      <th></th>\n",
       "      <th></th>\n",
       "    </tr>\n",
       "  </thead>\n",
       "  <tbody>\n",
       "    <tr>\n",
       "      <th>1</th>\n",
       "      <td>Male</td>\n",
       "      <td>27</td>\n",
       "      <td>Software Engineer</td>\n",
       "      <td>6.1</td>\n",
       "      <td>6</td>\n",
       "      <td>42</td>\n",
       "      <td>6</td>\n",
       "      <td>Overweight</td>\n",
       "      <td>126/83</td>\n",
       "      <td>77</td>\n",
       "      <td>4200</td>\n",
       "      <td>NaN</td>\n",
       "      <td>Adult</td>\n",
       "    </tr>\n",
       "    <tr>\n",
       "      <th>2</th>\n",
       "      <td>Male</td>\n",
       "      <td>28</td>\n",
       "      <td>Doctor</td>\n",
       "      <td>6.2</td>\n",
       "      <td>6</td>\n",
       "      <td>60</td>\n",
       "      <td>8</td>\n",
       "      <td>Normal</td>\n",
       "      <td>125/80</td>\n",
       "      <td>75</td>\n",
       "      <td>10000</td>\n",
       "      <td>NaN</td>\n",
       "      <td>Adult</td>\n",
       "    </tr>\n",
       "    <tr>\n",
       "      <th>3</th>\n",
       "      <td>Male</td>\n",
       "      <td>28</td>\n",
       "      <td>Doctor</td>\n",
       "      <td>6.2</td>\n",
       "      <td>6</td>\n",
       "      <td>60</td>\n",
       "      <td>8</td>\n",
       "      <td>Normal</td>\n",
       "      <td>125/80</td>\n",
       "      <td>75</td>\n",
       "      <td>10000</td>\n",
       "      <td>NaN</td>\n",
       "      <td>Adult</td>\n",
       "    </tr>\n",
       "    <tr>\n",
       "      <th>4</th>\n",
       "      <td>Male</td>\n",
       "      <td>28</td>\n",
       "      <td>Sales Representative</td>\n",
       "      <td>5.9</td>\n",
       "      <td>4</td>\n",
       "      <td>30</td>\n",
       "      <td>8</td>\n",
       "      <td>Obese</td>\n",
       "      <td>140/90</td>\n",
       "      <td>85</td>\n",
       "      <td>3000</td>\n",
       "      <td>Sleep Apnea</td>\n",
       "      <td>Adult</td>\n",
       "    </tr>\n",
       "    <tr>\n",
       "      <th>5</th>\n",
       "      <td>Male</td>\n",
       "      <td>28</td>\n",
       "      <td>Sales Representative</td>\n",
       "      <td>5.9</td>\n",
       "      <td>4</td>\n",
       "      <td>30</td>\n",
       "      <td>8</td>\n",
       "      <td>Obese</td>\n",
       "      <td>140/90</td>\n",
       "      <td>85</td>\n",
       "      <td>3000</td>\n",
       "      <td>Sleep Apnea</td>\n",
       "      <td>Adult</td>\n",
       "    </tr>\n",
       "  </tbody>\n",
       "</table>\n",
       "</div>"
      ],
      "text/plain": [
       "          Gender  Age            Occupation  Sleep Duration  Quality of Sleep  \\\n",
       "Person ID                                                                       \n",
       "1           Male   27     Software Engineer             6.1                 6   \n",
       "2           Male   28                Doctor             6.2                 6   \n",
       "3           Male   28                Doctor             6.2                 6   \n",
       "4           Male   28  Sales Representative             5.9                 4   \n",
       "5           Male   28  Sales Representative             5.9                 4   \n",
       "\n",
       "           Physical Activity Level  Stress Level BMI Category Blood Pressure  \\\n",
       "Person ID                                                                      \n",
       "1                               42             6   Overweight         126/83   \n",
       "2                               60             8       Normal         125/80   \n",
       "3                               60             8       Normal         125/80   \n",
       "4                               30             8        Obese         140/90   \n",
       "5                               30             8        Obese         140/90   \n",
       "\n",
       "           Heart Rate  Daily Steps Sleep Disorder AgeGroup  \n",
       "Person ID                                                   \n",
       "1                  77         4200            NaN    Adult  \n",
       "2                  75        10000            NaN    Adult  \n",
       "3                  75        10000            NaN    Adult  \n",
       "4                  85         3000    Sleep Apnea    Adult  \n",
       "5                  85         3000    Sleep Apnea    Adult  "
      ]
     },
     "execution_count": 9,
     "metadata": {},
     "output_type": "execute_result"
    }
   ],
   "source": [
    "data.loc[data[\"Age\"] <= 40, 'AgeGroup'] = \"Adult\"\n",
    "data.loc[data[\"Age\"] >= 41, 'AgeGroup'] = \"OlderAdult\"\n",
    "\n",
    "# View the first rows of the data set\n",
    "data.head()"
   ]
  },
  {
   "cell_type": "code",
   "execution_count": 10,
   "id": "f527a02d",
   "metadata": {
    "execution": {
     "iopub.execute_input": "2024-01-27T21:21:44.495681Z",
     "iopub.status.busy": "2024-01-27T21:21:44.495275Z",
     "iopub.status.idle": "2024-01-27T21:21:44.513425Z",
     "shell.execute_reply": "2024-01-27T21:21:44.512327Z"
    },
    "papermill": {
     "duration": 0.034763,
     "end_time": "2024-01-27T21:21:44.515979",
     "exception": false,
     "start_time": "2024-01-27T21:21:44.481216",
     "status": "completed"
    },
    "tags": []
   },
   "outputs": [
    {
     "data": {
      "text/html": [
       "<div>\n",
       "<style scoped>\n",
       "    .dataframe tbody tr th:only-of-type {\n",
       "        vertical-align: middle;\n",
       "    }\n",
       "\n",
       "    .dataframe tbody tr th {\n",
       "        vertical-align: top;\n",
       "    }\n",
       "\n",
       "    .dataframe thead th {\n",
       "        text-align: right;\n",
       "    }\n",
       "</style>\n",
       "<table border=\"1\" class=\"dataframe\">\n",
       "  <thead>\n",
       "    <tr style=\"text-align: right;\">\n",
       "      <th></th>\n",
       "      <th>Gender</th>\n",
       "      <th>Age</th>\n",
       "      <th>Occupation</th>\n",
       "      <th>Sleep Duration</th>\n",
       "      <th>Quality of Sleep</th>\n",
       "      <th>Physical Activity Level</th>\n",
       "      <th>Stress Level</th>\n",
       "      <th>BMI Category</th>\n",
       "      <th>Blood Pressure</th>\n",
       "      <th>Heart Rate</th>\n",
       "      <th>Daily Steps</th>\n",
       "      <th>Sleep Disorder</th>\n",
       "      <th>AgeGroup</th>\n",
       "    </tr>\n",
       "    <tr>\n",
       "      <th>Person ID</th>\n",
       "      <th></th>\n",
       "      <th></th>\n",
       "      <th></th>\n",
       "      <th></th>\n",
       "      <th></th>\n",
       "      <th></th>\n",
       "      <th></th>\n",
       "      <th></th>\n",
       "      <th></th>\n",
       "      <th></th>\n",
       "      <th></th>\n",
       "      <th></th>\n",
       "      <th></th>\n",
       "    </tr>\n",
       "  </thead>\n",
       "  <tbody>\n",
       "    <tr>\n",
       "      <th>370</th>\n",
       "      <td>Female</td>\n",
       "      <td>59</td>\n",
       "      <td>Nurse</td>\n",
       "      <td>8.1</td>\n",
       "      <td>9</td>\n",
       "      <td>75</td>\n",
       "      <td>3</td>\n",
       "      <td>Overweight</td>\n",
       "      <td>140/95</td>\n",
       "      <td>68</td>\n",
       "      <td>7000</td>\n",
       "      <td>Sleep Apnea</td>\n",
       "      <td>OlderAdult</td>\n",
       "    </tr>\n",
       "    <tr>\n",
       "      <th>371</th>\n",
       "      <td>Female</td>\n",
       "      <td>59</td>\n",
       "      <td>Nurse</td>\n",
       "      <td>8.0</td>\n",
       "      <td>9</td>\n",
       "      <td>75</td>\n",
       "      <td>3</td>\n",
       "      <td>Overweight</td>\n",
       "      <td>140/95</td>\n",
       "      <td>68</td>\n",
       "      <td>7000</td>\n",
       "      <td>Sleep Apnea</td>\n",
       "      <td>OlderAdult</td>\n",
       "    </tr>\n",
       "    <tr>\n",
       "      <th>372</th>\n",
       "      <td>Female</td>\n",
       "      <td>59</td>\n",
       "      <td>Nurse</td>\n",
       "      <td>8.1</td>\n",
       "      <td>9</td>\n",
       "      <td>75</td>\n",
       "      <td>3</td>\n",
       "      <td>Overweight</td>\n",
       "      <td>140/95</td>\n",
       "      <td>68</td>\n",
       "      <td>7000</td>\n",
       "      <td>Sleep Apnea</td>\n",
       "      <td>OlderAdult</td>\n",
       "    </tr>\n",
       "    <tr>\n",
       "      <th>373</th>\n",
       "      <td>Female</td>\n",
       "      <td>59</td>\n",
       "      <td>Nurse</td>\n",
       "      <td>8.1</td>\n",
       "      <td>9</td>\n",
       "      <td>75</td>\n",
       "      <td>3</td>\n",
       "      <td>Overweight</td>\n",
       "      <td>140/95</td>\n",
       "      <td>68</td>\n",
       "      <td>7000</td>\n",
       "      <td>Sleep Apnea</td>\n",
       "      <td>OlderAdult</td>\n",
       "    </tr>\n",
       "    <tr>\n",
       "      <th>374</th>\n",
       "      <td>Female</td>\n",
       "      <td>59</td>\n",
       "      <td>Nurse</td>\n",
       "      <td>8.1</td>\n",
       "      <td>9</td>\n",
       "      <td>75</td>\n",
       "      <td>3</td>\n",
       "      <td>Overweight</td>\n",
       "      <td>140/95</td>\n",
       "      <td>68</td>\n",
       "      <td>7000</td>\n",
       "      <td>Sleep Apnea</td>\n",
       "      <td>OlderAdult</td>\n",
       "    </tr>\n",
       "  </tbody>\n",
       "</table>\n",
       "</div>"
      ],
      "text/plain": [
       "           Gender  Age Occupation  Sleep Duration  Quality of Sleep  \\\n",
       "Person ID                                                             \n",
       "370        Female   59      Nurse             8.1                 9   \n",
       "371        Female   59      Nurse             8.0                 9   \n",
       "372        Female   59      Nurse             8.1                 9   \n",
       "373        Female   59      Nurse             8.1                 9   \n",
       "374        Female   59      Nurse             8.1                 9   \n",
       "\n",
       "           Physical Activity Level  Stress Level BMI Category Blood Pressure  \\\n",
       "Person ID                                                                      \n",
       "370                             75             3   Overweight         140/95   \n",
       "371                             75             3   Overweight         140/95   \n",
       "372                             75             3   Overweight         140/95   \n",
       "373                             75             3   Overweight         140/95   \n",
       "374                             75             3   Overweight         140/95   \n",
       "\n",
       "           Heart Rate  Daily Steps Sleep Disorder    AgeGroup  \n",
       "Person ID                                                      \n",
       "370                68         7000    Sleep Apnea  OlderAdult  \n",
       "371                68         7000    Sleep Apnea  OlderAdult  \n",
       "372                68         7000    Sleep Apnea  OlderAdult  \n",
       "373                68         7000    Sleep Apnea  OlderAdult  \n",
       "374                68         7000    Sleep Apnea  OlderAdult  "
      ]
     },
     "execution_count": 10,
     "metadata": {},
     "output_type": "execute_result"
    }
   ],
   "source": [
    "# View the last rows of the data set\n",
    "data.tail()"
   ]
  },
  {
   "cell_type": "markdown",
   "id": "a5cdc2ae",
   "metadata": {
    "papermill": {
     "duration": 0.012722,
     "end_time": "2024-01-27T21:21:44.541857",
     "exception": false,
     "start_time": "2024-01-27T21:21:44.529135",
     "status": "completed"
    },
    "tags": []
   },
   "source": [
    "Taking into account this ordering of the data, we have the following:"
   ]
  },
  {
   "cell_type": "code",
   "execution_count": 11,
   "id": "e3bea611",
   "metadata": {
    "execution": {
     "iopub.execute_input": "2024-01-27T21:21:44.569867Z",
     "iopub.status.busy": "2024-01-27T21:21:44.569418Z",
     "iopub.status.idle": "2024-01-27T21:21:44.577826Z",
     "shell.execute_reply": "2024-01-27T21:21:44.577009Z"
    },
    "papermill": {
     "duration": 0.025114,
     "end_time": "2024-01-27T21:21:44.580168",
     "exception": false,
     "start_time": "2024-01-27T21:21:44.555054",
     "status": "completed"
    },
    "tags": []
   },
   "outputs": [
    {
     "data": {
      "text/plain": [
       "AgeGroup\n",
       "OlderAdult    209\n",
       "Adult         165\n",
       "Name: count, dtype: int64"
      ]
     },
     "execution_count": 11,
     "metadata": {},
     "output_type": "execute_result"
    }
   ],
   "source": [
    "data['AgeGroup'].value_counts()"
   ]
  },
  {
   "cell_type": "markdown",
   "id": "85904f51",
   "metadata": {
    "papermill": {
     "duration": 0.012991,
     "end_time": "2024-01-27T21:21:44.673143",
     "exception": false,
     "start_time": "2024-01-27T21:21:44.660152",
     "status": "completed"
    },
    "tags": []
   },
   "source": [
    "Finally, the average age for each gender is as follows:"
   ]
  },
  {
   "cell_type": "code",
   "execution_count": 12,
   "id": "e38a518e",
   "metadata": {
    "execution": {
     "iopub.execute_input": "2024-01-27T21:21:44.702467Z",
     "iopub.status.busy": "2024-01-27T21:21:44.702077Z",
     "iopub.status.idle": "2024-01-27T21:21:44.720983Z",
     "shell.execute_reply": "2024-01-27T21:21:44.719687Z"
    },
    "papermill": {
     "duration": 0.036674,
     "end_time": "2024-01-27T21:21:44.723698",
     "exception": false,
     "start_time": "2024-01-27T21:21:44.687024",
     "status": "completed"
    },
    "tags": []
   },
   "outputs": [
    {
     "data": {
      "text/html": [
       "<div>\n",
       "<style scoped>\n",
       "    .dataframe tbody tr th:only-of-type {\n",
       "        vertical-align: middle;\n",
       "    }\n",
       "\n",
       "    .dataframe tbody tr th {\n",
       "        vertical-align: top;\n",
       "    }\n",
       "\n",
       "    .dataframe thead th {\n",
       "        text-align: right;\n",
       "    }\n",
       "</style>\n",
       "<table border=\"1\" class=\"dataframe\">\n",
       "  <thead>\n",
       "    <tr style=\"text-align: right;\">\n",
       "      <th></th>\n",
       "      <th>mean</th>\n",
       "      <th>std</th>\n",
       "    </tr>\n",
       "    <tr>\n",
       "      <th>Gender</th>\n",
       "      <th></th>\n",
       "      <th></th>\n",
       "    </tr>\n",
       "  </thead>\n",
       "  <tbody>\n",
       "    <tr>\n",
       "      <th>Female</th>\n",
       "      <td>47.405405</td>\n",
       "      <td>8.093407</td>\n",
       "    </tr>\n",
       "    <tr>\n",
       "      <th>Male</th>\n",
       "      <td>37.074074</td>\n",
       "      <td>5.662006</td>\n",
       "    </tr>\n",
       "  </tbody>\n",
       "</table>\n",
       "</div>"
      ],
      "text/plain": [
       "             mean       std\n",
       "Gender                     \n",
       "Female  47.405405  8.093407\n",
       "Male    37.074074  5.662006"
      ]
     },
     "execution_count": 12,
     "metadata": {},
     "output_type": "execute_result"
    }
   ],
   "source": [
    "data.groupby(\"Gender\")[\"Age\"].agg([\"mean\", \"std\"])"
   ]
  },
  {
   "cell_type": "markdown",
   "id": "0e8f2d2c",
   "metadata": {
    "papermill": {
     "duration": 0.013374,
     "end_time": "2024-01-27T21:21:44.750982",
     "exception": false,
     "start_time": "2024-01-27T21:21:44.737608",
     "status": "completed"
    },
    "tags": []
   },
   "source": [
    "We can see that there is a difference of 10 years in the average age of both genders, and we also note a large difference in the standard deviation, which is 3 years."
   ]
  },
  {
   "cell_type": "markdown",
   "id": "ed8f11a0",
   "metadata": {
    "papermill": {
     "duration": 0.01337,
     "end_time": "2024-01-27T21:21:44.778634",
     "exception": false,
     "start_time": "2024-01-27T21:21:44.765264",
     "status": "completed"
    },
    "tags": []
   },
   "source": [
    "## Occupations analisys"
   ]
  },
  {
   "cell_type": "code",
   "execution_count": 13,
   "id": "80064d92",
   "metadata": {
    "execution": {
     "iopub.execute_input": "2024-01-27T21:21:44.808490Z",
     "iopub.status.busy": "2024-01-27T21:21:44.808047Z",
     "iopub.status.idle": "2024-01-27T21:21:44.824400Z",
     "shell.execute_reply": "2024-01-27T21:21:44.823227Z"
    },
    "papermill": {
     "duration": 0.034684,
     "end_time": "2024-01-27T21:21:44.827004",
     "exception": false,
     "start_time": "2024-01-27T21:21:44.792320",
     "status": "completed"
    },
    "tags": []
   },
   "outputs": [
    {
     "data": {
      "text/plain": [
       "Occupation            Gender\n",
       "Accountant            Female    36\n",
       "                      Male       1\n",
       "Doctor                Male      69\n",
       "                      Female     2\n",
       "Engineer              Female    32\n",
       "                      Male      31\n",
       "Lawyer                Male      45\n",
       "                      Female     2\n",
       "Manager               Female     1\n",
       "Nurse                 Female    73\n",
       "Sales Representative  Male       2\n",
       "Salesperson           Male      32\n",
       "Scientist             Female     4\n",
       "Software Engineer     Male       4\n",
       "Teacher               Female    35\n",
       "                      Male       5\n",
       "Name: count, dtype: int64"
      ]
     },
     "execution_count": 13,
     "metadata": {},
     "output_type": "execute_result"
    }
   ],
   "source": [
    "data.groupby(\"Occupation\")[\"Gender\"].value_counts()"
   ]
  },
  {
   "cell_type": "markdown",
   "id": "3c8d27ea",
   "metadata": {
    "papermill": {
     "duration": 0.01344,
     "end_time": "2024-01-27T21:21:44.854462",
     "exception": false,
     "start_time": "2024-01-27T21:21:44.841022",
     "status": "completed"
    },
    "tags": []
   },
   "source": [
    "**We note the following:**\n",
    "\n",
    "The occupations where there is more presence of women are:\n",
    "\n",
    "- Accountant\n",
    "- Engineering\n",
    "- Manager\n",
    "- Nursing\n",
    "- Science\n",
    "- Teacher\n",
    "\n",
    "Occupations where men have more presence:\n",
    "\n",
    "- Doctor\n",
    "- Sales representative\n",
    "- Sales\n",
    "- Lawyer\n",
    "- Software Engineer\n",
    "\n",
    "It is important to mention that only in Engineering the difference is of only one person."
   ]
  },
  {
   "cell_type": "code",
   "execution_count": 14,
   "id": "af79831a",
   "metadata": {
    "execution": {
     "iopub.execute_input": "2024-01-27T21:21:44.884504Z",
     "iopub.status.busy": "2024-01-27T21:21:44.884109Z",
     "iopub.status.idle": "2024-01-27T21:21:44.890485Z",
     "shell.execute_reply": "2024-01-27T21:21:44.889254Z"
    },
    "papermill": {
     "duration": 0.024708,
     "end_time": "2024-01-27T21:21:44.893333",
     "exception": false,
     "start_time": "2024-01-27T21:21:44.868625",
     "status": "completed"
    },
    "tags": []
   },
   "outputs": [
    {
     "name": "stdout",
     "output_type": "stream",
     "text": [
      "5.8 8.5\n"
     ]
    }
   ],
   "source": [
    "print(data[\"Sleep Duration\"].min(), data[\"Sleep Duration\"].max())"
   ]
  },
  {
   "cell_type": "markdown",
   "id": "00b239bb",
   "metadata": {
    "papermill": {
     "duration": 0.013985,
     "end_time": "2024-01-27T21:21:44.921307",
     "exception": false,
     "start_time": "2024-01-27T21:21:44.907322",
     "status": "completed"
    },
    "tags": []
   },
   "source": [
    "The average sleep duration between men and women is as follows:"
   ]
  },
  {
   "cell_type": "code",
   "execution_count": 15,
   "id": "21f68cdd",
   "metadata": {
    "execution": {
     "iopub.execute_input": "2024-01-27T21:21:44.951259Z",
     "iopub.status.busy": "2024-01-27T21:21:44.950765Z",
     "iopub.status.idle": "2024-01-27T21:21:44.967325Z",
     "shell.execute_reply": "2024-01-27T21:21:44.966135Z"
    },
    "papermill": {
     "duration": 0.034443,
     "end_time": "2024-01-27T21:21:44.969725",
     "exception": false,
     "start_time": "2024-01-27T21:21:44.935282",
     "status": "completed"
    },
    "tags": []
   },
   "outputs": [
    {
     "data": {
      "text/html": [
       "<div>\n",
       "<style scoped>\n",
       "    .dataframe tbody tr th:only-of-type {\n",
       "        vertical-align: middle;\n",
       "    }\n",
       "\n",
       "    .dataframe tbody tr th {\n",
       "        vertical-align: top;\n",
       "    }\n",
       "\n",
       "    .dataframe thead th {\n",
       "        text-align: right;\n",
       "    }\n",
       "</style>\n",
       "<table border=\"1\" class=\"dataframe\">\n",
       "  <thead>\n",
       "    <tr style=\"text-align: right;\">\n",
       "      <th></th>\n",
       "      <th>Sleep Duration</th>\n",
       "      <th>Quality of Sleep</th>\n",
       "    </tr>\n",
       "    <tr>\n",
       "      <th>Gender</th>\n",
       "      <th></th>\n",
       "      <th></th>\n",
       "    </tr>\n",
       "  </thead>\n",
       "  <tbody>\n",
       "    <tr>\n",
       "      <th>Female</th>\n",
       "      <td>7.229730</td>\n",
       "      <td>7.664865</td>\n",
       "    </tr>\n",
       "    <tr>\n",
       "      <th>Male</th>\n",
       "      <td>7.036508</td>\n",
       "      <td>6.968254</td>\n",
       "    </tr>\n",
       "  </tbody>\n",
       "</table>\n",
       "</div>"
      ],
      "text/plain": [
       "        Sleep Duration  Quality of Sleep\n",
       "Gender                                  \n",
       "Female        7.229730          7.664865\n",
       "Male          7.036508          6.968254"
      ]
     },
     "execution_count": 15,
     "metadata": {},
     "output_type": "execute_result"
    }
   ],
   "source": [
    "data.groupby(\"Gender\")[[\"Sleep Duration\", \"Quality of Sleep\"]].mean()"
   ]
  },
  {
   "cell_type": "markdown",
   "id": "1f147d6b",
   "metadata": {
    "papermill": {
     "duration": 0.013885,
     "end_time": "2024-01-27T21:21:44.997771",
     "exception": false,
     "start_time": "2024-01-27T21:21:44.983886",
     "status": "completed"
    },
    "tags": []
   },
   "source": [
    "We can see that in general, women have a better sleep than men not only in quantity but also in quality, to go deeper, we will obtain the same data but now in each of the professions of the set."
   ]
  },
  {
   "cell_type": "code",
   "execution_count": 16,
   "id": "0f61d1de",
   "metadata": {
    "execution": {
     "iopub.execute_input": "2024-01-27T21:21:45.029085Z",
     "iopub.status.busy": "2024-01-27T21:21:45.028632Z",
     "iopub.status.idle": "2024-01-27T21:21:45.044920Z",
     "shell.execute_reply": "2024-01-27T21:21:45.043743Z"
    },
    "papermill": {
     "duration": 0.035352,
     "end_time": "2024-01-27T21:21:45.047713",
     "exception": false,
     "start_time": "2024-01-27T21:21:45.012361",
     "status": "completed"
    },
    "tags": []
   },
   "outputs": [
    {
     "data": {
      "text/html": [
       "<div>\n",
       "<style scoped>\n",
       "    .dataframe tbody tr th:only-of-type {\n",
       "        vertical-align: middle;\n",
       "    }\n",
       "\n",
       "    .dataframe tbody tr th {\n",
       "        vertical-align: top;\n",
       "    }\n",
       "\n",
       "    .dataframe thead th {\n",
       "        text-align: right;\n",
       "    }\n",
       "</style>\n",
       "<table border=\"1\" class=\"dataframe\">\n",
       "  <thead>\n",
       "    <tr style=\"text-align: right;\">\n",
       "      <th></th>\n",
       "      <th>Sleep Duration</th>\n",
       "      <th>Quality of Sleep</th>\n",
       "    </tr>\n",
       "    <tr>\n",
       "      <th>Occupation</th>\n",
       "      <th></th>\n",
       "      <th></th>\n",
       "    </tr>\n",
       "  </thead>\n",
       "  <tbody>\n",
       "    <tr>\n",
       "      <th>Sales Representative</th>\n",
       "      <td>5.900000</td>\n",
       "      <td>4.000000</td>\n",
       "    </tr>\n",
       "    <tr>\n",
       "      <th>Scientist</th>\n",
       "      <td>6.000000</td>\n",
       "      <td>5.000000</td>\n",
       "    </tr>\n",
       "    <tr>\n",
       "      <th>Salesperson</th>\n",
       "      <td>6.403125</td>\n",
       "      <td>6.000000</td>\n",
       "    </tr>\n",
       "    <tr>\n",
       "      <th>Software Engineer</th>\n",
       "      <td>6.750000</td>\n",
       "      <td>6.500000</td>\n",
       "    </tr>\n",
       "    <tr>\n",
       "      <th>Doctor</th>\n",
       "      <td>6.970423</td>\n",
       "      <td>6.647887</td>\n",
       "    </tr>\n",
       "    <tr>\n",
       "      <th>Teacher</th>\n",
       "      <td>6.690000</td>\n",
       "      <td>6.975000</td>\n",
       "    </tr>\n",
       "    <tr>\n",
       "      <th>Manager</th>\n",
       "      <td>6.900000</td>\n",
       "      <td>7.000000</td>\n",
       "    </tr>\n",
       "    <tr>\n",
       "      <th>Nurse</th>\n",
       "      <td>7.063014</td>\n",
       "      <td>7.369863</td>\n",
       "    </tr>\n",
       "    <tr>\n",
       "      <th>Accountant</th>\n",
       "      <td>7.113514</td>\n",
       "      <td>7.891892</td>\n",
       "    </tr>\n",
       "    <tr>\n",
       "      <th>Lawyer</th>\n",
       "      <td>7.410638</td>\n",
       "      <td>7.893617</td>\n",
       "    </tr>\n",
       "    <tr>\n",
       "      <th>Engineer</th>\n",
       "      <td>7.987302</td>\n",
       "      <td>8.412698</td>\n",
       "    </tr>\n",
       "  </tbody>\n",
       "</table>\n",
       "</div>"
      ],
      "text/plain": [
       "                      Sleep Duration  Quality of Sleep\n",
       "Occupation                                            \n",
       "Sales Representative        5.900000          4.000000\n",
       "Scientist                   6.000000          5.000000\n",
       "Salesperson                 6.403125          6.000000\n",
       "Software Engineer           6.750000          6.500000\n",
       "Doctor                      6.970423          6.647887\n",
       "Teacher                     6.690000          6.975000\n",
       "Manager                     6.900000          7.000000\n",
       "Nurse                       7.063014          7.369863\n",
       "Accountant                  7.113514          7.891892\n",
       "Lawyer                      7.410638          7.893617\n",
       "Engineer                    7.987302          8.412698"
      ]
     },
     "execution_count": 16,
     "metadata": {},
     "output_type": "execute_result"
    }
   ],
   "source": [
    "occupation_quality = data.groupby(\"Occupation\")[[\"Sleep Duration\", \"Quality of Sleep\"]].mean()\n",
    "occupation_quality.sort_values(by = \"Quality of Sleep\")"
   ]
  },
  {
   "cell_type": "markdown",
   "id": "0468ef9f",
   "metadata": {
    "papermill": {
     "duration": 0.014613,
     "end_time": "2024-01-27T21:21:45.078580",
     "exception": false,
     "start_time": "2024-01-27T21:21:45.063967",
     "status": "completed"
    },
    "tags": []
   },
   "source": [
    "In these tables we can see that the worst occupations with the worst quality and quantity of sleep are of sleep are:\n",
    "\n",
    "- Sales Representative\n",
    "- Scientist\n",
    "- Sales\n",
    "\n",
    "And those with the best quality and time of sleep are:\n",
    "\n",
    "- Engineer\n",
    "- Lawyer\n",
    "- Accountant\n",
    "\n",
    "In the professions with the worst quality and quantity of sleep there are more men than women."
   ]
  },
  {
   "cell_type": "markdown",
   "id": "3c37b313",
   "metadata": {
    "papermill": {
     "duration": 0.01433,
     "end_time": "2024-01-27T21:21:45.107815",
     "exception": false,
     "start_time": "2024-01-27T21:21:45.093485",
     "status": "completed"
    },
    "tags": []
   },
   "source": [
    "## Health\n",
    "\n",
    "Finally, we will look at how healthy each of the people in the different professions are, with this data we will be able to draw our conclusions and answer the questions we asked ourselves at the beginning of our analysis.\n",
    "\n",
    "To know the body mass index by occupations."
   ]
  },
  {
   "cell_type": "code",
   "execution_count": 17,
   "id": "ec330cd9",
   "metadata": {
    "execution": {
     "iopub.execute_input": "2024-01-27T21:21:45.139346Z",
     "iopub.status.busy": "2024-01-27T21:21:45.138934Z",
     "iopub.status.idle": "2024-01-27T21:21:45.153609Z",
     "shell.execute_reply": "2024-01-27T21:21:45.152503Z"
    },
    "papermill": {
     "duration": 0.033893,
     "end_time": "2024-01-27T21:21:45.156130",
     "exception": false,
     "start_time": "2024-01-27T21:21:45.122237",
     "status": "completed"
    },
    "tags": []
   },
   "outputs": [
    {
     "data": {
      "text/plain": [
       "Occupation            BMI Category \n",
       "Lawyer                Normal Weight     1\n",
       "Software Engineer     Overweight        1\n",
       "                      Obese             1\n",
       "Manager               Overweight        1\n",
       "Teacher               Obese             1\n",
       "Doctor                Normal Weight     2\n",
       "Lawyer                Obese             2\n",
       "                      Overweight        2\n",
       "Software Engineer     Normal Weight     2\n",
       "Sales Representative  Obese             2\n",
       "Engineer              Overweight        3\n",
       "                      Normal Weight     4\n",
       "Doctor                Obese             4\n",
       "Scientist             Overweight        4\n",
       "Accountant            Normal Weight     5\n",
       "                      Overweight        6\n",
       "Teacher               Normal            6\n",
       "Nurse                 Normal Weight     7\n",
       "Accountant            Normal           26\n",
       "Salesperson           Overweight       32\n",
       "Teacher               Overweight       33\n",
       "Lawyer                Normal           42\n",
       "Engineer              Normal           56\n",
       "Doctor                Normal           65\n",
       "Nurse                 Overweight       66\n",
       "Name: count, dtype: int64"
      ]
     },
     "execution_count": 17,
     "metadata": {},
     "output_type": "execute_result"
    }
   ],
   "source": [
    "occupation_bmi = data.groupby(\"Occupation\")[\"BMI Category\"].value_counts()\n",
    "occupation_bmi.sort_values()"
   ]
  },
  {
   "cell_type": "markdown",
   "id": "dd02c2fa",
   "metadata": {
    "papermill": {
     "duration": 0.014416,
     "end_time": "2024-01-27T21:21:45.185202",
     "exception": false,
     "start_time": "2024-01-27T21:21:45.170786",
     "status": "completed"
    },
    "tags": []
   },
   "source": [
    "Another important point to consider is to know if the number of steps per day affects health and sleep quality, to know this we will have the average daily steps, the level of physical activity, sleep duration and sleep quality in each of the professions."
   ]
  },
  {
   "cell_type": "code",
   "execution_count": 18,
   "id": "517e3d24",
   "metadata": {
    "execution": {
     "iopub.execute_input": "2024-01-27T21:21:45.216409Z",
     "iopub.status.busy": "2024-01-27T21:21:45.215976Z",
     "iopub.status.idle": "2024-01-27T21:21:45.238720Z",
     "shell.execute_reply": "2024-01-27T21:21:45.237053Z"
    },
    "papermill": {
     "duration": 0.041697,
     "end_time": "2024-01-27T21:21:45.241511",
     "exception": false,
     "start_time": "2024-01-27T21:21:45.199814",
     "status": "completed"
    },
    "tags": []
   },
   "outputs": [
    {
     "data": {
      "text/html": [
       "<div>\n",
       "<style scoped>\n",
       "    .dataframe tbody tr th:only-of-type {\n",
       "        vertical-align: middle;\n",
       "    }\n",
       "\n",
       "    .dataframe tbody tr th {\n",
       "        vertical-align: top;\n",
       "    }\n",
       "\n",
       "    .dataframe thead th {\n",
       "        text-align: right;\n",
       "    }\n",
       "</style>\n",
       "<table border=\"1\" class=\"dataframe\">\n",
       "  <thead>\n",
       "    <tr style=\"text-align: right;\">\n",
       "      <th></th>\n",
       "      <th>Daily Steps</th>\n",
       "      <th>Physical Activity Level</th>\n",
       "      <th>Sleep Duration</th>\n",
       "      <th>Quality of Sleep</th>\n",
       "    </tr>\n",
       "    <tr>\n",
       "      <th>Occupation</th>\n",
       "      <th></th>\n",
       "      <th></th>\n",
       "      <th></th>\n",
       "      <th></th>\n",
       "    </tr>\n",
       "  </thead>\n",
       "  <tbody>\n",
       "    <tr>\n",
       "      <th>Sales Representative</th>\n",
       "      <td>3000.000000</td>\n",
       "      <td>30.000000</td>\n",
       "      <td>5.900000</td>\n",
       "      <td>4.000000</td>\n",
       "    </tr>\n",
       "    <tr>\n",
       "      <th>Scientist</th>\n",
       "      <td>5350.000000</td>\n",
       "      <td>41.000000</td>\n",
       "      <td>6.000000</td>\n",
       "      <td>5.000000</td>\n",
       "    </tr>\n",
       "    <tr>\n",
       "      <th>Salesperson</th>\n",
       "      <td>6000.000000</td>\n",
       "      <td>45.000000</td>\n",
       "      <td>6.403125</td>\n",
       "      <td>6.000000</td>\n",
       "    </tr>\n",
       "    <tr>\n",
       "      <th>Software Engineer</th>\n",
       "      <td>5800.000000</td>\n",
       "      <td>48.000000</td>\n",
       "      <td>6.750000</td>\n",
       "      <td>6.500000</td>\n",
       "    </tr>\n",
       "    <tr>\n",
       "      <th>Doctor</th>\n",
       "      <td>6808.450704</td>\n",
       "      <td>55.352113</td>\n",
       "      <td>6.970423</td>\n",
       "      <td>6.647887</td>\n",
       "    </tr>\n",
       "    <tr>\n",
       "      <th>Teacher</th>\n",
       "      <td>5957.500000</td>\n",
       "      <td>45.625000</td>\n",
       "      <td>6.690000</td>\n",
       "      <td>6.975000</td>\n",
       "    </tr>\n",
       "    <tr>\n",
       "      <th>Manager</th>\n",
       "      <td>5500.000000</td>\n",
       "      <td>55.000000</td>\n",
       "      <td>6.900000</td>\n",
       "      <td>7.000000</td>\n",
       "    </tr>\n",
       "    <tr>\n",
       "      <th>Nurse</th>\n",
       "      <td>8057.534247</td>\n",
       "      <td>78.589041</td>\n",
       "      <td>7.063014</td>\n",
       "      <td>7.369863</td>\n",
       "    </tr>\n",
       "    <tr>\n",
       "      <th>Accountant</th>\n",
       "      <td>6881.081081</td>\n",
       "      <td>58.108108</td>\n",
       "      <td>7.113514</td>\n",
       "      <td>7.891892</td>\n",
       "    </tr>\n",
       "    <tr>\n",
       "      <th>Lawyer</th>\n",
       "      <td>7661.702128</td>\n",
       "      <td>70.425532</td>\n",
       "      <td>7.410638</td>\n",
       "      <td>7.893617</td>\n",
       "    </tr>\n",
       "    <tr>\n",
       "      <th>Engineer</th>\n",
       "      <td>5980.952381</td>\n",
       "      <td>51.857143</td>\n",
       "      <td>7.987302</td>\n",
       "      <td>8.412698</td>\n",
       "    </tr>\n",
       "  </tbody>\n",
       "</table>\n",
       "</div>"
      ],
      "text/plain": [
       "                      Daily Steps  Physical Activity Level  Sleep Duration  \\\n",
       "Occupation                                                                   \n",
       "Sales Representative  3000.000000                30.000000        5.900000   \n",
       "Scientist             5350.000000                41.000000        6.000000   \n",
       "Salesperson           6000.000000                45.000000        6.403125   \n",
       "Software Engineer     5800.000000                48.000000        6.750000   \n",
       "Doctor                6808.450704                55.352113        6.970423   \n",
       "Teacher               5957.500000                45.625000        6.690000   \n",
       "Manager               5500.000000                55.000000        6.900000   \n",
       "Nurse                 8057.534247                78.589041        7.063014   \n",
       "Accountant            6881.081081                58.108108        7.113514   \n",
       "Lawyer                7661.702128                70.425532        7.410638   \n",
       "Engineer              5980.952381                51.857143        7.987302   \n",
       "\n",
       "                      Quality of Sleep  \n",
       "Occupation                              \n",
       "Sales Representative          4.000000  \n",
       "Scientist                     5.000000  \n",
       "Salesperson                   6.000000  \n",
       "Software Engineer             6.500000  \n",
       "Doctor                        6.647887  \n",
       "Teacher                       6.975000  \n",
       "Manager                       7.000000  \n",
       "Nurse                         7.369863  \n",
       "Accountant                    7.891892  \n",
       "Lawyer                        7.893617  \n",
       "Engineer                      8.412698  "
      ]
     },
     "execution_count": 18,
     "metadata": {},
     "output_type": "execute_result"
    }
   ],
   "source": [
    "occupation_sorted_by_qos = data.groupby(\"Occupation\")[\n",
    "    [\"Daily Steps\", \"Physical Activity Level\", \"Sleep Duration\", \"Quality of Sleep\"]\n",
    "].mean()\n",
    "\n",
    "occupation_sorted_by_qos.sort_values(by = \"Quality of Sleep\")"
   ]
  },
  {
   "cell_type": "markdown",
   "id": "8237ad07",
   "metadata": {
    "papermill": {
     "duration": 0.01853,
     "end_time": "2024-01-27T21:21:45.276389",
     "exception": false,
     "start_time": "2024-01-27T21:21:45.257859",
     "status": "completed"
    },
    "tags": []
   },
   "source": [
    "## Conclusions\n",
    "\n",
    "This data set serves to give us a general overview of each of the professions and how they affect people's health. I say general because one problem with this dataset is the amount of data it has, since it only has 307 rows, which are too few for the entire age range taken. This can be noticed when we obtain the average of the ages and the standard deviation, so that, at the end of our analysis, we can say that we need more data or, if necessary, reduce the age range of the respondents.\n",
    "\n",
    "Moving on to each person's dream, we have the following:\n",
    "\n",
    "Women in general terms have a better quality and quantity of sleep than men, either because women may have better stress management or because the women surveyed appear to be in professions where they talk to fewer people than men's professions.\n",
    "\n",
    "We can follow this up by taking only the first five professions that have the best quality and quantity of sleep:\n",
    "\n",
    "- Engineering\n",
    "- Lawyer\n",
    "- Accountant\n",
    "- Nursing\n",
    "- Manager\n",
    "\n",
    "Of these professions, in three there are more women (Accountant, Nursing and Manager), in one there are more men (Lawyer) and in Engineering there is a difference of one person between the two.\n",
    "\n",
    "Many of these professions are also repeated when we review the number of steps per day, we can see that the five professions where the most steps per day are taken are:\n",
    "\n",
    "- Nursing\n",
    "- Lawyer\n",
    "- Accountant\n",
    "- Doctor\n",
    "- Salesperson\n",
    "\n",
    "In most of these people we can see that walking is a fundamental part of them so it is not surprising that they have a high average number of steps per day and this is also seen in the health of sleep, because if we see the table of steps per day we can see that there is a relationship that the more steps are given the better sleep will be.\n",
    "\n",
    "Although this same relationship is not noticeable when we talk about the body mass index, because from the above list we can see that in the following are many overweight people:\n",
    "\n",
    "- Nursing\n",
    "- Salesperson\n",
    "\n",
    "Finally, the questions asked about the age of the respondents were not answered, since it was found that the range of ages is very high and the amount of data very few, so that the answers that can be found in this area can not be relevant to reality."
   ]
  }
 ],
 "metadata": {
  "kaggle": {
   "accelerator": "none",
   "dataSources": [
    {
     "datasetId": 3321433,
     "sourceId": 6491929,
     "sourceType": "datasetVersion"
    }
   ],
   "dockerImageVersionId": 30635,
   "isGpuEnabled": false,
   "isInternetEnabled": true,
   "language": "python",
   "sourceType": "notebook"
  },
  "kernelspec": {
   "display_name": "Python 3",
   "language": "python",
   "name": "python3"
  },
  "language_info": {
   "codemirror_mode": {
    "name": "ipython",
    "version": 3
   },
   "file_extension": ".py",
   "mimetype": "text/x-python",
   "name": "python",
   "nbconvert_exporter": "python",
   "pygments_lexer": "ipython3",
   "version": "3.10.12"
  },
  "papermill": {
   "default_parameters": {},
   "duration": 7.553985,
   "end_time": "2024-01-27T21:21:45.919786",
   "environment_variables": {},
   "exception": null,
   "input_path": "__notebook__.ipynb",
   "output_path": "__notebook__.ipynb",
   "parameters": {},
   "start_time": "2024-01-27T21:21:38.365801",
   "version": "2.4.0"
  }
 },
 "nbformat": 4,
 "nbformat_minor": 5
}
