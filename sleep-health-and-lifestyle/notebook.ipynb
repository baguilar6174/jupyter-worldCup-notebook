{
 "cells": [
  {
   "cell_type": "markdown",
   "id": "42e236d7",
   "metadata": {
    "papermill": {
     "duration": 0.008024,
     "end_time": "2024-01-24T21:27:42.111100",
     "exception": false,
     "start_time": "2024-01-24T21:27:42.103076",
     "status": "completed"
    },
    "tags": []
   },
   "source": [
    "# Sleep health and lifestyle\n",
    "\n",
    "In this project we took the Sleep Health and Lifestyle Dataset in where you can find data on different people such as their profession, physical activity and sleep quality. We will take this dataset to know what are the things that affect sleep such as the amount of physical activity, the profession and the pressure to which each person is subjected."
   ]
  },
  {
   "cell_type": "markdown",
   "id": "2f6967e2",
   "metadata": {
    "papermill": {
     "duration": 0.007109,
     "end_time": "2024-01-24T21:27:42.125848",
     "exception": false,
     "start_time": "2024-01-24T21:27:42.118739",
     "status": "completed"
    },
    "tags": []
   },
   "source": [
    "## Import libraries"
   ]
  },
  {
   "cell_type": "code",
   "execution_count": 1,
   "id": "6be4184d",
   "metadata": {
    "_cell_guid": "b1076dfc-b9ad-4769-8c92-a6c4dae69d19",
    "_uuid": "8f2839f25d086af736a60e9eeb907d3b93b6e0e5",
    "execution": {
     "iopub.execute_input": "2024-01-24T21:27:42.142490Z",
     "iopub.status.busy": "2024-01-24T21:27:42.142031Z",
     "iopub.status.idle": "2024-01-24T21:27:42.552100Z",
     "shell.execute_reply": "2024-01-24T21:27:42.551297Z"
    },
    "papermill": {
     "duration": 0.421067,
     "end_time": "2024-01-24T21:27:42.554564",
     "exception": false,
     "start_time": "2024-01-24T21:27:42.133497",
     "status": "completed"
    },
    "tags": []
   },
   "outputs": [],
   "source": [
    "import numpy as np # linear algebra\n",
    "import pandas as pd # data processing, CSV file I/O (e.g. pd.read_csv)"
   ]
  },
  {
   "cell_type": "markdown",
   "id": "fcf7aa2f",
   "metadata": {
    "papermill": {
     "duration": 0.007235,
     "end_time": "2024-01-24T21:27:42.571237",
     "exception": false,
     "start_time": "2024-01-24T21:27:42.564002",
     "status": "completed"
    },
    "tags": []
   },
   "source": [
    "## Load data"
   ]
  },
  {
   "cell_type": "code",
   "execution_count": 2,
   "id": "be903502",
   "metadata": {
    "execution": {
     "iopub.execute_input": "2024-01-24T21:27:42.587199Z",
     "iopub.status.busy": "2024-01-24T21:27:42.586709Z",
     "iopub.status.idle": "2024-01-24T21:27:42.634879Z",
     "shell.execute_reply": "2024-01-24T21:27:42.633849Z"
    },
    "papermill": {
     "duration": 0.058775,
     "end_time": "2024-01-24T21:27:42.637119",
     "exception": false,
     "start_time": "2024-01-24T21:27:42.578344",
     "status": "completed"
    },
    "tags": []
   },
   "outputs": [
    {
     "data": {
      "text/html": [
       "<div>\n",
       "<style scoped>\n",
       "    .dataframe tbody tr th:only-of-type {\n",
       "        vertical-align: middle;\n",
       "    }\n",
       "\n",
       "    .dataframe tbody tr th {\n",
       "        vertical-align: top;\n",
       "    }\n",
       "\n",
       "    .dataframe thead th {\n",
       "        text-align: right;\n",
       "    }\n",
       "</style>\n",
       "<table border=\"1\" class=\"dataframe\">\n",
       "  <thead>\n",
       "    <tr style=\"text-align: right;\">\n",
       "      <th></th>\n",
       "      <th>Gender</th>\n",
       "      <th>Age</th>\n",
       "      <th>Occupation</th>\n",
       "      <th>Sleep Duration</th>\n",
       "      <th>Quality of Sleep</th>\n",
       "      <th>Physical Activity Level</th>\n",
       "      <th>Stress Level</th>\n",
       "      <th>BMI Category</th>\n",
       "      <th>Blood Pressure</th>\n",
       "      <th>Heart Rate</th>\n",
       "      <th>Daily Steps</th>\n",
       "      <th>Sleep Disorder</th>\n",
       "    </tr>\n",
       "    <tr>\n",
       "      <th>Person ID</th>\n",
       "      <th></th>\n",
       "      <th></th>\n",
       "      <th></th>\n",
       "      <th></th>\n",
       "      <th></th>\n",
       "      <th></th>\n",
       "      <th></th>\n",
       "      <th></th>\n",
       "      <th></th>\n",
       "      <th></th>\n",
       "      <th></th>\n",
       "      <th></th>\n",
       "    </tr>\n",
       "  </thead>\n",
       "  <tbody>\n",
       "    <tr>\n",
       "      <th>1</th>\n",
       "      <td>Male</td>\n",
       "      <td>27</td>\n",
       "      <td>Software Engineer</td>\n",
       "      <td>6.1</td>\n",
       "      <td>6</td>\n",
       "      <td>42</td>\n",
       "      <td>6</td>\n",
       "      <td>Overweight</td>\n",
       "      <td>126/83</td>\n",
       "      <td>77</td>\n",
       "      <td>4200</td>\n",
       "      <td>NaN</td>\n",
       "    </tr>\n",
       "    <tr>\n",
       "      <th>2</th>\n",
       "      <td>Male</td>\n",
       "      <td>28</td>\n",
       "      <td>Doctor</td>\n",
       "      <td>6.2</td>\n",
       "      <td>6</td>\n",
       "      <td>60</td>\n",
       "      <td>8</td>\n",
       "      <td>Normal</td>\n",
       "      <td>125/80</td>\n",
       "      <td>75</td>\n",
       "      <td>10000</td>\n",
       "      <td>NaN</td>\n",
       "    </tr>\n",
       "    <tr>\n",
       "      <th>3</th>\n",
       "      <td>Male</td>\n",
       "      <td>28</td>\n",
       "      <td>Doctor</td>\n",
       "      <td>6.2</td>\n",
       "      <td>6</td>\n",
       "      <td>60</td>\n",
       "      <td>8</td>\n",
       "      <td>Normal</td>\n",
       "      <td>125/80</td>\n",
       "      <td>75</td>\n",
       "      <td>10000</td>\n",
       "      <td>NaN</td>\n",
       "    </tr>\n",
       "    <tr>\n",
       "      <th>4</th>\n",
       "      <td>Male</td>\n",
       "      <td>28</td>\n",
       "      <td>Sales Representative</td>\n",
       "      <td>5.9</td>\n",
       "      <td>4</td>\n",
       "      <td>30</td>\n",
       "      <td>8</td>\n",
       "      <td>Obese</td>\n",
       "      <td>140/90</td>\n",
       "      <td>85</td>\n",
       "      <td>3000</td>\n",
       "      <td>Sleep Apnea</td>\n",
       "    </tr>\n",
       "    <tr>\n",
       "      <th>5</th>\n",
       "      <td>Male</td>\n",
       "      <td>28</td>\n",
       "      <td>Sales Representative</td>\n",
       "      <td>5.9</td>\n",
       "      <td>4</td>\n",
       "      <td>30</td>\n",
       "      <td>8</td>\n",
       "      <td>Obese</td>\n",
       "      <td>140/90</td>\n",
       "      <td>85</td>\n",
       "      <td>3000</td>\n",
       "      <td>Sleep Apnea</td>\n",
       "    </tr>\n",
       "  </tbody>\n",
       "</table>\n",
       "</div>"
      ],
      "text/plain": [
       "          Gender  Age            Occupation  Sleep Duration  Quality of Sleep  \\\n",
       "Person ID                                                                       \n",
       "1           Male   27     Software Engineer             6.1                 6   \n",
       "2           Male   28                Doctor             6.2                 6   \n",
       "3           Male   28                Doctor             6.2                 6   \n",
       "4           Male   28  Sales Representative             5.9                 4   \n",
       "5           Male   28  Sales Representative             5.9                 4   \n",
       "\n",
       "           Physical Activity Level  Stress Level BMI Category Blood Pressure  \\\n",
       "Person ID                                                                      \n",
       "1                               42             6   Overweight         126/83   \n",
       "2                               60             8       Normal         125/80   \n",
       "3                               60             8       Normal         125/80   \n",
       "4                               30             8        Obese         140/90   \n",
       "5                               30             8        Obese         140/90   \n",
       "\n",
       "           Heart Rate  Daily Steps Sleep Disorder  \n",
       "Person ID                                          \n",
       "1                  77         4200            NaN  \n",
       "2                  75        10000            NaN  \n",
       "3                  75        10000            NaN  \n",
       "4                  85         3000    Sleep Apnea  \n",
       "5                  85         3000    Sleep Apnea  "
      ]
     },
     "execution_count": 2,
     "metadata": {},
     "output_type": "execute_result"
    }
   ],
   "source": [
    "data = pd.read_csv(\n",
    "    \"/kaggle/input/sleep-health-and-lifestyle-dataset/Sleep_health_and_lifestyle_dataset.csv\",\n",
    "    index_col = \"Person ID\"\n",
    ")\n",
    "data.head()"
   ]
  },
  {
   "cell_type": "markdown",
   "id": "dda99391",
   "metadata": {
    "papermill": {
     "duration": 0.007776,
     "end_time": "2024-01-24T21:27:42.652759",
     "exception": false,
     "start_time": "2024-01-24T21:27:42.644983",
     "status": "completed"
    },
    "tags": []
   },
   "source": [
    "## Questions for analysis\n",
    "\n",
    "- Who has worse sleep quality, men or women?\n",
    "- Is there a relationship between people's sleep quality and their profession?\n",
    "- Does physical activity affect sleep?\n",
    "- Which profession has the worst sleep quality?\n",
    "- Which profession have people with the highest level of stress and the highest body mass index?\n",
    "- In what age range are the most sleep disorders found?\n",
    "- Does the number of steps per day affect sleep quality and body mass index?"
   ]
  },
  {
   "cell_type": "markdown",
   "id": "0590538b",
   "metadata": {
    "papermill": {
     "duration": 0.007344,
     "end_time": "2024-01-24T21:27:42.667965",
     "exception": false,
     "start_time": "2024-01-24T21:27:42.660621",
     "status": "completed"
    },
    "tags": []
   },
   "source": [
    "Summary of the data set (using `.info()` method)"
   ]
  },
  {
   "cell_type": "code",
   "execution_count": 3,
   "id": "136724a2",
   "metadata": {
    "execution": {
     "iopub.execute_input": "2024-01-24T21:27:42.684835Z",
     "iopub.status.busy": "2024-01-24T21:27:42.684447Z",
     "iopub.status.idle": "2024-01-24T21:27:42.704952Z",
     "shell.execute_reply": "2024-01-24T21:27:42.704161Z"
    },
    "papermill": {
     "duration": 0.032195,
     "end_time": "2024-01-24T21:27:42.707709",
     "exception": false,
     "start_time": "2024-01-24T21:27:42.675514",
     "status": "completed"
    },
    "tags": []
   },
   "outputs": [
    {
     "name": "stdout",
     "output_type": "stream",
     "text": [
      "<class 'pandas.core.frame.DataFrame'>\n",
      "Index: 374 entries, 1 to 374\n",
      "Data columns (total 12 columns):\n",
      " #   Column                   Non-Null Count  Dtype  \n",
      "---  ------                   --------------  -----  \n",
      " 0   Gender                   374 non-null    object \n",
      " 1   Age                      374 non-null    int64  \n",
      " 2   Occupation               374 non-null    object \n",
      " 3   Sleep Duration           374 non-null    float64\n",
      " 4   Quality of Sleep         374 non-null    int64  \n",
      " 5   Physical Activity Level  374 non-null    int64  \n",
      " 6   Stress Level             374 non-null    int64  \n",
      " 7   BMI Category             374 non-null    object \n",
      " 8   Blood Pressure           374 non-null    object \n",
      " 9   Heart Rate               374 non-null    int64  \n",
      " 10  Daily Steps              374 non-null    int64  \n",
      " 11  Sleep Disorder           155 non-null    object \n",
      "dtypes: float64(1), int64(6), object(5)\n",
      "memory usage: 38.0+ KB\n"
     ]
    }
   ],
   "source": [
    "data.info()"
   ]
  },
  {
   "cell_type": "markdown",
   "id": "980beacd",
   "metadata": {
    "papermill": {
     "duration": 0.008774,
     "end_time": "2024-01-24T21:27:42.724449",
     "exception": false,
     "start_time": "2024-01-24T21:27:42.715675",
     "status": "completed"
    },
    "tags": []
   },
   "source": [
    "Generate descriptive statistics (using `.describe()` method).\n",
    "\n",
    "Descriptive statistics include those that summarize the central tendency, dispersion and shape of a dataset's distribution, excluding NaN values."
   ]
  },
  {
   "cell_type": "code",
   "execution_count": 4,
   "id": "270e7910",
   "metadata": {
    "execution": {
     "iopub.execute_input": "2024-01-24T21:27:42.741935Z",
     "iopub.status.busy": "2024-01-24T21:27:42.741253Z",
     "iopub.status.idle": "2024-01-24T21:27:42.772577Z",
     "shell.execute_reply": "2024-01-24T21:27:42.771460Z"
    },
    "papermill": {
     "duration": 0.042848,
     "end_time": "2024-01-24T21:27:42.775011",
     "exception": false,
     "start_time": "2024-01-24T21:27:42.732163",
     "status": "completed"
    },
    "tags": []
   },
   "outputs": [
    {
     "data": {
      "text/html": [
       "<div>\n",
       "<style scoped>\n",
       "    .dataframe tbody tr th:only-of-type {\n",
       "        vertical-align: middle;\n",
       "    }\n",
       "\n",
       "    .dataframe tbody tr th {\n",
       "        vertical-align: top;\n",
       "    }\n",
       "\n",
       "    .dataframe thead th {\n",
       "        text-align: right;\n",
       "    }\n",
       "</style>\n",
       "<table border=\"1\" class=\"dataframe\">\n",
       "  <thead>\n",
       "    <tr style=\"text-align: right;\">\n",
       "      <th></th>\n",
       "      <th>Age</th>\n",
       "      <th>Sleep Duration</th>\n",
       "      <th>Quality of Sleep</th>\n",
       "      <th>Physical Activity Level</th>\n",
       "      <th>Stress Level</th>\n",
       "      <th>Heart Rate</th>\n",
       "      <th>Daily Steps</th>\n",
       "    </tr>\n",
       "  </thead>\n",
       "  <tbody>\n",
       "    <tr>\n",
       "      <th>count</th>\n",
       "      <td>374.000000</td>\n",
       "      <td>374.000000</td>\n",
       "      <td>374.000000</td>\n",
       "      <td>374.000000</td>\n",
       "      <td>374.000000</td>\n",
       "      <td>374.000000</td>\n",
       "      <td>374.000000</td>\n",
       "    </tr>\n",
       "    <tr>\n",
       "      <th>mean</th>\n",
       "      <td>42.184492</td>\n",
       "      <td>7.132086</td>\n",
       "      <td>7.312834</td>\n",
       "      <td>59.171123</td>\n",
       "      <td>5.385027</td>\n",
       "      <td>70.165775</td>\n",
       "      <td>6816.844920</td>\n",
       "    </tr>\n",
       "    <tr>\n",
       "      <th>std</th>\n",
       "      <td>8.673133</td>\n",
       "      <td>0.795657</td>\n",
       "      <td>1.196956</td>\n",
       "      <td>20.830804</td>\n",
       "      <td>1.774526</td>\n",
       "      <td>4.135676</td>\n",
       "      <td>1617.915679</td>\n",
       "    </tr>\n",
       "    <tr>\n",
       "      <th>min</th>\n",
       "      <td>27.000000</td>\n",
       "      <td>5.800000</td>\n",
       "      <td>4.000000</td>\n",
       "      <td>30.000000</td>\n",
       "      <td>3.000000</td>\n",
       "      <td>65.000000</td>\n",
       "      <td>3000.000000</td>\n",
       "    </tr>\n",
       "    <tr>\n",
       "      <th>25%</th>\n",
       "      <td>35.250000</td>\n",
       "      <td>6.400000</td>\n",
       "      <td>6.000000</td>\n",
       "      <td>45.000000</td>\n",
       "      <td>4.000000</td>\n",
       "      <td>68.000000</td>\n",
       "      <td>5600.000000</td>\n",
       "    </tr>\n",
       "    <tr>\n",
       "      <th>50%</th>\n",
       "      <td>43.000000</td>\n",
       "      <td>7.200000</td>\n",
       "      <td>7.000000</td>\n",
       "      <td>60.000000</td>\n",
       "      <td>5.000000</td>\n",
       "      <td>70.000000</td>\n",
       "      <td>7000.000000</td>\n",
       "    </tr>\n",
       "    <tr>\n",
       "      <th>75%</th>\n",
       "      <td>50.000000</td>\n",
       "      <td>7.800000</td>\n",
       "      <td>8.000000</td>\n",
       "      <td>75.000000</td>\n",
       "      <td>7.000000</td>\n",
       "      <td>72.000000</td>\n",
       "      <td>8000.000000</td>\n",
       "    </tr>\n",
       "    <tr>\n",
       "      <th>max</th>\n",
       "      <td>59.000000</td>\n",
       "      <td>8.500000</td>\n",
       "      <td>9.000000</td>\n",
       "      <td>90.000000</td>\n",
       "      <td>8.000000</td>\n",
       "      <td>86.000000</td>\n",
       "      <td>10000.000000</td>\n",
       "    </tr>\n",
       "  </tbody>\n",
       "</table>\n",
       "</div>"
      ],
      "text/plain": [
       "              Age  Sleep Duration  Quality of Sleep  Physical Activity Level  \\\n",
       "count  374.000000      374.000000        374.000000               374.000000   \n",
       "mean    42.184492        7.132086          7.312834                59.171123   \n",
       "std      8.673133        0.795657          1.196956                20.830804   \n",
       "min     27.000000        5.800000          4.000000                30.000000   \n",
       "25%     35.250000        6.400000          6.000000                45.000000   \n",
       "50%     43.000000        7.200000          7.000000                60.000000   \n",
       "75%     50.000000        7.800000          8.000000                75.000000   \n",
       "max     59.000000        8.500000          9.000000                90.000000   \n",
       "\n",
       "       Stress Level  Heart Rate   Daily Steps  \n",
       "count    374.000000  374.000000    374.000000  \n",
       "mean       5.385027   70.165775   6816.844920  \n",
       "std        1.774526    4.135676   1617.915679  \n",
       "min        3.000000   65.000000   3000.000000  \n",
       "25%        4.000000   68.000000   5600.000000  \n",
       "50%        5.000000   70.000000   7000.000000  \n",
       "75%        7.000000   72.000000   8000.000000  \n",
       "max        8.000000   86.000000  10000.000000  "
      ]
     },
     "execution_count": 4,
     "metadata": {},
     "output_type": "execute_result"
    }
   ],
   "source": [
    "data.describe()"
   ]
  },
  {
   "cell_type": "markdown",
   "id": "4f599a32",
   "metadata": {
    "papermill": {
     "duration": 0.007698,
     "end_time": "2024-01-24T21:27:42.790810",
     "exception": false,
     "start_time": "2024-01-24T21:27:42.783112",
     "status": "completed"
    },
    "tags": []
   },
   "source": [
    "## Ages analisys\n",
    "\n",
    "Count the number of men and women"
   ]
  },
  {
   "cell_type": "code",
   "execution_count": 5,
   "id": "60d5eeec",
   "metadata": {
    "execution": {
     "iopub.execute_input": "2024-01-24T21:27:42.809162Z",
     "iopub.status.busy": "2024-01-24T21:27:42.808372Z",
     "iopub.status.idle": "2024-01-24T21:27:42.816479Z",
     "shell.execute_reply": "2024-01-24T21:27:42.815612Z"
    },
    "papermill": {
     "duration": 0.019861,
     "end_time": "2024-01-24T21:27:42.818613",
     "exception": false,
     "start_time": "2024-01-24T21:27:42.798752",
     "status": "completed"
    },
    "tags": []
   },
   "outputs": [
    {
     "data": {
      "text/plain": [
       "Gender\n",
       "Male      189\n",
       "Female    185\n",
       "Name: count, dtype: int64"
      ]
     },
     "execution_count": 5,
     "metadata": {},
     "output_type": "execute_result"
    }
   ],
   "source": [
    "data[\"Gender\"].value_counts()\n",
    "\n",
    "# or\n",
    "\n",
    "# data.Gender.value_counts()"
   ]
  },
  {
   "cell_type": "markdown",
   "id": "a136e0e0",
   "metadata": {
    "papermill": {
     "duration": 0.007718,
     "end_time": "2024-01-24T21:27:42.834487",
     "exception": false,
     "start_time": "2024-01-24T21:27:42.826769",
     "status": "completed"
    },
    "tags": []
   },
   "source": [
    "> This gives us a general overview of the group, and we can say that the group is in proportion to the number of men and women. Proportion, with respect to the number of men and women."
   ]
  },
  {
   "cell_type": "markdown",
   "id": "832ef5bb",
   "metadata": {
    "papermill": {
     "duration": 0.00779,
     "end_time": "2024-01-24T21:27:42.850290",
     "exception": false,
     "start_time": "2024-01-24T21:27:42.842500",
     "status": "completed"
    },
    "tags": []
   },
   "source": [
    "## Classification by age\n",
    "\n",
    "In the set we can find the ages of the persons, with respect to the ages we can find the following:"
   ]
  },
  {
   "cell_type": "code",
   "execution_count": 6,
   "id": "e4f0ddbd",
   "metadata": {
    "execution": {
     "iopub.execute_input": "2024-01-24T21:27:42.868583Z",
     "iopub.status.busy": "2024-01-24T21:27:42.867859Z",
     "iopub.status.idle": "2024-01-24T21:27:42.874792Z",
     "shell.execute_reply": "2024-01-24T21:27:42.873899Z"
    },
    "papermill": {
     "duration": 0.018547,
     "end_time": "2024-01-24T21:27:42.876929",
     "exception": false,
     "start_time": "2024-01-24T21:27:42.858382",
     "status": "completed"
    },
    "tags": []
   },
   "outputs": [
    {
     "data": {
      "text/plain": [
       "27"
      ]
     },
     "execution_count": 6,
     "metadata": {},
     "output_type": "execute_result"
    }
   ],
   "source": [
    "data[\"Age\"].min()"
   ]
  },
  {
   "cell_type": "code",
   "execution_count": 7,
   "id": "473ce356",
   "metadata": {
    "execution": {
     "iopub.execute_input": "2024-01-24T21:27:42.895380Z",
     "iopub.status.busy": "2024-01-24T21:27:42.894763Z",
     "iopub.status.idle": "2024-01-24T21:27:42.901284Z",
     "shell.execute_reply": "2024-01-24T21:27:42.900394Z"
    },
    "papermill": {
     "duration": 0.018303,
     "end_time": "2024-01-24T21:27:42.903427",
     "exception": false,
     "start_time": "2024-01-24T21:27:42.885124",
     "status": "completed"
    },
    "tags": []
   },
   "outputs": [
    {
     "data": {
      "text/plain": [
       "59"
      ]
     },
     "execution_count": 7,
     "metadata": {},
     "output_type": "execute_result"
    }
   ],
   "source": [
    "data[\"Age\"].max()"
   ]
  },
  {
   "cell_type": "markdown",
   "id": "78f4a340",
   "metadata": {
    "papermill": {
     "duration": 0.007779,
     "end_time": "2024-01-24T21:27:42.919465",
     "exception": false,
     "start_time": "2024-01-24T21:27:42.911686",
     "status": "completed"
    },
    "tags": []
   },
   "source": [
    "The lowest age is 27 years old\n",
    "The highest age is 59 years old\n",
    "\n",
    "What we can say is that the data set takes into account people who are already of working age, starting work or with only a few years in it, or people close to retiring. Let's find the average age in the data set."
   ]
  },
  {
   "cell_type": "code",
   "execution_count": 8,
   "id": "9cdfc8d7",
   "metadata": {
    "execution": {
     "iopub.execute_input": "2024-01-24T21:27:42.938190Z",
     "iopub.status.busy": "2024-01-24T21:27:42.937468Z",
     "iopub.status.idle": "2024-01-24T21:27:42.944321Z",
     "shell.execute_reply": "2024-01-24T21:27:42.943563Z"
    },
    "papermill": {
     "duration": 0.018456,
     "end_time": "2024-01-24T21:27:42.946248",
     "exception": false,
     "start_time": "2024-01-24T21:27:42.927792",
     "status": "completed"
    },
    "tags": []
   },
   "outputs": [
    {
     "data": {
      "text/plain": [
       "42.18449197860963"
      ]
     },
     "execution_count": 8,
     "metadata": {},
     "output_type": "execute_result"
    }
   ],
   "source": [
    "data[\"Age\"].mean()"
   ]
  },
  {
   "cell_type": "markdown",
   "id": "2cce3683",
   "metadata": {
    "papermill": {
     "duration": 0.007945,
     "end_time": "2024-01-24T21:27:42.962324",
     "exception": false,
     "start_time": "2024-01-24T21:27:42.954379",
     "status": "completed"
    },
    "tags": []
   },
   "source": [
    "The average age of the data set is 42 years and the standard deviation is 8.67, which means that in this set we can find very dispersed data, which may be due to the few data collected.\n",
    "\n",
    "To support us in this analysis, a new column was added to the data set called Age_group in which the age of the people was classified as follows:\n",
    "\n",
    "- **Age less than or equal to 40 years**: *Adult*.\n",
    "- **Age over 40 years**: *OlderAdult*"
   ]
  },
  {
   "cell_type": "code",
   "execution_count": 9,
   "id": "5772a023",
   "metadata": {
    "execution": {
     "iopub.execute_input": "2024-01-24T21:27:42.980353Z",
     "iopub.status.busy": "2024-01-24T21:27:42.979680Z",
     "iopub.status.idle": "2024-01-24T21:27:42.997970Z",
     "shell.execute_reply": "2024-01-24T21:27:42.997005Z"
    },
    "papermill": {
     "duration": 0.029657,
     "end_time": "2024-01-24T21:27:42.999942",
     "exception": false,
     "start_time": "2024-01-24T21:27:42.970285",
     "status": "completed"
    },
    "tags": []
   },
   "outputs": [
    {
     "data": {
      "text/html": [
       "<div>\n",
       "<style scoped>\n",
       "    .dataframe tbody tr th:only-of-type {\n",
       "        vertical-align: middle;\n",
       "    }\n",
       "\n",
       "    .dataframe tbody tr th {\n",
       "        vertical-align: top;\n",
       "    }\n",
       "\n",
       "    .dataframe thead th {\n",
       "        text-align: right;\n",
       "    }\n",
       "</style>\n",
       "<table border=\"1\" class=\"dataframe\">\n",
       "  <thead>\n",
       "    <tr style=\"text-align: right;\">\n",
       "      <th></th>\n",
       "      <th>Gender</th>\n",
       "      <th>Age</th>\n",
       "      <th>Occupation</th>\n",
       "      <th>Sleep Duration</th>\n",
       "      <th>Quality of Sleep</th>\n",
       "      <th>Physical Activity Level</th>\n",
       "      <th>Stress Level</th>\n",
       "      <th>BMI Category</th>\n",
       "      <th>Blood Pressure</th>\n",
       "      <th>Heart Rate</th>\n",
       "      <th>Daily Steps</th>\n",
       "      <th>Sleep Disorder</th>\n",
       "      <th>AgeGroup</th>\n",
       "    </tr>\n",
       "    <tr>\n",
       "      <th>Person ID</th>\n",
       "      <th></th>\n",
       "      <th></th>\n",
       "      <th></th>\n",
       "      <th></th>\n",
       "      <th></th>\n",
       "      <th></th>\n",
       "      <th></th>\n",
       "      <th></th>\n",
       "      <th></th>\n",
       "      <th></th>\n",
       "      <th></th>\n",
       "      <th></th>\n",
       "      <th></th>\n",
       "    </tr>\n",
       "  </thead>\n",
       "  <tbody>\n",
       "    <tr>\n",
       "      <th>1</th>\n",
       "      <td>Male</td>\n",
       "      <td>27</td>\n",
       "      <td>Software Engineer</td>\n",
       "      <td>6.1</td>\n",
       "      <td>6</td>\n",
       "      <td>42</td>\n",
       "      <td>6</td>\n",
       "      <td>Overweight</td>\n",
       "      <td>126/83</td>\n",
       "      <td>77</td>\n",
       "      <td>4200</td>\n",
       "      <td>NaN</td>\n",
       "      <td>Adult</td>\n",
       "    </tr>\n",
       "    <tr>\n",
       "      <th>2</th>\n",
       "      <td>Male</td>\n",
       "      <td>28</td>\n",
       "      <td>Doctor</td>\n",
       "      <td>6.2</td>\n",
       "      <td>6</td>\n",
       "      <td>60</td>\n",
       "      <td>8</td>\n",
       "      <td>Normal</td>\n",
       "      <td>125/80</td>\n",
       "      <td>75</td>\n",
       "      <td>10000</td>\n",
       "      <td>NaN</td>\n",
       "      <td>Adult</td>\n",
       "    </tr>\n",
       "    <tr>\n",
       "      <th>3</th>\n",
       "      <td>Male</td>\n",
       "      <td>28</td>\n",
       "      <td>Doctor</td>\n",
       "      <td>6.2</td>\n",
       "      <td>6</td>\n",
       "      <td>60</td>\n",
       "      <td>8</td>\n",
       "      <td>Normal</td>\n",
       "      <td>125/80</td>\n",
       "      <td>75</td>\n",
       "      <td>10000</td>\n",
       "      <td>NaN</td>\n",
       "      <td>Adult</td>\n",
       "    </tr>\n",
       "    <tr>\n",
       "      <th>4</th>\n",
       "      <td>Male</td>\n",
       "      <td>28</td>\n",
       "      <td>Sales Representative</td>\n",
       "      <td>5.9</td>\n",
       "      <td>4</td>\n",
       "      <td>30</td>\n",
       "      <td>8</td>\n",
       "      <td>Obese</td>\n",
       "      <td>140/90</td>\n",
       "      <td>85</td>\n",
       "      <td>3000</td>\n",
       "      <td>Sleep Apnea</td>\n",
       "      <td>Adult</td>\n",
       "    </tr>\n",
       "    <tr>\n",
       "      <th>5</th>\n",
       "      <td>Male</td>\n",
       "      <td>28</td>\n",
       "      <td>Sales Representative</td>\n",
       "      <td>5.9</td>\n",
       "      <td>4</td>\n",
       "      <td>30</td>\n",
       "      <td>8</td>\n",
       "      <td>Obese</td>\n",
       "      <td>140/90</td>\n",
       "      <td>85</td>\n",
       "      <td>3000</td>\n",
       "      <td>Sleep Apnea</td>\n",
       "      <td>Adult</td>\n",
       "    </tr>\n",
       "  </tbody>\n",
       "</table>\n",
       "</div>"
      ],
      "text/plain": [
       "          Gender  Age            Occupation  Sleep Duration  Quality of Sleep  \\\n",
       "Person ID                                                                       \n",
       "1           Male   27     Software Engineer             6.1                 6   \n",
       "2           Male   28                Doctor             6.2                 6   \n",
       "3           Male   28                Doctor             6.2                 6   \n",
       "4           Male   28  Sales Representative             5.9                 4   \n",
       "5           Male   28  Sales Representative             5.9                 4   \n",
       "\n",
       "           Physical Activity Level  Stress Level BMI Category Blood Pressure  \\\n",
       "Person ID                                                                      \n",
       "1                               42             6   Overweight         126/83   \n",
       "2                               60             8       Normal         125/80   \n",
       "3                               60             8       Normal         125/80   \n",
       "4                               30             8        Obese         140/90   \n",
       "5                               30             8        Obese         140/90   \n",
       "\n",
       "           Heart Rate  Daily Steps Sleep Disorder AgeGroup  \n",
       "Person ID                                                   \n",
       "1                  77         4200            NaN    Adult  \n",
       "2                  75        10000            NaN    Adult  \n",
       "3                  75        10000            NaN    Adult  \n",
       "4                  85         3000    Sleep Apnea    Adult  \n",
       "5                  85         3000    Sleep Apnea    Adult  "
      ]
     },
     "execution_count": 9,
     "metadata": {},
     "output_type": "execute_result"
    }
   ],
   "source": [
    "data.loc[data[\"Age\"] <= 40, 'AgeGroup'] = \"Adult\"\n",
    "data.loc[data[\"Age\"] >= 41, 'AgeGroup'] = \"OlderAdult\"\n",
    "\n",
    "# View the first rows of the data set\n",
    "data.head()"
   ]
  },
  {
   "cell_type": "code",
   "execution_count": 10,
   "id": "848a4364",
   "metadata": {
    "execution": {
     "iopub.execute_input": "2024-01-24T21:27:43.018514Z",
     "iopub.status.busy": "2024-01-24T21:27:43.017988Z",
     "iopub.status.idle": "2024-01-24T21:27:43.033167Z",
     "shell.execute_reply": "2024-01-24T21:27:43.032187Z"
    },
    "papermill": {
     "duration": 0.026772,
     "end_time": "2024-01-24T21:27:43.035187",
     "exception": false,
     "start_time": "2024-01-24T21:27:43.008415",
     "status": "completed"
    },
    "tags": []
   },
   "outputs": [
    {
     "data": {
      "text/html": [
       "<div>\n",
       "<style scoped>\n",
       "    .dataframe tbody tr th:only-of-type {\n",
       "        vertical-align: middle;\n",
       "    }\n",
       "\n",
       "    .dataframe tbody tr th {\n",
       "        vertical-align: top;\n",
       "    }\n",
       "\n",
       "    .dataframe thead th {\n",
       "        text-align: right;\n",
       "    }\n",
       "</style>\n",
       "<table border=\"1\" class=\"dataframe\">\n",
       "  <thead>\n",
       "    <tr style=\"text-align: right;\">\n",
       "      <th></th>\n",
       "      <th>Gender</th>\n",
       "      <th>Age</th>\n",
       "      <th>Occupation</th>\n",
       "      <th>Sleep Duration</th>\n",
       "      <th>Quality of Sleep</th>\n",
       "      <th>Physical Activity Level</th>\n",
       "      <th>Stress Level</th>\n",
       "      <th>BMI Category</th>\n",
       "      <th>Blood Pressure</th>\n",
       "      <th>Heart Rate</th>\n",
       "      <th>Daily Steps</th>\n",
       "      <th>Sleep Disorder</th>\n",
       "      <th>AgeGroup</th>\n",
       "    </tr>\n",
       "    <tr>\n",
       "      <th>Person ID</th>\n",
       "      <th></th>\n",
       "      <th></th>\n",
       "      <th></th>\n",
       "      <th></th>\n",
       "      <th></th>\n",
       "      <th></th>\n",
       "      <th></th>\n",
       "      <th></th>\n",
       "      <th></th>\n",
       "      <th></th>\n",
       "      <th></th>\n",
       "      <th></th>\n",
       "      <th></th>\n",
       "    </tr>\n",
       "  </thead>\n",
       "  <tbody>\n",
       "    <tr>\n",
       "      <th>370</th>\n",
       "      <td>Female</td>\n",
       "      <td>59</td>\n",
       "      <td>Nurse</td>\n",
       "      <td>8.1</td>\n",
       "      <td>9</td>\n",
       "      <td>75</td>\n",
       "      <td>3</td>\n",
       "      <td>Overweight</td>\n",
       "      <td>140/95</td>\n",
       "      <td>68</td>\n",
       "      <td>7000</td>\n",
       "      <td>Sleep Apnea</td>\n",
       "      <td>OlderAdult</td>\n",
       "    </tr>\n",
       "    <tr>\n",
       "      <th>371</th>\n",
       "      <td>Female</td>\n",
       "      <td>59</td>\n",
       "      <td>Nurse</td>\n",
       "      <td>8.0</td>\n",
       "      <td>9</td>\n",
       "      <td>75</td>\n",
       "      <td>3</td>\n",
       "      <td>Overweight</td>\n",
       "      <td>140/95</td>\n",
       "      <td>68</td>\n",
       "      <td>7000</td>\n",
       "      <td>Sleep Apnea</td>\n",
       "      <td>OlderAdult</td>\n",
       "    </tr>\n",
       "    <tr>\n",
       "      <th>372</th>\n",
       "      <td>Female</td>\n",
       "      <td>59</td>\n",
       "      <td>Nurse</td>\n",
       "      <td>8.1</td>\n",
       "      <td>9</td>\n",
       "      <td>75</td>\n",
       "      <td>3</td>\n",
       "      <td>Overweight</td>\n",
       "      <td>140/95</td>\n",
       "      <td>68</td>\n",
       "      <td>7000</td>\n",
       "      <td>Sleep Apnea</td>\n",
       "      <td>OlderAdult</td>\n",
       "    </tr>\n",
       "    <tr>\n",
       "      <th>373</th>\n",
       "      <td>Female</td>\n",
       "      <td>59</td>\n",
       "      <td>Nurse</td>\n",
       "      <td>8.1</td>\n",
       "      <td>9</td>\n",
       "      <td>75</td>\n",
       "      <td>3</td>\n",
       "      <td>Overweight</td>\n",
       "      <td>140/95</td>\n",
       "      <td>68</td>\n",
       "      <td>7000</td>\n",
       "      <td>Sleep Apnea</td>\n",
       "      <td>OlderAdult</td>\n",
       "    </tr>\n",
       "    <tr>\n",
       "      <th>374</th>\n",
       "      <td>Female</td>\n",
       "      <td>59</td>\n",
       "      <td>Nurse</td>\n",
       "      <td>8.1</td>\n",
       "      <td>9</td>\n",
       "      <td>75</td>\n",
       "      <td>3</td>\n",
       "      <td>Overweight</td>\n",
       "      <td>140/95</td>\n",
       "      <td>68</td>\n",
       "      <td>7000</td>\n",
       "      <td>Sleep Apnea</td>\n",
       "      <td>OlderAdult</td>\n",
       "    </tr>\n",
       "  </tbody>\n",
       "</table>\n",
       "</div>"
      ],
      "text/plain": [
       "           Gender  Age Occupation  Sleep Duration  Quality of Sleep  \\\n",
       "Person ID                                                             \n",
       "370        Female   59      Nurse             8.1                 9   \n",
       "371        Female   59      Nurse             8.0                 9   \n",
       "372        Female   59      Nurse             8.1                 9   \n",
       "373        Female   59      Nurse             8.1                 9   \n",
       "374        Female   59      Nurse             8.1                 9   \n",
       "\n",
       "           Physical Activity Level  Stress Level BMI Category Blood Pressure  \\\n",
       "Person ID                                                                      \n",
       "370                             75             3   Overweight         140/95   \n",
       "371                             75             3   Overweight         140/95   \n",
       "372                             75             3   Overweight         140/95   \n",
       "373                             75             3   Overweight         140/95   \n",
       "374                             75             3   Overweight         140/95   \n",
       "\n",
       "           Heart Rate  Daily Steps Sleep Disorder    AgeGroup  \n",
       "Person ID                                                      \n",
       "370                68         7000    Sleep Apnea  OlderAdult  \n",
       "371                68         7000    Sleep Apnea  OlderAdult  \n",
       "372                68         7000    Sleep Apnea  OlderAdult  \n",
       "373                68         7000    Sleep Apnea  OlderAdult  \n",
       "374                68         7000    Sleep Apnea  OlderAdult  "
      ]
     },
     "execution_count": 10,
     "metadata": {},
     "output_type": "execute_result"
    }
   ],
   "source": [
    "# View the last rows of the data set\n",
    "data.tail()"
   ]
  },
  {
   "cell_type": "markdown",
   "id": "7cf8cb27",
   "metadata": {
    "papermill": {
     "duration": 0.008847,
     "end_time": "2024-01-24T21:27:43.052980",
     "exception": false,
     "start_time": "2024-01-24T21:27:43.044133",
     "status": "completed"
    },
    "tags": []
   },
   "source": [
    "Taking into account this ordering of the data, we have the following:"
   ]
  },
  {
   "cell_type": "code",
   "execution_count": 11,
   "id": "c75a4e30",
   "metadata": {
    "execution": {
     "iopub.execute_input": "2024-01-24T21:27:43.072966Z",
     "iopub.status.busy": "2024-01-24T21:27:43.072362Z",
     "iopub.status.idle": "2024-01-24T21:27:43.080089Z",
     "shell.execute_reply": "2024-01-24T21:27:43.079093Z"
    },
    "papermill": {
     "duration": 0.020434,
     "end_time": "2024-01-24T21:27:43.082446",
     "exception": false,
     "start_time": "2024-01-24T21:27:43.062012",
     "status": "completed"
    },
    "tags": []
   },
   "outputs": [
    {
     "data": {
      "text/plain": [
       "AgeGroup\n",
       "OlderAdult    209\n",
       "Adult         165\n",
       "Name: count, dtype: int64"
      ]
     },
     "execution_count": 11,
     "metadata": {},
     "output_type": "execute_result"
    }
   ],
   "source": [
    "data['AgeGroup'].value_counts()"
   ]
  },
  {
   "cell_type": "markdown",
   "id": "0854ce7b",
   "metadata": {
    "papermill": {
     "duration": 0.009022,
     "end_time": "2024-01-24T21:27:43.100771",
     "exception": false,
     "start_time": "2024-01-24T21:27:43.091749",
     "status": "completed"
    },
    "tags": []
   },
   "source": [
    "Finally, the average age for each gender is as follows:"
   ]
  },
  {
   "cell_type": "code",
   "execution_count": 12,
   "id": "ee193b37",
   "metadata": {
    "execution": {
     "iopub.execute_input": "2024-01-24T21:27:43.120901Z",
     "iopub.status.busy": "2024-01-24T21:27:43.120238Z",
     "iopub.status.idle": "2024-01-24T21:27:43.136144Z",
     "shell.execute_reply": "2024-01-24T21:27:43.135111Z"
    },
    "papermill": {
     "duration": 0.028618,
     "end_time": "2024-01-24T21:27:43.138268",
     "exception": false,
     "start_time": "2024-01-24T21:27:43.109650",
     "status": "completed"
    },
    "tags": []
   },
   "outputs": [
    {
     "data": {
      "text/html": [
       "<div>\n",
       "<style scoped>\n",
       "    .dataframe tbody tr th:only-of-type {\n",
       "        vertical-align: middle;\n",
       "    }\n",
       "\n",
       "    .dataframe tbody tr th {\n",
       "        vertical-align: top;\n",
       "    }\n",
       "\n",
       "    .dataframe thead th {\n",
       "        text-align: right;\n",
       "    }\n",
       "</style>\n",
       "<table border=\"1\" class=\"dataframe\">\n",
       "  <thead>\n",
       "    <tr style=\"text-align: right;\">\n",
       "      <th></th>\n",
       "      <th>mean</th>\n",
       "      <th>std</th>\n",
       "    </tr>\n",
       "    <tr>\n",
       "      <th>Gender</th>\n",
       "      <th></th>\n",
       "      <th></th>\n",
       "    </tr>\n",
       "  </thead>\n",
       "  <tbody>\n",
       "    <tr>\n",
       "      <th>Female</th>\n",
       "      <td>47.405405</td>\n",
       "      <td>8.093407</td>\n",
       "    </tr>\n",
       "    <tr>\n",
       "      <th>Male</th>\n",
       "      <td>37.074074</td>\n",
       "      <td>5.662006</td>\n",
       "    </tr>\n",
       "  </tbody>\n",
       "</table>\n",
       "</div>"
      ],
      "text/plain": [
       "             mean       std\n",
       "Gender                     \n",
       "Female  47.405405  8.093407\n",
       "Male    37.074074  5.662006"
      ]
     },
     "execution_count": 12,
     "metadata": {},
     "output_type": "execute_result"
    }
   ],
   "source": [
    "data.groupby(\"Gender\")[\"Age\"].agg([\"mean\", \"std\"])"
   ]
  },
  {
   "cell_type": "markdown",
   "id": "607e8ad2",
   "metadata": {
    "papermill": {
     "duration": 0.009023,
     "end_time": "2024-01-24T21:27:43.156792",
     "exception": false,
     "start_time": "2024-01-24T21:27:43.147769",
     "status": "completed"
    },
    "tags": []
   },
   "source": [
    "We can see that there is a difference of 10 years in the average age of both genders, and we also note a large difference in the standard deviation, which is 3 years."
   ]
  }
 ],
 "metadata": {
  "kaggle": {
   "accelerator": "none",
   "dataSources": [
    {
     "datasetId": 3321433,
     "sourceId": 6491929,
     "sourceType": "datasetVersion"
    }
   ],
   "dockerImageVersionId": 30635,
   "isGpuEnabled": false,
   "isInternetEnabled": true,
   "language": "python",
   "sourceType": "notebook"
  },
  "kernelspec": {
   "display_name": "Python 3",
   "language": "python",
   "name": "python3"
  },
  "language_info": {
   "codemirror_mode": {
    "name": "ipython",
    "version": 3
   },
   "file_extension": ".py",
   "mimetype": "text/x-python",
   "name": "python",
   "nbconvert_exporter": "python",
   "pygments_lexer": "ipython3",
   "version": "3.10.12"
  },
  "papermill": {
   "default_parameters": {},
   "duration": 4.702915,
   "end_time": "2024-01-24T21:27:43.585750",
   "environment_variables": {},
   "exception": null,
   "input_path": "__notebook__.ipynb",
   "output_path": "__notebook__.ipynb",
   "parameters": {},
   "start_time": "2024-01-24T21:27:38.882835",
   "version": "2.4.0"
  }
 },
 "nbformat": 4,
 "nbformat_minor": 5
}
