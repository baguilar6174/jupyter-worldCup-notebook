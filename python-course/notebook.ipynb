{
 "cells": [
  {
   "cell_type": "markdown",
   "id": "76e579cc",
   "metadata": {
    "papermill": {
     "duration": 0.006063,
     "end_time": "2024-08-29T19:08:16.954967",
     "exception": false,
     "start_time": "2024-08-29T19:08:16.948904",
     "status": "completed"
    },
    "tags": []
   },
   "source": [
    "# Python Course\n",
    "\n",
    "## Data Structures"
   ]
  },
  {
   "cell_type": "code",
   "execution_count": 1,
   "id": "4372e13c",
   "metadata": {
    "_cell_guid": "b1076dfc-b9ad-4769-8c92-a6c4dae69d19",
    "_uuid": "8f2839f25d086af736a60e9eeb907d3b93b6e0e5",
    "execution": {
     "iopub.execute_input": "2024-08-29T19:08:16.967870Z",
     "iopub.status.busy": "2024-08-29T19:08:16.967391Z",
     "iopub.status.idle": "2024-08-29T19:08:16.983243Z",
     "shell.execute_reply": "2024-08-29T19:08:16.981959Z"
    },
    "papermill": {
     "duration": 0.025106,
     "end_time": "2024-08-29T19:08:16.985695",
     "exception": false,
     "start_time": "2024-08-29T19:08:16.960589",
     "status": "completed"
    },
    "tags": []
   },
   "outputs": [
    {
     "name": "stdout",
     "output_type": "stream",
     "text": [
      "[1, 2, 3, 4]\n",
      "['list', 'of', 'strings']\n",
      "[1, 'string', False, [], [1, 2, 3]]\n",
      "<class 'list'>\n",
      "5\n",
      "[1, 'string', False, [], [1, 2, 3], 4]\n"
     ]
    }
   ],
   "source": [
    "# List\n",
    "\n",
    "my_list_of_numbers = [1,2,3,4]\n",
    "print(my_list_of_numbers)\n",
    "\n",
    "my_list_of_strings = ['list', 'of', 'strings']\n",
    "print(my_list_of_strings)\n",
    "\n",
    "my_list = [1, 'string', False, [], [1,2,3]]\n",
    "print(my_list)\n",
    "\n",
    "print(type(my_list))\n",
    "print(len(my_list))\n",
    "\n",
    "# The order of elements in list matter\n",
    "\n",
    "[1,2] == [1,2] # True\n",
    "[1,2] == [2,1] # False\n",
    "\n",
    "my_list.append(4) # Add new element\n",
    "print(my_list)"
   ]
  },
  {
   "cell_type": "code",
   "execution_count": 2,
   "id": "27371193",
   "metadata": {
    "execution": {
     "iopub.execute_input": "2024-08-29T19:08:16.998835Z",
     "iopub.status.busy": "2024-08-29T19:08:16.998306Z",
     "iopub.status.idle": "2024-08-29T19:08:17.011211Z",
     "shell.execute_reply": "2024-08-29T19:08:17.009943Z"
    },
    "papermill": {
     "duration": 0.022795,
     "end_time": "2024-08-29T19:08:17.014185",
     "exception": false,
     "start_time": "2024-08-29T19:08:16.991390",
     "status": "completed"
    },
    "tags": []
   },
   "outputs": [
    {
     "name": "stdout",
     "output_type": "stream",
     "text": [
      "{1, 2, 3, 4, 5}\n",
      "<class 'set'>\n",
      "5\n",
      "{1, 2, 3}\n",
      "3\n"
     ]
    },
    {
     "data": {
      "text/plain": [
       "True"
      ]
     },
     "execution_count": 2,
     "metadata": {},
     "output_type": "execute_result"
    }
   ],
   "source": [
    "# Sets\n",
    "# A set is almost identical to a list, except that all of the elements in it have to be unique\n",
    "\n",
    "my_set = {1,2,3,4,5}\n",
    "print(my_set)\n",
    "\n",
    "print(type(my_set))\n",
    "print(len(my_set))\n",
    "\n",
    "my_set = {1,1,2,2,3,3,3}\n",
    "print(my_set)\n",
    "print(len(my_set))\n",
    "\n",
    "# The order of elements in sets doesn't matter\n",
    "\n",
    "{1,2} == {2,1} # True\n",
    "{1,2} == {1,2} # True"
   ]
  },
  {
   "cell_type": "code",
   "execution_count": 3,
   "id": "1a7fc215",
   "metadata": {
    "execution": {
     "iopub.execute_input": "2024-08-29T19:08:17.030532Z",
     "iopub.status.busy": "2024-08-29T19:08:17.029431Z",
     "iopub.status.idle": "2024-08-29T19:08:17.038891Z",
     "shell.execute_reply": "2024-08-29T19:08:17.037685Z"
    },
    "papermill": {
     "duration": 0.019199,
     "end_time": "2024-08-29T19:08:17.041251",
     "exception": false,
     "start_time": "2024-08-29T19:08:17.022052",
     "status": "completed"
    },
    "tags": []
   },
   "outputs": [
    {
     "name": "stdout",
     "output_type": "stream",
     "text": [
      "3\n"
     ]
    },
    {
     "data": {
      "text/plain": [
       "True"
      ]
     },
     "execution_count": 3,
     "metadata": {},
     "output_type": "execute_result"
    }
   ],
   "source": [
    "# Tuples\n",
    "# Are very similar to list, but, the difference is that I can´t append or add elements (you cannot modify tuples)\n",
    "\n",
    "my_tuple = (1,2,3)\n",
    "print(len(my_tuple))\n",
    "\n",
    "# The order of elements in tuples matter\n",
    "\n",
    "(1,2) == (2,1) # False\n",
    "(1,2) == (1,2) # True\n",
    "\n",
    "# 'tuple' object has no attribute 'append'\n",
    "# my_tuple.append(4)"
   ]
  },
  {
   "cell_type": "markdown",
   "id": "8811829a",
   "metadata": {
    "papermill": {
     "duration": 0.005982,
     "end_time": "2024-08-29T19:08:17.053599",
     "exception": false,
     "start_time": "2024-08-29T19:08:17.047617",
     "status": "completed"
    },
    "tags": []
   },
   "source": [
    "**Considerations**\n",
    "\n",
    "- One a tuple is declared, you can`t add to it or change any of the values in it\n",
    "\n",
    "**Why use Tuples?**\n",
    "\n",
    "- They're memory efficient (python knows the exactly amount of memory to allocate it)\n",
    "- Good for storing lots of little things, like, (x, y) coordinates"
   ]
  },
  {
   "cell_type": "code",
   "execution_count": 4,
   "id": "5d527ca7",
   "metadata": {
    "execution": {
     "iopub.execute_input": "2024-08-29T19:08:17.068052Z",
     "iopub.status.busy": "2024-08-29T19:08:17.067327Z",
     "iopub.status.idle": "2024-08-29T19:08:17.074918Z",
     "shell.execute_reply": "2024-08-29T19:08:17.073875Z"
    },
    "papermill": {
     "duration": 0.017558,
     "end_time": "2024-08-29T19:08:17.077391",
     "exception": false,
     "start_time": "2024-08-29T19:08:17.059833",
     "status": "completed"
    },
    "tags": []
   },
   "outputs": [
    {
     "data": {
      "text/plain": [
       "'A red fruit'"
      ]
     },
     "execution_count": 4,
     "metadata": {},
     "output_type": "execute_result"
    }
   ],
   "source": [
    "# Dictionaries\n",
    "\n",
    "my_dictionary = {\n",
    "    'apple': 'A red fruit',\n",
    "    'bear': 'A scary animal'\n",
    "}\n",
    "\n",
    "my_dictionary['apple']\n",
    "\n",
    "# They keys in dictionaries also have to be unique"
   ]
  },
  {
   "cell_type": "markdown",
   "id": "cb593b3d",
   "metadata": {
    "papermill": {
     "duration": 0.006117,
     "end_time": "2024-08-29T19:08:17.090186",
     "exception": false,
     "start_time": "2024-08-29T19:08:17.084069",
     "status": "completed"
    },
    "tags": []
   },
   "source": [
    "**Sets and dictionaries**\n",
    "\n",
    "- Both are defined with curly brackets\n",
    "- Sets have unique values, dictionaries have unique keys\n",
    "- The order of the elements doesn't matter\n",
    "\n",
    "## Operators"
   ]
  },
  {
   "cell_type": "code",
   "execution_count": 5,
   "id": "e099fbcb",
   "metadata": {
    "execution": {
     "iopub.execute_input": "2024-08-29T19:08:17.105588Z",
     "iopub.status.busy": "2024-08-29T19:08:17.104669Z",
     "iopub.status.idle": "2024-08-29T19:08:17.116129Z",
     "shell.execute_reply": "2024-08-29T19:08:17.115103Z"
    },
    "papermill": {
     "duration": 0.021757,
     "end_time": "2024-08-29T19:08:17.118573",
     "exception": false,
     "start_time": "2024-08-29T19:08:17.096816",
     "status": "completed"
    },
    "tags": []
   },
   "outputs": [
    {
     "data": {
      "text/plain": [
       "False"
      ]
     },
     "execution_count": 5,
     "metadata": {},
     "output_type": "execute_result"
    }
   ],
   "source": [
    "# Arithmetic Operators\n",
    "\n",
    "1 + 1 \n",
    "4 * 5\n",
    "5 ** 2 # exponent\n",
    "20 / 5 # Notice that this returns a float value rather than an integer\n",
    "20 / 6\n",
    "20 % 6 # modulus operator\n",
    "\n",
    "# Arithmetic Operators with strings\n",
    "\n",
    "'string 1' + 'string 2' # concatenation\n",
    "'- string ' * 4 # repeats the string four times\n",
    "\n",
    "# Comparison\n",
    "\n",
    "True == True # True\n",
    "4 < 5 # True\n",
    "5 <= 5 # True\n",
    "\n",
    "# Logical (and, or, not)\n",
    "\n",
    "True and True # True\n",
    "True and False # False\n",
    "True or False # True\n",
    "False or False # False\n",
    "not True # False\n",
    "not False # True\n",
    "\n",
    "# Membership Operators\n",
    "\n",
    "1 in [1,2,3,4,5] # True\n",
    "10 in [1,2,3,4,5] # False\n",
    "10 not in [1,2,3,4,5] # True\n",
    "'cat' in 'my pet cat' # True\n",
    "'cat' not in 'my pet cat' # False"
   ]
  },
  {
   "cell_type": "markdown",
   "id": "216d83e1",
   "metadata": {
    "papermill": {
     "duration": 0.006355,
     "end_time": "2024-08-29T19:08:17.131604",
     "exception": false,
     "start_time": "2024-08-29T19:08:17.125249",
     "status": "completed"
    },
    "tags": []
   },
   "source": [
    "## Control Flow"
   ]
  },
  {
   "cell_type": "code",
   "execution_count": 6,
   "id": "b4b9437b",
   "metadata": {
    "execution": {
     "iopub.execute_input": "2024-08-29T19:08:17.147133Z",
     "iopub.status.busy": "2024-08-29T19:08:17.146168Z",
     "iopub.status.idle": "2024-08-29T19:08:17.153228Z",
     "shell.execute_reply": "2024-08-29T19:08:17.152052Z"
    },
    "papermill": {
     "duration": 0.017643,
     "end_time": "2024-08-29T19:08:17.155857",
     "exception": false,
     "start_time": "2024-08-29T19:08:17.138214",
     "status": "completed"
    },
    "tags": []
   },
   "outputs": [
    {
     "name": "stdout",
     "output_type": "stream",
     "text": [
      "1\n",
      "2\n",
      "3\n",
      "4\n",
      "5\n",
      "0\n",
      "1\n",
      "2\n",
      "3\n",
      "4\n"
     ]
    }
   ],
   "source": [
    "# For loops\n",
    "\n",
    "list = [1,2,3,4,5]\n",
    "\n",
    "for item in list:\n",
    "    print(item)\n",
    "\n",
    "# While loops\n",
    "\n",
    "a = 0\n",
    "while a < 5:\n",
    "    print(a)\n",
    "    a += 1"
   ]
  },
  {
   "cell_type": "markdown",
   "id": "b72fde50",
   "metadata": {
    "papermill": {
     "duration": 0.006519,
     "end_time": "2024-08-29T19:08:17.169427",
     "exception": false,
     "start_time": "2024-08-29T19:08:17.162908",
     "status": "completed"
    },
    "tags": []
   },
   "source": [
    "## Fuctions"
   ]
  },
  {
   "cell_type": "code",
   "execution_count": 7,
   "id": "ee9648a4",
   "metadata": {
    "execution": {
     "iopub.execute_input": "2024-08-29T19:08:17.185112Z",
     "iopub.status.busy": "2024-08-29T19:08:17.184704Z",
     "iopub.status.idle": "2024-08-29T19:08:17.191674Z",
     "shell.execute_reply": "2024-08-29T19:08:17.190581Z"
    },
    "papermill": {
     "duration": 0.018292,
     "end_time": "2024-08-29T19:08:17.194525",
     "exception": false,
     "start_time": "2024-08-29T19:08:17.176233",
     "status": "completed"
    },
    "tags": []
   },
   "outputs": [
    {
     "name": "stdout",
     "output_type": "stream",
     "text": [
      "[1, 2, 3, 4]\n"
     ]
    }
   ],
   "source": [
    "def multiplyBy(base, factor):\n",
    "    return base * factor\n",
    "\n",
    "multiplyBy(4, 3)\n",
    "\n",
    "\n",
    "my_list = [1,2,3]\n",
    "\n",
    "def appendFour(list):\n",
    "   list.append(4)\n",
    "\n",
    "appendFour(my_list)\n",
    "print(my_list)"
   ]
  },
  {
   "cell_type": "markdown",
   "id": "00365664",
   "metadata": {
    "papermill": {
     "duration": 0.006838,
     "end_time": "2024-08-29T19:08:17.208585",
     "exception": false,
     "start_time": "2024-08-29T19:08:17.201747",
     "status": "completed"
    },
    "tags": []
   },
   "source": [
    "## Classes and objects\n",
    "\n",
    "A Python class is a great way to keep related collections of functions and attributes labeled and organized"
   ]
  },
  {
   "cell_type": "code",
   "execution_count": 8,
   "id": "f4424acd",
   "metadata": {
    "execution": {
     "iopub.execute_input": "2024-08-29T19:08:17.224392Z",
     "iopub.status.busy": "2024-08-29T19:08:17.223991Z",
     "iopub.status.idle": "2024-08-29T19:08:17.232092Z",
     "shell.execute_reply": "2024-08-29T19:08:17.230725Z"
    },
    "papermill": {
     "duration": 0.019127,
     "end_time": "2024-08-29T19:08:17.234712",
     "exception": false,
     "start_time": "2024-08-29T19:08:17.215585",
     "status": "completed"
    },
    "tags": []
   },
   "outputs": [
    {
     "name": "stdout",
     "output_type": "stream",
     "text": [
      "Alf Bark!\n",
      "Ken Bark!\n"
     ]
    }
   ],
   "source": [
    "class Dog:\n",
    "    \n",
    "    # Initialization function\n",
    "    def __init__(self, name):\n",
    "        self.name = name\n",
    "        self.legs = 4\n",
    "    \n",
    "    # The self attribute means that I have access to any of the attributes or functions in this class\n",
    "    def speak(self):\n",
    "        print(self.name + ' Bark!')\n",
    "\n",
    "my_dog = Dog('Alf')\n",
    "another_dog = Dog('Ken')\n",
    "\n",
    "my_dog.speak()\n",
    "another_dog.speak()"
   ]
  },
  {
   "cell_type": "markdown",
   "id": "f6a4ec18",
   "metadata": {
    "papermill": {
     "duration": 0.006961,
     "end_time": "2024-08-29T19:08:17.248934",
     "exception": false,
     "start_time": "2024-08-29T19:08:17.241973",
     "status": "completed"
    },
    "tags": []
   },
   "source": [
    "## Basic Data Types"
   ]
  },
  {
   "cell_type": "code",
   "execution_count": 9,
   "id": "c9999da1",
   "metadata": {
    "execution": {
     "iopub.execute_input": "2024-08-29T19:08:17.265479Z",
     "iopub.status.busy": "2024-08-29T19:08:17.265093Z",
     "iopub.status.idle": "2024-08-29T19:08:17.289369Z",
     "shell.execute_reply": "2024-08-29T19:08:17.288063Z"
    },
    "papermill": {
     "duration": 0.035795,
     "end_time": "2024-08-29T19:08:17.291881",
     "exception": false,
     "start_time": "2024-08-29T19:08:17.256086",
     "status": "completed"
    },
    "tags": []
   },
   "outputs": [
    {
     "name": "stdout",
     "output_type": "stream",
     "text": [
      "Has values\n"
     ]
    },
    {
     "data": {
      "text/plain": [
       "'😅'"
      ]
     },
     "execution_count": 9,
     "metadata": {},
     "output_type": "execute_result"
    }
   ],
   "source": [
    "# Int and FLoats\n",
    "\n",
    "20 / 4 # 5.0 - In divisions Python always return a float as a result\n",
    "4 + 4.0 # 8.0\n",
    "4 * 4.0 # 16.0\n",
    "4 ** 4.0 # 256.0\n",
    "\n",
    "# To convert a float in int, we can use the int 'class' (casting)\n",
    "\n",
    "int(4 ** 4.0) # 256\n",
    "int('100') # 100 - Cast string to the integer\n",
    "int(8.999999) # 8 - When we cast from a float to an int Python doen't ROUND (be careful!)\n",
    "int('100', 2) # 4 - Second argument is the base that the number should be converted from (first argument will be an string)\n",
    "\n",
    "int(14 / 3) # 4\n",
    "round(14 / 3) # 5 - If we want to round to the nearest integer, use round function\n",
    "round(14 / 3, 2) # 4.67\n",
    "\n",
    "# Consider that Floats are approximations and are stored as binary ones and zeros in memory and Python\n",
    "# uses some tricks and approximations and this can occasionally result in weird rounding errors.\n",
    "\n",
    "# To solve some problems with float for example with money we can use decimal package\n",
    "\n",
    "\"\"\"----------------------------------------------------------------------------------------------------------\"\"\"\n",
    "\n",
    "# Decimals\n",
    "\n",
    "from decimal import Decimal, getcontext\n",
    "\n",
    "getcontext() # Context(prec=28, rounding=ROUND_HALF_EVEN, Emin=-999999, Emax=999999, capitals=1, clamp=0, flags=[], traps=[InvalidOperation, DivisionByZero, Overflow])\n",
    "getcontext().prec = 4\n",
    "getcontext() # Context(prec=4, rounding=ROUND_HALF_EVEN, Emin=-999999, Emax=999999, capitals=1, clamp=0, flags=[], traps=[InvalidOperation, DivisionByZero, Overflow])\n",
    "\n",
    "Decimal(1) / Decimal(3) # Decimal('0.3333')\n",
    "\n",
    "Decimal(3.14) # Decimal('3.140000000000000124344978758017532527446746826171875')\n",
    "# Trying to exactly replicate the float that was passed in, capturing all digits of information (floating point errors rise)\n",
    "\n",
    "Decimal('3.14') # Decimal('3.14')\n",
    "\n",
    "\"\"\"----------------------------------------------------------------------------------------------------------\"\"\"\n",
    "\n",
    "# Booleans\n",
    "\n",
    "bool(1)       # True\n",
    "bool(0)       # False\n",
    "bool(-1)      # True\n",
    "bool(1j)      # True\n",
    "bool(0.0)     # False\n",
    "bool(0j)      # False\n",
    "bool('True')  # True\n",
    "bool('False') # True - That's beacuse anything other than an empty string is going to be true\n",
    "bool('')      # False\n",
    "bool([])      # False\n",
    "bool([1,2,3]) # True\n",
    "bool({})      # False\n",
    "bool(None)    # False\n",
    "\n",
    "my_list = [1,2]\n",
    "if bool(my_list):\n",
    "    print('Has values')\n",
    "else:\n",
    "    print('Empty')\n",
    "\n",
    "\"\"\"----------------------------------------------------------------------------------------------------------\"\"\"\n",
    "\n",
    "# Strings\n",
    "\n",
    "name = 'My name is Bryan'\n",
    "lastname = '''\n",
    "Here is a long block of text\n",
    "I can add newlines!\n",
    "'''\n",
    "name[0] # 'M'\n",
    "name[0 : 7] # 'My name' - give the caracters between 0 and 7 (don't get the caracter at index seven)\n",
    "name[:7] # The same result but with other sintax\n",
    "name[11:] # 'Bryan' - Get character from index 11 to the end\n",
    "\n",
    "# The operator ':' can be use with list (not just strings)\n",
    "my_list = [1,2,3,4,5]\n",
    "my_list[2:4] # [3, 4]\n",
    "\n",
    "# Formating\n",
    "\n",
    "'My number is: ' + str(5) # 'My number is: 5'\n",
    "f'My number is {5}' # 'My number is: 5'\n",
    "\n",
    "import math\n",
    "\n",
    "f'Pi is: {math.pi}' # 'Pi is: 3.141592653589793'\n",
    "f'Pi is: {math.pi:.2f}' # 'Pi is: 3.14' - Round it to two decimal places\n",
    "'Pi is {}'.format(math.pi) # 'Pi is 3.141592653589793'\n",
    "\n",
    "\"\"\"----------------------------------------------------------------------------------------------------------\"\"\"\n",
    "\n",
    "# Byte Object\n",
    "\n",
    "\"\"\"\n",
    "- Common behinf the scenes\n",
    "- Used as data that gets passed in a program\n",
    "- Rarely manipulate or modified directly\n",
    "- Is used in streaming files\n",
    "- Is ised to transmitting text without knowing the encoding\n",
    "- Often used \"under the hood\" in Python libraries\n",
    "- Are immutable like tuples (if we want to manipulate we need to use bytearray)\n",
    "\"\"\"\n",
    "\n",
    "bytes(4) # '\\x00\\x00\\x00\\x00' - Creates an empty bytes object that's four bytes long\n",
    "smileyBytes = bytes('😀', 'utf-8') # b'\\xf0\\x9f\\x98\\x80' - We need to tell Python what the type is, in this case 'utf-8'\n",
    "smileyBytes.decode('utf-8') # '😀'\n",
    "smileyBytes = bytearray('😀', 'utf-8') # bytearray(b'\\xf0\\x9f\\x98\\x80')\n",
    "smileyBytes[3] = int('85', 16)\n",
    "smileyBytes.decode('utf-8') # '😅'"
   ]
  },
  {
   "cell_type": "code",
   "execution_count": 10,
   "id": "2f11fe81",
   "metadata": {
    "execution": {
     "iopub.execute_input": "2024-08-29T19:08:17.309054Z",
     "iopub.status.busy": "2024-08-29T19:08:17.308193Z",
     "iopub.status.idle": "2024-08-29T19:08:17.317662Z",
     "shell.execute_reply": "2024-08-29T19:08:17.316565Z"
    },
    "papermill": {
     "duration": 0.020608,
     "end_time": "2024-08-29T19:08:17.320031",
     "exception": false,
     "start_time": "2024-08-29T19:08:17.299423",
     "status": "completed"
    },
    "tags": []
   },
   "outputs": [
    {
     "name": "stdout",
     "output_type": "stream",
     "text": [
      "162\n",
      "162\n"
     ]
    }
   ],
   "source": [
    "# Exercise: Converting hex to decimal\n",
    "\n",
    "hexNumbers = {\n",
    "    '0': 0, '1': 1, '2': 2, '3': 3, '4': 4, '5': 5, '6': 6, '7': 7, '8': 8, '9': 9,\n",
    "    'A': 10, 'B': 11, 'C': 12, 'D': 13, 'E': 14, 'F': 15\n",
    "}\n",
    "\n",
    "def hexToDec(hexNum):\n",
    "    for char in hexNum:\n",
    "        if char not in hexNumbers:\n",
    "            return None\n",
    "    \n",
    "    converted = 0\n",
    "    exponent = len(hexNum) - 1\n",
    "    for char in hexNum:\n",
    "        converted += (hexNumbers[char] * (16 ** exponent))\n",
    "        exponent -= 1\n",
    "    return converted\n",
    "\n",
    "print(hexToDec('A2'))\n",
    "print(int('A2', 16))"
   ]
  }
 ],
 "metadata": {
  "kaggle": {
   "accelerator": "none",
   "dataSources": [],
   "dockerImageVersionId": 30761,
   "isGpuEnabled": false,
   "isInternetEnabled": true,
   "language": "python",
   "sourceType": "notebook"
  },
  "kernelspec": {
   "display_name": "Python 3",
   "language": "python",
   "name": "python3"
  },
  "language_info": {
   "codemirror_mode": {
    "name": "ipython",
    "version": 3
   },
   "file_extension": ".py",
   "mimetype": "text/x-python",
   "name": "python",
   "nbconvert_exporter": "python",
   "pygments_lexer": "ipython3",
   "version": "3.10.14"
  },
  "papermill": {
   "default_parameters": {},
   "duration": 3.764688,
   "end_time": "2024-08-29T19:08:17.748027",
   "environment_variables": {},
   "exception": null,
   "input_path": "__notebook__.ipynb",
   "output_path": "__notebook__.ipynb",
   "parameters": {},
   "start_time": "2024-08-29T19:08:13.983339",
   "version": "2.6.0"
  }
 },
 "nbformat": 4,
 "nbformat_minor": 5
}
