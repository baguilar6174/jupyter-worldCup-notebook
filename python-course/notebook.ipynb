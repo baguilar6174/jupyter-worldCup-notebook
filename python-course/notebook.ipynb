{
 "cells": [
  {
   "cell_type": "markdown",
   "id": "4c9d213c",
   "metadata": {
    "papermill": {
     "duration": 0.003995,
     "end_time": "2024-08-28T20:14:01.275500",
     "exception": false,
     "start_time": "2024-08-28T20:14:01.271505",
     "status": "completed"
    },
    "tags": []
   },
   "source": [
    "# Python Course\n",
    "\n",
    "## Data Structures"
   ]
  },
  {
   "cell_type": "code",
   "execution_count": 1,
   "id": "6056409e",
   "metadata": {
    "_cell_guid": "b1076dfc-b9ad-4769-8c92-a6c4dae69d19",
    "_uuid": "8f2839f25d086af736a60e9eeb907d3b93b6e0e5",
    "execution": {
     "iopub.execute_input": "2024-08-28T20:14:01.284689Z",
     "iopub.status.busy": "2024-08-28T20:14:01.284164Z",
     "iopub.status.idle": "2024-08-28T20:14:01.298934Z",
     "shell.execute_reply": "2024-08-28T20:14:01.297678Z"
    },
    "papermill": {
     "duration": 0.022224,
     "end_time": "2024-08-28T20:14:01.301381",
     "exception": false,
     "start_time": "2024-08-28T20:14:01.279157",
     "status": "completed"
    },
    "tags": []
   },
   "outputs": [
    {
     "name": "stdout",
     "output_type": "stream",
     "text": [
      "[1, 2, 3, 4]\n",
      "['list', 'of', 'strings']\n",
      "[1, 'string', False, [], [1, 2, 3]]\n",
      "<class 'list'>\n",
      "5\n",
      "[1, 'string', False, [], [1, 2, 3], 4]\n"
     ]
    }
   ],
   "source": [
    "# List\n",
    "\n",
    "my_list_of_numbers = [1,2,3,4]\n",
    "print(my_list_of_numbers)\n",
    "\n",
    "my_list_of_strings = ['list', 'of', 'strings']\n",
    "print(my_list_of_strings)\n",
    "\n",
    "my_list = [1, 'string', False, [], [1,2,3]]\n",
    "print(my_list)\n",
    "\n",
    "print(type(my_list))\n",
    "print(len(my_list))\n",
    "\n",
    "# The order of elements in list matter\n",
    "\n",
    "[1,2] == [1,2] # True\n",
    "[1,2] == [2,1] # False\n",
    "\n",
    "my_list.append(4) # Add new element\n",
    "print(my_list)"
   ]
  },
  {
   "cell_type": "code",
   "execution_count": 2,
   "id": "0e868a84",
   "metadata": {
    "execution": {
     "iopub.execute_input": "2024-08-28T20:14:01.310285Z",
     "iopub.status.busy": "2024-08-28T20:14:01.309881Z",
     "iopub.status.idle": "2024-08-28T20:14:01.321299Z",
     "shell.execute_reply": "2024-08-28T20:14:01.319910Z"
    },
    "papermill": {
     "duration": 0.018239,
     "end_time": "2024-08-28T20:14:01.323381",
     "exception": false,
     "start_time": "2024-08-28T20:14:01.305142",
     "status": "completed"
    },
    "tags": []
   },
   "outputs": [
    {
     "name": "stdout",
     "output_type": "stream",
     "text": [
      "{1, 2, 3, 4, 5}\n",
      "<class 'set'>\n",
      "5\n",
      "{1, 2, 3}\n",
      "3\n"
     ]
    },
    {
     "data": {
      "text/plain": [
       "True"
      ]
     },
     "execution_count": 2,
     "metadata": {},
     "output_type": "execute_result"
    }
   ],
   "source": [
    "# Sets\n",
    "# A set is almost identical to a list, except that all of the elements in it have to be unique\n",
    "\n",
    "my_set = {1,2,3,4,5}\n",
    "print(my_set)\n",
    "\n",
    "print(type(my_set))\n",
    "print(len(my_set))\n",
    "\n",
    "my_set = {1,1,2,2,3,3,3}\n",
    "print(my_set)\n",
    "print(len(my_set))\n",
    "\n",
    "# The order of elements in sets doesn't matter\n",
    "\n",
    "{1,2} == {2,1} # True\n",
    "{1,2} == {1,2} # True"
   ]
  },
  {
   "cell_type": "code",
   "execution_count": 3,
   "id": "e60e4b92",
   "metadata": {
    "execution": {
     "iopub.execute_input": "2024-08-28T20:14:01.333034Z",
     "iopub.status.busy": "2024-08-28T20:14:01.332609Z",
     "iopub.status.idle": "2024-08-28T20:14:01.341566Z",
     "shell.execute_reply": "2024-08-28T20:14:01.340279Z"
    },
    "papermill": {
     "duration": 0.016931,
     "end_time": "2024-08-28T20:14:01.344173",
     "exception": false,
     "start_time": "2024-08-28T20:14:01.327242",
     "status": "completed"
    },
    "tags": []
   },
   "outputs": [
    {
     "name": "stdout",
     "output_type": "stream",
     "text": [
      "3\n"
     ]
    },
    {
     "data": {
      "text/plain": [
       "True"
      ]
     },
     "execution_count": 3,
     "metadata": {},
     "output_type": "execute_result"
    }
   ],
   "source": [
    "# Tuples\n",
    "# Are very similar to list, but, the difference is that I can´t append or add elements (you cannot modify tuples)\n",
    "\n",
    "my_tuple = (1,2,3)\n",
    "print(len(my_tuple))\n",
    "\n",
    "# The order of elements in tuples matter\n",
    "\n",
    "(1,2) == (2,1) # False\n",
    "(1,2) == (1,2) # True\n",
    "\n",
    "# 'tuple' object has no attribute 'append'\n",
    "# my_tuple.append(4)"
   ]
  },
  {
   "cell_type": "markdown",
   "id": "45036b38",
   "metadata": {
    "papermill": {
     "duration": 0.003804,
     "end_time": "2024-08-28T20:14:01.352075",
     "exception": false,
     "start_time": "2024-08-28T20:14:01.348271",
     "status": "completed"
    },
    "tags": []
   },
   "source": [
    "**Considerations**\n",
    "\n",
    "- One a tuple is declared, you can`t add to it or change any of the values in it\n",
    "\n",
    "**Why use Tuples?**\n",
    "\n",
    "- They're memory efficient (python knows the exactly amount of memory to allocate it)\n",
    "- Good for storing lots of little things, like, (x, y) coordinates"
   ]
  },
  {
   "cell_type": "code",
   "execution_count": 4,
   "id": "0189e6a6",
   "metadata": {
    "execution": {
     "iopub.execute_input": "2024-08-28T20:14:01.361971Z",
     "iopub.status.busy": "2024-08-28T20:14:01.361517Z",
     "iopub.status.idle": "2024-08-28T20:14:01.368750Z",
     "shell.execute_reply": "2024-08-28T20:14:01.367667Z"
    },
    "papermill": {
     "duration": 0.015393,
     "end_time": "2024-08-28T20:14:01.371417",
     "exception": false,
     "start_time": "2024-08-28T20:14:01.356024",
     "status": "completed"
    },
    "tags": []
   },
   "outputs": [
    {
     "data": {
      "text/plain": [
       "'A red fruit'"
      ]
     },
     "execution_count": 4,
     "metadata": {},
     "output_type": "execute_result"
    }
   ],
   "source": [
    "# Dictionaries\n",
    "\n",
    "my_dictionary = {\n",
    "    'apple': 'A red fruit',\n",
    "    'bear': 'A scary animal'\n",
    "}\n",
    "\n",
    "my_dictionary['apple']\n",
    "\n",
    "# They keys in dictionaries also have to be unique"
   ]
  },
  {
   "cell_type": "markdown",
   "id": "c0c1f91c",
   "metadata": {
    "papermill": {
     "duration": 0.003951,
     "end_time": "2024-08-28T20:14:01.379638",
     "exception": false,
     "start_time": "2024-08-28T20:14:01.375687",
     "status": "completed"
    },
    "tags": []
   },
   "source": [
    "**Sets and dictionaries**\n",
    "\n",
    "- Both are defined with curly brackets\n",
    "- Sets have unique values, dictionaries have unique keys\n",
    "- The order of the elements doesn't matter\n",
    "\n",
    "## Operators"
   ]
  },
  {
   "cell_type": "code",
   "execution_count": 5,
   "id": "8ceb5e4d",
   "metadata": {
    "execution": {
     "iopub.execute_input": "2024-08-28T20:14:01.390073Z",
     "iopub.status.busy": "2024-08-28T20:14:01.389638Z",
     "iopub.status.idle": "2024-08-28T20:14:01.399907Z",
     "shell.execute_reply": "2024-08-28T20:14:01.398785Z"
    },
    "papermill": {
     "duration": 0.018301,
     "end_time": "2024-08-28T20:14:01.402474",
     "exception": false,
     "start_time": "2024-08-28T20:14:01.384173",
     "status": "completed"
    },
    "tags": []
   },
   "outputs": [
    {
     "data": {
      "text/plain": [
       "False"
      ]
     },
     "execution_count": 5,
     "metadata": {},
     "output_type": "execute_result"
    }
   ],
   "source": [
    "# Arithmetic Operators\n",
    "\n",
    "1 + 1 \n",
    "4 * 5\n",
    "5 ** 2 # exponent\n",
    "20 / 5 # Notice that this returns a float value rather than an integer\n",
    "20 / 6\n",
    "20 % 6 # modulus operator\n",
    "\n",
    "# Arithmetic Operators with strings\n",
    "\n",
    "'string 1' + 'string 2' # concatenation\n",
    "'- string ' * 4 # repeats the string four times\n",
    "\n",
    "# Comparison\n",
    "\n",
    "True == True # True\n",
    "4 < 5 # True\n",
    "5 <= 5 # True\n",
    "\n",
    "# Logical (and, or, not)\n",
    "\n",
    "True and True # True\n",
    "True and False # False\n",
    "True or False # True\n",
    "False or False # False\n",
    "not True # False\n",
    "not False # True\n",
    "\n",
    "# Membership Operators\n",
    "\n",
    "1 in [1,2,3,4,5] # True\n",
    "10 in [1,2,3,4,5] # False\n",
    "10 not in [1,2,3,4,5] # True\n",
    "'cat' in 'my pet cat' # True\n",
    "'cat' not in 'my pet cat' # False"
   ]
  },
  {
   "cell_type": "markdown",
   "id": "0012dc1e",
   "metadata": {
    "papermill": {
     "duration": 0.004109,
     "end_time": "2024-08-28T20:14:01.411099",
     "exception": false,
     "start_time": "2024-08-28T20:14:01.406990",
     "status": "completed"
    },
    "tags": []
   },
   "source": [
    "## Control Flow"
   ]
  },
  {
   "cell_type": "code",
   "execution_count": 6,
   "id": "3ac95f14",
   "metadata": {
    "execution": {
     "iopub.execute_input": "2024-08-28T20:14:01.421920Z",
     "iopub.status.busy": "2024-08-28T20:14:01.421450Z",
     "iopub.status.idle": "2024-08-28T20:14:01.428384Z",
     "shell.execute_reply": "2024-08-28T20:14:01.427079Z"
    },
    "papermill": {
     "duration": 0.015404,
     "end_time": "2024-08-28T20:14:01.430904",
     "exception": false,
     "start_time": "2024-08-28T20:14:01.415500",
     "status": "completed"
    },
    "tags": []
   },
   "outputs": [
    {
     "name": "stdout",
     "output_type": "stream",
     "text": [
      "1\n",
      "2\n",
      "3\n",
      "4\n",
      "5\n",
      "0\n",
      "1\n",
      "2\n",
      "3\n",
      "4\n"
     ]
    }
   ],
   "source": [
    "# For loops\n",
    "\n",
    "list = [1,2,3,4,5]\n",
    "\n",
    "for item in list:\n",
    "    print(item)\n",
    "\n",
    "# While loops\n",
    "\n",
    "a = 0\n",
    "while a < 5:\n",
    "    print(a)\n",
    "    a += 1"
   ]
  },
  {
   "cell_type": "markdown",
   "id": "fb443adc",
   "metadata": {
    "papermill": {
     "duration": 0.004204,
     "end_time": "2024-08-28T20:14:01.439744",
     "exception": false,
     "start_time": "2024-08-28T20:14:01.435540",
     "status": "completed"
    },
    "tags": []
   },
   "source": [
    "## Fuctions"
   ]
  },
  {
   "cell_type": "code",
   "execution_count": 7,
   "id": "7e1a964c",
   "metadata": {
    "execution": {
     "iopub.execute_input": "2024-08-28T20:14:01.450650Z",
     "iopub.status.busy": "2024-08-28T20:14:01.450223Z",
     "iopub.status.idle": "2024-08-28T20:14:01.457370Z",
     "shell.execute_reply": "2024-08-28T20:14:01.456124Z"
    },
    "papermill": {
     "duration": 0.015726,
     "end_time": "2024-08-28T20:14:01.459892",
     "exception": false,
     "start_time": "2024-08-28T20:14:01.444166",
     "status": "completed"
    },
    "tags": []
   },
   "outputs": [
    {
     "name": "stdout",
     "output_type": "stream",
     "text": [
      "[1, 2, 3, 4]\n"
     ]
    }
   ],
   "source": [
    "def multiplyBy(base, factor):\n",
    "    return base * factor\n",
    "\n",
    "multiplyBy(4, 3)\n",
    "\n",
    "\n",
    "my_list = [1,2,3]\n",
    "\n",
    "def appendFour(list):\n",
    "   list.append(4)\n",
    "\n",
    "appendFour(my_list)\n",
    "print(my_list)"
   ]
  },
  {
   "cell_type": "markdown",
   "id": "47219216",
   "metadata": {
    "papermill": {
     "duration": 0.004392,
     "end_time": "2024-08-28T20:14:01.468951",
     "exception": false,
     "start_time": "2024-08-28T20:14:01.464559",
     "status": "completed"
    },
    "tags": []
   },
   "source": [
    "## Classes and objects\n",
    "\n",
    "A Python class is a great way to keep related collections of functions and attributes labeled and organized"
   ]
  },
  {
   "cell_type": "code",
   "execution_count": 8,
   "id": "962101f0",
   "metadata": {
    "execution": {
     "iopub.execute_input": "2024-08-28T20:14:01.480322Z",
     "iopub.status.busy": "2024-08-28T20:14:01.479576Z",
     "iopub.status.idle": "2024-08-28T20:14:01.486998Z",
     "shell.execute_reply": "2024-08-28T20:14:01.485720Z"
    },
    "papermill": {
     "duration": 0.015999,
     "end_time": "2024-08-28T20:14:01.489519",
     "exception": false,
     "start_time": "2024-08-28T20:14:01.473520",
     "status": "completed"
    },
    "tags": []
   },
   "outputs": [
    {
     "name": "stdout",
     "output_type": "stream",
     "text": [
      "Alf Bark!\n",
      "Ken Bark!\n"
     ]
    }
   ],
   "source": [
    "class Dog:\n",
    "    \n",
    "    # Initialization function\n",
    "    def __init__(self, name):\n",
    "        self.name = name\n",
    "        self.legs = 4\n",
    "    \n",
    "    # The self attribute means that I have access to any of the attributes or functions in this class\n",
    "    def speak(self):\n",
    "        print(self.name + ' Bark!')\n",
    "\n",
    "my_dog = Dog('Alf')\n",
    "another_dog = Dog('Ken')\n",
    "\n",
    "my_dog.speak()\n",
    "another_dog.speak()"
   ]
  }
 ],
 "metadata": {
  "kaggle": {
   "accelerator": "none",
   "dataSources": [],
   "dockerImageVersionId": 30761,
   "isGpuEnabled": false,
   "isInternetEnabled": true,
   "language": "python",
   "sourceType": "notebook"
  },
  "kernelspec": {
   "display_name": "Python 3",
   "language": "python",
   "name": "python3"
  },
  "language_info": {
   "codemirror_mode": {
    "name": "ipython",
    "version": 3
   },
   "file_extension": ".py",
   "mimetype": "text/x-python",
   "name": "python",
   "nbconvert_exporter": "python",
   "pygments_lexer": "ipython3",
   "version": "3.10.14"
  },
  "papermill": {
   "default_parameters": {},
   "duration": 3.550254,
   "end_time": "2024-08-28T20:14:01.915682",
   "environment_variables": {},
   "exception": null,
   "input_path": "__notebook__.ipynb",
   "output_path": "__notebook__.ipynb",
   "parameters": {},
   "start_time": "2024-08-28T20:13:58.365428",
   "version": "2.6.0"
  }
 },
 "nbformat": 4,
 "nbformat_minor": 5
}
