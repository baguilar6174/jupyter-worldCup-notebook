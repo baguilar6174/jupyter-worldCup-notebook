{
 "cells": [
  {
   "cell_type": "markdown",
   "id": "8a427d5b",
   "metadata": {
    "papermill": {
     "duration": 0.00379,
     "end_time": "2024-01-18T00:59:11.984587",
     "exception": false,
     "start_time": "2024-01-18T00:59:11.980797",
     "status": "completed"
    },
    "tags": []
   },
   "source": [
    "# Sleep health and lifestyle\n",
    "\n",
    "In this project we took the Sleep Health and Lifestyle Dataset in where you can find data on different people such as their profession, physical activity and sleep quality. We will take this dataset to know what are the things that affect sleep such as the amount of physical activity, the profession and the pressure to which each person is subjected."
   ]
  },
  {
   "cell_type": "markdown",
   "id": "40c2bef9",
   "metadata": {
    "papermill": {
     "duration": 0.00275,
     "end_time": "2024-01-18T00:59:11.991687",
     "exception": false,
     "start_time": "2024-01-18T00:59:11.988937",
     "status": "completed"
    },
    "tags": []
   },
   "source": [
    "## Import libraries"
   ]
  },
  {
   "cell_type": "code",
   "execution_count": 1,
   "id": "4b7ed926",
   "metadata": {
    "_cell_guid": "b1076dfc-b9ad-4769-8c92-a6c4dae69d19",
    "_uuid": "8f2839f25d086af736a60e9eeb907d3b93b6e0e5",
    "execution": {
     "iopub.execute_input": "2024-01-18T00:59:11.999746Z",
     "iopub.status.busy": "2024-01-18T00:59:11.999235Z",
     "iopub.status.idle": "2024-01-18T00:59:12.436654Z",
     "shell.execute_reply": "2024-01-18T00:59:12.435350Z"
    },
    "papermill": {
     "duration": 0.444707,
     "end_time": "2024-01-18T00:59:12.439529",
     "exception": false,
     "start_time": "2024-01-18T00:59:11.994822",
     "status": "completed"
    },
    "tags": []
   },
   "outputs": [],
   "source": [
    "import numpy as np # linear algebra\n",
    "import pandas as pd # data processing, CSV file I/O (e.g. pd.read_csv)"
   ]
  },
  {
   "cell_type": "markdown",
   "id": "731c5829",
   "metadata": {
    "papermill": {
     "duration": 0.002559,
     "end_time": "2024-01-18T00:59:12.445110",
     "exception": false,
     "start_time": "2024-01-18T00:59:12.442551",
     "status": "completed"
    },
    "tags": []
   },
   "source": [
    "## Load data"
   ]
  },
  {
   "cell_type": "code",
   "execution_count": 2,
   "id": "0c8cc10a",
   "metadata": {
    "execution": {
     "iopub.execute_input": "2024-01-18T00:59:12.452392Z",
     "iopub.status.busy": "2024-01-18T00:59:12.451869Z",
     "iopub.status.idle": "2024-01-18T00:59:12.510859Z",
     "shell.execute_reply": "2024-01-18T00:59:12.509642Z"
    },
    "papermill": {
     "duration": 0.065797,
     "end_time": "2024-01-18T00:59:12.513683",
     "exception": false,
     "start_time": "2024-01-18T00:59:12.447886",
     "status": "completed"
    },
    "tags": []
   },
   "outputs": [
    {
     "data": {
      "text/html": [
       "<div>\n",
       "<style scoped>\n",
       "    .dataframe tbody tr th:only-of-type {\n",
       "        vertical-align: middle;\n",
       "    }\n",
       "\n",
       "    .dataframe tbody tr th {\n",
       "        vertical-align: top;\n",
       "    }\n",
       "\n",
       "    .dataframe thead th {\n",
       "        text-align: right;\n",
       "    }\n",
       "</style>\n",
       "<table border=\"1\" class=\"dataframe\">\n",
       "  <thead>\n",
       "    <tr style=\"text-align: right;\">\n",
       "      <th></th>\n",
       "      <th>Gender</th>\n",
       "      <th>Age</th>\n",
       "      <th>Occupation</th>\n",
       "      <th>Sleep Duration</th>\n",
       "      <th>Quality of Sleep</th>\n",
       "      <th>Physical Activity Level</th>\n",
       "      <th>Stress Level</th>\n",
       "      <th>BMI Category</th>\n",
       "      <th>Blood Pressure</th>\n",
       "      <th>Heart Rate</th>\n",
       "      <th>Daily Steps</th>\n",
       "      <th>Sleep Disorder</th>\n",
       "    </tr>\n",
       "    <tr>\n",
       "      <th>Person ID</th>\n",
       "      <th></th>\n",
       "      <th></th>\n",
       "      <th></th>\n",
       "      <th></th>\n",
       "      <th></th>\n",
       "      <th></th>\n",
       "      <th></th>\n",
       "      <th></th>\n",
       "      <th></th>\n",
       "      <th></th>\n",
       "      <th></th>\n",
       "      <th></th>\n",
       "    </tr>\n",
       "  </thead>\n",
       "  <tbody>\n",
       "    <tr>\n",
       "      <th>1</th>\n",
       "      <td>Male</td>\n",
       "      <td>27</td>\n",
       "      <td>Software Engineer</td>\n",
       "      <td>6.1</td>\n",
       "      <td>6</td>\n",
       "      <td>42</td>\n",
       "      <td>6</td>\n",
       "      <td>Overweight</td>\n",
       "      <td>126/83</td>\n",
       "      <td>77</td>\n",
       "      <td>4200</td>\n",
       "      <td>NaN</td>\n",
       "    </tr>\n",
       "    <tr>\n",
       "      <th>2</th>\n",
       "      <td>Male</td>\n",
       "      <td>28</td>\n",
       "      <td>Doctor</td>\n",
       "      <td>6.2</td>\n",
       "      <td>6</td>\n",
       "      <td>60</td>\n",
       "      <td>8</td>\n",
       "      <td>Normal</td>\n",
       "      <td>125/80</td>\n",
       "      <td>75</td>\n",
       "      <td>10000</td>\n",
       "      <td>NaN</td>\n",
       "    </tr>\n",
       "    <tr>\n",
       "      <th>3</th>\n",
       "      <td>Male</td>\n",
       "      <td>28</td>\n",
       "      <td>Doctor</td>\n",
       "      <td>6.2</td>\n",
       "      <td>6</td>\n",
       "      <td>60</td>\n",
       "      <td>8</td>\n",
       "      <td>Normal</td>\n",
       "      <td>125/80</td>\n",
       "      <td>75</td>\n",
       "      <td>10000</td>\n",
       "      <td>NaN</td>\n",
       "    </tr>\n",
       "    <tr>\n",
       "      <th>4</th>\n",
       "      <td>Male</td>\n",
       "      <td>28</td>\n",
       "      <td>Sales Representative</td>\n",
       "      <td>5.9</td>\n",
       "      <td>4</td>\n",
       "      <td>30</td>\n",
       "      <td>8</td>\n",
       "      <td>Obese</td>\n",
       "      <td>140/90</td>\n",
       "      <td>85</td>\n",
       "      <td>3000</td>\n",
       "      <td>Sleep Apnea</td>\n",
       "    </tr>\n",
       "    <tr>\n",
       "      <th>5</th>\n",
       "      <td>Male</td>\n",
       "      <td>28</td>\n",
       "      <td>Sales Representative</td>\n",
       "      <td>5.9</td>\n",
       "      <td>4</td>\n",
       "      <td>30</td>\n",
       "      <td>8</td>\n",
       "      <td>Obese</td>\n",
       "      <td>140/90</td>\n",
       "      <td>85</td>\n",
       "      <td>3000</td>\n",
       "      <td>Sleep Apnea</td>\n",
       "    </tr>\n",
       "  </tbody>\n",
       "</table>\n",
       "</div>"
      ],
      "text/plain": [
       "          Gender  Age            Occupation  Sleep Duration  Quality of Sleep  \\\n",
       "Person ID                                                                       \n",
       "1           Male   27     Software Engineer             6.1                 6   \n",
       "2           Male   28                Doctor             6.2                 6   \n",
       "3           Male   28                Doctor             6.2                 6   \n",
       "4           Male   28  Sales Representative             5.9                 4   \n",
       "5           Male   28  Sales Representative             5.9                 4   \n",
       "\n",
       "           Physical Activity Level  Stress Level BMI Category Blood Pressure  \\\n",
       "Person ID                                                                      \n",
       "1                               42             6   Overweight         126/83   \n",
       "2                               60             8       Normal         125/80   \n",
       "3                               60             8       Normal         125/80   \n",
       "4                               30             8        Obese         140/90   \n",
       "5                               30             8        Obese         140/90   \n",
       "\n",
       "           Heart Rate  Daily Steps Sleep Disorder  \n",
       "Person ID                                          \n",
       "1                  77         4200            NaN  \n",
       "2                  75        10000            NaN  \n",
       "3                  75        10000            NaN  \n",
       "4                  85         3000    Sleep Apnea  \n",
       "5                  85         3000    Sleep Apnea  "
      ]
     },
     "execution_count": 2,
     "metadata": {},
     "output_type": "execute_result"
    }
   ],
   "source": [
    "data = pd.read_csv(\n",
    "    \"/kaggle/input/sleep-health-and-lifestyle-dataset/Sleep_health_and_lifestyle_dataset.csv\",\n",
    "    index_col = \"Person ID\"\n",
    ")\n",
    "data.head()"
   ]
  },
  {
   "cell_type": "markdown",
   "id": "2542c75c",
   "metadata": {
    "papermill": {
     "duration": 0.003121,
     "end_time": "2024-01-18T00:59:12.520319",
     "exception": false,
     "start_time": "2024-01-18T00:59:12.517198",
     "status": "completed"
    },
    "tags": []
   },
   "source": [
    "## Questions for analysis\n",
    "\n",
    "- Who has worse sleep quality, men or women?\n",
    "- Is there a relationship between people's sleep quality and their profession?\n",
    "- Does physical activity affect sleep?\n",
    "- Which profession has the worst sleep quality?\n",
    "- Which profession have people with the highest level of stress and the highest body mass index?\n",
    "- In what age range are the most sleep disorders found?\n",
    "- Does the number of steps per day affect sleep quality and body mass index?"
   ]
  }
 ],
 "metadata": {
  "kaggle": {
   "accelerator": "none",
   "dataSources": [
    {
     "datasetId": 3321433,
     "sourceId": 6491929,
     "sourceType": "datasetVersion"
    }
   ],
   "dockerImageVersionId": 30635,
   "isGpuEnabled": false,
   "isInternetEnabled": true,
   "language": "python",
   "sourceType": "notebook"
  },
  "kernelspec": {
   "display_name": "Python 3",
   "language": "python",
   "name": "python3"
  },
  "language_info": {
   "codemirror_mode": {
    "name": "ipython",
    "version": 3
   },
   "file_extension": ".py",
   "mimetype": "text/x-python",
   "name": "python",
   "nbconvert_exporter": "python",
   "pygments_lexer": "ipython3",
   "version": "3.10.12"
  },
  "papermill": {
   "default_parameters": {},
   "duration": 4.670431,
   "end_time": "2024-01-18T00:59:13.048641",
   "environment_variables": {},
   "exception": null,
   "input_path": "__notebook__.ipynb",
   "output_path": "__notebook__.ipynb",
   "parameters": {},
   "start_time": "2024-01-18T00:59:08.378210",
   "version": "2.4.0"
  }
 },
 "nbformat": 4,
 "nbformat_minor": 5
}
