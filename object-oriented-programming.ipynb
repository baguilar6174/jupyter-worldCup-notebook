{
 "cells": [
  {
   "cell_type": "markdown",
   "id": "a7bb8d90",
   "metadata": {
    "_cell_guid": "b1076dfc-b9ad-4769-8c92-a6c4dae69d19",
    "_uuid": "8f2839f25d086af736a60e9eeb907d3b93b6e0e5",
    "papermill": {
     "duration": 0.002712,
     "end_time": "2024-09-05T17:49:59.356352",
     "exception": false,
     "start_time": "2024-09-05T17:49:59.353640",
     "status": "completed"
    },
    "tags": []
   },
   "source": [
    "# Python Object-Oriented Programming\n",
    "\n",
    "## Classes and objects\n",
    "\n",
    "- A Python class is a great way to keep related collections of functions and attributes labeled and organized\n",
    "- Groups together data and behavior into one place\n",
    "- Promotes modularization of programs\n",
    "- Isolates different parts of the program from each other,\n",
    "\n",
    "|Class|A blueprint for creating objects of a particular type|\n",
    "|----------|-------------|\n",
    "|Methods|Regular functions that are part of a class|\n",
    "|Attributes|Variables that hold data that are part of class|\n",
    "|Object|A specific instance of a class|\n",
    "|Inheritance|Means by which a class can inherit capabilities from another|\n",
    "|Composition|Means of building complex objects out of other objects|\n",
    "\n",
    "**Abstract base classes**\n",
    "\n",
    "Defines a template fot other classes to inherit from, but with a couple of twists\n",
    "\n",
    "- First, you don't want consumers of your base class to be able to create instances of the base class itself\n",
    "- You want to enforce the constraint that there are certains mathods in the base class that have to be implemented in subclasses"
   ]
  },
  {
   "cell_type": "code",
   "execution_count": 1,
   "id": "cfead85f",
   "metadata": {
    "execution": {
     "iopub.execute_input": "2024-09-05T17:49:59.363886Z",
     "iopub.status.busy": "2024-09-05T17:49:59.362657Z",
     "iopub.status.idle": "2024-09-05T17:49:59.377559Z",
     "shell.execute_reply": "2024-09-05T17:49:59.376280Z"
    },
    "papermill": {
     "duration": 0.021062,
     "end_time": "2024-09-05T17:49:59.379969",
     "exception": false,
     "start_time": "2024-09-05T17:49:59.358907",
     "status": "completed"
    },
    "tags": []
   },
   "outputs": [
    {
     "name": "stdout",
     "output_type": "stream",
     "text": [
      "Alf Bark!\n",
      "Ken Bark!\n",
      "Roxy yap yap yap!\n"
     ]
    }
   ],
   "source": [
    "class Dog:\n",
    "    \n",
    "    # static attributes (this attributes are unchanging with each instance)\n",
    "    _legs = 4 # make this attribute as provate\n",
    "    color = 'White'\n",
    "    \n",
    "    # Initialization function\n",
    "    def __init__(self, name):\n",
    "        self.name = name\n",
    "        \n",
    "    def get_legs(self):\n",
    "        return self._legs\n",
    "    \n",
    "    # The self attribute means that I have access to any of the attributes or functions in this class\n",
    "    def speak(self):\n",
    "        print(self.name + ' Bark!')\n",
    "\n",
    "my_dog = Dog('Alf')\n",
    "another_dog = Dog('Ken')\n",
    "\n",
    "my_dog.speak() # Alf Bark!\n",
    "my_dog.color # 'White'\n",
    "another_dog.speak() # Ken Bark!\n",
    "another_dog.get_legs() # 4\n",
    "\n",
    "Dog.color # 4 'White'\n",
    "\n",
    "# Inheritance\n",
    "\n",
    "class Chihuahua(Dog):\n",
    "    \n",
    "    # override parent's methods\n",
    "    def speak(self):\n",
    "        print(self.name + ' yap yap yap!')\n",
    "\n",
    "chihuahua = Chihuahua('Roxy')\n",
    "chihuahua.speak() # Roxy yap yap yap!"
   ]
  },
  {
   "cell_type": "code",
   "execution_count": 2,
   "id": "b95675d7",
   "metadata": {
    "execution": {
     "iopub.execute_input": "2024-09-05T17:49:59.386579Z",
     "iopub.status.busy": "2024-09-05T17:49:59.386168Z",
     "iopub.status.idle": "2024-09-05T17:49:59.394501Z",
     "shell.execute_reply": "2024-09-05T17:49:59.393481Z"
    },
    "papermill": {
     "duration": 0.014205,
     "end_time": "2024-09-05T17:49:59.396764",
     "exception": false,
     "start_time": "2024-09-05T17:49:59.382559",
     "status": "completed"
    },
    "tags": []
   },
   "outputs": [
    {
     "name": "stdout",
     "output_type": "stream",
     "text": [
      "{'sentence', 'i', \"i'm\", 'a', 'add', 'hi,', 'want', 'bryan', 'here', 'is', 'to', 'another'}\n"
     ]
    }
   ],
   "source": [
    "class WordSet:\n",
    "    \n",
    "    replace_puncs = ['!', '.']\n",
    "    \n",
    "    def __init__(self):\n",
    "        self.words = set()\n",
    "    \n",
    "    # Instance methods\n",
    "    def add_text(self, text):\n",
    "        text = WordSet.clean(text)\n",
    "        for word in text.split():\n",
    "            self.words.add(word)\n",
    "    \n",
    "    # Static methods (without self attribute)\n",
    "    def clean(text):\n",
    "        # text = text.replace('!', '').replace('.', '') # chaining functions\n",
    "        for punct in WordSet.replace_puncs:\n",
    "            text = text.replace(punct, '')\n",
    "        return text.lower()\n",
    "\n",
    "word_set = WordSet()\n",
    "word_set.add_text('Hi, I\\'m Bryan! Here is a sentence I want to add!')\n",
    "word_set.add_text('Here is another sentence I want to add.')\n",
    "\n",
    "print(word_set.words) # {'bryan', 'i', 'add', 'hi,', 'to', 'is', 'another', 'want', 'a', 'sentence', 'here', \"i'm\"}"
   ]
  },
  {
   "cell_type": "code",
   "execution_count": 3,
   "id": "ea36aa5e",
   "metadata": {
    "execution": {
     "iopub.execute_input": "2024-09-05T17:49:59.403748Z",
     "iopub.status.busy": "2024-09-05T17:49:59.402943Z",
     "iopub.status.idle": "2024-09-05T17:49:59.415439Z",
     "shell.execute_reply": "2024-09-05T17:49:59.414294Z"
    },
    "papermill": {
     "duration": 0.018399,
     "end_time": "2024-09-05T17:49:59.417712",
     "exception": false,
     "start_time": "2024-09-05T17:49:59.399313",
     "status": "completed"
    },
    "tags": []
   },
   "outputs": [
    {
     "name": "stdout",
     "output_type": "stream",
     "text": [
      "25.5\n",
      "19.125\n",
      "This is a secret attribute\n",
      "<class '__main__.Book'>\n",
      "True\n",
      "Book Types:  ('HARDCOVER', 'PAPERBACK', 'EBOOK')\n"
     ]
    }
   ],
   "source": [
    "class Book:\n",
    "    \n",
    "    # properties defined at the class level are shared by all instances\n",
    "    BOOK_TYPES = (\"HARDCOVER\", \"PAPERBACK\", \"EBOOK\")\n",
    "    # double-underscore properties are hidden from other classes\n",
    "    __book_list = None\n",
    "    \n",
    "    def __init__(self, title, author, pages, price, book_type):\n",
    "        self.title = title\n",
    "        self.author = author\n",
    "        self.pages = pages\n",
    "        self.price = price\n",
    "        self.__secret = 'This is a secret attribute' # Properties with double underscores are hidden by the interpreter\n",
    "        \n",
    "        if not book_type in Book.BOOK_TYPES:\n",
    "            raise ValueError(f'{book_type} is not a valid type')\n",
    "        else:\n",
    "            self.book_type = book_type\n",
    "    \n",
    "    def get_price(self):\n",
    "        if hasattr(self, \"_discount\"): # Verfify if ab attribute exists in the class\n",
    "            return self.price - (self.price * self._discount)\n",
    "        else:\n",
    "            return self.price\n",
    "    \n",
    "    # instance methods receive a specific object instance as an argument and operate on data specific to that object instance\n",
    "    def set_discount(self, amount):\n",
    "        self._discount = amount\n",
    "    \n",
    "    def set_title(self, new_title):\n",
    "        self.title = new_title\n",
    "    \n",
    "    @classmethod\n",
    "    def get_book_types(cls):\n",
    "        return cls.BOOK_TYPES\n",
    "    \n",
    "    # static method\n",
    "    def get_book_list():\n",
    "        if Book.__book_list == None:\n",
    "            Book.__book_list = []\n",
    "        return Book.__book_list\n",
    "\n",
    "first_book = Book('Title', 'Bryan A', 100, 25.5, \"PAPERBACK\")\n",
    "print(first_book.get_price()) # 25.5\n",
    "first_book.set_discount(0.25)\n",
    "print(first_book.get_price()) # 19.125\n",
    "# print(first_book.__secret) # 'Book' object has no attribute '__secret'\n",
    "print(first_book._Book__secret) # This is a secret attribute\n",
    "print(type(first_book)) # <class '__main__.Book'>\n",
    "print(isinstance(first_book, Book)) # True - compare a specific instance to a known type\n",
    "print(\"Book Types: \", Book.get_book_types())\n",
    "\n",
    "# use static method to access a singleton object\n",
    "the_books = Book.get_book_list()\n",
    "the_books.append(first_book)"
   ]
  },
  {
   "cell_type": "code",
   "execution_count": 4,
   "id": "fb88fd34",
   "metadata": {
    "execution": {
     "iopub.execute_input": "2024-09-05T17:49:59.425005Z",
     "iopub.status.busy": "2024-09-05T17:49:59.424580Z",
     "iopub.status.idle": "2024-09-05T17:49:59.434479Z",
     "shell.execute_reply": "2024-09-05T17:49:59.433197Z"
    },
    "papermill": {
     "duration": 0.016481,
     "end_time": "2024-09-05T17:49:59.436888",
     "exception": false,
     "start_time": "2024-09-05T17:49:59.420407",
     "status": "completed"
    },
    "tags": []
   },
   "outputs": [
    {
     "name": "stdout",
     "output_type": "stream",
     "text": [
      "314.0\n",
      "144\n"
     ]
    }
   ],
   "source": [
    "# Usinf Abstract base classes to enforce class constraints\n",
    "\n",
    "from abc import ABC, abstractmethod\n",
    "\n",
    "class GraphicShape(ABC):\n",
    "    def __init__(self):\n",
    "        super().__init__()\n",
    "    \n",
    "    @abstractmethod\n",
    "    def calc_area(self):\n",
    "        pass\n",
    "\n",
    "class Circle(GraphicShape):\n",
    "    def __init__(self, radious):\n",
    "        self.radious = radious\n",
    "    \n",
    "    def calc_area(self):\n",
    "        return 3.14 * (self.radious ** 2)\n",
    "\n",
    "class Square(GraphicShape):\n",
    "    def __init__(self, side):\n",
    "        self.side = side\n",
    "        \n",
    "    def calc_area(self):\n",
    "        return self.side ** 2\n",
    "\n",
    "# graphic_shape = GraphicShape() # Can't instantiate abstract class GraphicShape with abstract method calc_area\n",
    "\n",
    "circle = Circle(10)\n",
    "print(circle.calc_area())\n",
    "\n",
    "square = Square(12)\n",
    "print(square.calc_area())"
   ]
  }
 ],
 "metadata": {
  "kaggle": {
   "accelerator": "none",
   "dataSources": [],
   "dockerImageVersionId": 30761,
   "isGpuEnabled": false,
   "isInternetEnabled": true,
   "language": "python",
   "sourceType": "notebook"
  },
  "kernelspec": {
   "display_name": "Python 3",
   "language": "python",
   "name": "python3"
  },
  "language_info": {
   "codemirror_mode": {
    "name": "ipython",
    "version": 3
   },
   "file_extension": ".py",
   "mimetype": "text/x-python",
   "name": "python",
   "nbconvert_exporter": "python",
   "pygments_lexer": "ipython3",
   "version": "3.10.14"
  },
  "papermill": {
   "default_parameters": {},
   "duration": 3.863647,
   "end_time": "2024-09-05T17:49:59.860968",
   "environment_variables": {},
   "exception": null,
   "input_path": "__notebook__.ipynb",
   "output_path": "__notebook__.ipynb",
   "parameters": {},
   "start_time": "2024-09-05T17:49:55.997321",
   "version": "2.6.0"
  }
 },
 "nbformat": 4,
 "nbformat_minor": 5
}
